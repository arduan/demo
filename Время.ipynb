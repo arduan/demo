{
  "nbformat": 4,
  "nbformat_minor": 0,
  "metadata": {
    "colab": {
      "name": "Время.ipynb",
      "provenance": [],
      "authorship_tag": "ABX9TyMqZmeIbHKeLabRHrFCggDm",
      "include_colab_link": true
    },
    "kernelspec": {
      "name": "python3",
      "display_name": "Python 3"
    },
    "language_info": {
      "name": "python"
    }
  },
  "cells": [
    {
      "cell_type": "markdown",
      "metadata": {
        "id": "view-in-github",
        "colab_type": "text"
      },
      "source": [
        "<a href=\"https://colab.research.google.com/github/arduan/demo/blob/master/%D0%92%D1%80%D0%B5%D0%BC%D1%8F.ipynb\" target=\"_parent\"><img src=\"https://colab.research.google.com/assets/colab-badge.svg\" alt=\"Open In Colab\"/></a>"
      ]
    },
    {
      "cell_type": "code",
      "metadata": {
        "colab": {
          "base_uri": "https://localhost:8080/"
        },
        "id": "kP4Zx5DalRll",
        "outputId": "d0e426d9-293e-4126-fd50-1f8a2f627fda"
      },
      "source": [
        "# !pip install -U arrow\n",
        "import arrow\n",
        "\n",
        "now = arrow.now()\n",
        "print(now.format())\n",
        "\n",
        "print(now.humanize())\n",
        "now = now.shift(hours=-2)\n",
        "print(now.format())\n",
        "\n",
        "local = now.to('US/Pacific')\n",
        "print(local.format())\n",
        "\n",
        "print(local.format('DD.MM.YY HH:mm:ss'))"
      ],
      "execution_count": 11,
      "outputs": [
        {
          "output_type": "stream",
          "text": [
            "2021-08-12 13:48:46+00:00\n",
            "just now\n",
            "2021-08-12 11:48:46+00:00\n",
            "2021-08-12 04:48:46-07:00\n",
            "12.08.21 04:48:46\n"
          ],
          "name": "stdout"
        }
      ]
    }
  ]
}