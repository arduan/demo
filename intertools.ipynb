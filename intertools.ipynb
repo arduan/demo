{
  "nbformat": 4,
  "nbformat_minor": 0,
  "metadata": {
    "colab": {
      "name": "intertools.ipynb",
      "provenance": [],
      "authorship_tag": "ABX9TyPE5pRunYNuH6Q+iN4KsvOE",
      "include_colab_link": true
    },
    "kernelspec": {
      "name": "python3",
      "display_name": "Python 3"
    },
    "language_info": {
      "name": "python"
    }
  },
  "cells": [
    {
      "cell_type": "markdown",
      "metadata": {
        "id": "view-in-github",
        "colab_type": "text"
      },
      "source": [
        "<a href=\"https://colab.research.google.com/github/arduan/demo/blob/master/intertools.ipynb\" target=\"_parent\"><img src=\"https://colab.research.google.com/assets/colab-badge.svg\" alt=\"Open In Colab\"/></a>"
      ]
    },
    {
      "cell_type": "code",
      "metadata": {
        "colab": {
          "base_uri": "https://localhost:8080/"
        },
        "id": "sPBvkZqk794d",
        "outputId": "7cf5804c-84a4-42a3-c696-ab86493c983a"
      },
      "source": [
        "import itertools\n",
        "\n",
        "# combinations: она позволяет составлять комбинации элементов из итерируемых объектов без повторений. \n",
        "# Первый аргумент это сам объект, а второй — длина комбинации.\n",
        "list(itertools.combinations([1,2,3,4],3))\n",
        "\n",
        "\n",
        "# Для того, чтобы составить комбинацию с повторениями, используют функцию combinations_with_replacement. \n",
        "# Делает она абсолютно все то же самое что и предыдущая, с одним исключением – теперь в комбинации могут быть повторы.\n",
        "list(itertools.combinations_with_replacement([1,2,3],2))\n",
        "\n",
        "\n",
        "# compress, применяющую \"маску\" из второго аргумента функции к первому. \n",
        "# То есть, если в маске на этом месте стоит единица, то в исходном массиве элемент остается нетронутым, и наоборот.\n",
        "list(itertools.compress([1,2,3,4],[1,0,1,1]))\n",
        "\n"
      ],
      "execution_count": 7,
      "outputs": [
        {
          "output_type": "execute_result",
          "data": {
            "text/plain": [
              "[1, 3, 4]"
            ]
          },
          "metadata": {},
          "execution_count": 7
        }
      ]
    }
  ]
}