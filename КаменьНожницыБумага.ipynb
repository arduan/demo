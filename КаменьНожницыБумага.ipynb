{
  "nbformat": 4,
  "nbformat_minor": 0,
  "metadata": {
    "colab": {
      "name": "КаменьНожницыБумага.ipynb",
      "provenance": [],
      "authorship_tag": "ABX9TyONBX5jNamPhdbOHSZqXs7f",
      "include_colab_link": true
    },
    "kernelspec": {
      "name": "python3",
      "display_name": "Python 3"
    },
    "language_info": {
      "name": "python"
    }
  },
  "cells": [
    {
      "cell_type": "markdown",
      "metadata": {
        "id": "view-in-github",
        "colab_type": "text"
      },
      "source": [
        "<a href=\"https://colab.research.google.com/github/arduan/demo/blob/master/%D0%9A%D0%B0%D0%BC%D0%B5%D0%BD%D1%8C%D0%9D%D0%BE%D0%B6%D0%BD%D0%B8%D1%86%D1%8B%D0%91%D1%83%D0%BC%D0%B0%D0%B3%D0%B0.ipynb\" target=\"_parent\"><img src=\"https://colab.research.google.com/assets/colab-badge.svg\" alt=\"Open In Colab\"/></a>"
      ]
    },
    {
      "cell_type": "code",
      "metadata": {
        "colab": {
          "base_uri": "https://localhost:8080/",
          "height": 302
        },
        "id": "8fFj31CfmObe",
        "outputId": "3ad73e3c-b1fd-42a7-b5e7-42d170b360e2"
      },
      "source": [
        "\n",
        "import random\n",
        "\n",
        "while True:\n",
        "    user_action = input(\"Enter a choice (rock, paper, scissors): \")\n",
        "    possible_actions = [\"rock\", \"paper\", \"scissors\"]\n",
        "    computer_action = random.choice(possible_actions)\n",
        "    print(f\"\\nYou chose {user_action}, computer chose {computer_action}.\\n\")\n",
        "\n",
        "    if user_action == computer_action:\n",
        "        print(f\"Both players selected {user_action}. It's a tie!\")\n",
        "    elif user_action == \"rock\":\n",
        "        if computer_action == \"scissors\":\n",
        "            print(\"Rock smashes scissors! You win!\")\n",
        "        else:\n",
        "            print(\"Paper covers rock! You lose.\")\n",
        "    elif user_action == \"paper\":\n",
        "        if computer_action == \"rock\":\n",
        "            print(\"Paper covers rock! You win!\")\n",
        "        else:\n",
        "            print(\"Scissors cuts paper! You lose.\")\n",
        "    elif user_action == \"scissors\":\n",
        "        if computer_action == \"paper\":\n",
        "            print(\"Scissors cuts paper! You win!\")\n",
        "        else:\n",
        "            print(\"Rock smashes scissors! You lose.\")\n",
        "\n",
        "    play_again = input(\"Play again? (yes/no): \")\n",
        "    if play_again.lower() != \"yes\":\n",
        "        break"
      ],
      "execution_count": 1,
      "outputs": [
        {
          "output_type": "stream",
          "text": [
            "Enter a choice (rock, paper, scissors): rock\n",
            "\n",
            "You chose rock, computer chose scissors.\n",
            "\n",
            "Rock smashes scissors! You win!\n",
            "Play again? (yes/no): no\n"
          ],
          "name": "stdout"
        },
        {
          "output_type": "error",
          "ename": "NameError",
          "evalue": "ignored",
          "traceback": [
            "\u001b[0;31m---------------------------------------------------------------------------\u001b[0m",
            "\u001b[0;31mNameError\u001b[0m                                 Traceback (most recent call last)",
            "\u001b[0;32m<ipython-input-1-3da4596e2581>\u001b[0m in \u001b[0;36m<module>\u001b[0;34m()\u001b[0m\n\u001b[1;32m     28\u001b[0m     \u001b[0mplay_again\u001b[0m \u001b[0;34m=\u001b[0m \u001b[0minput\u001b[0m\u001b[0;34m(\u001b[0m\u001b[0;34m\"Play again? (yes/no): \"\u001b[0m\u001b[0;34m)\u001b[0m\u001b[0;34m\u001b[0m\u001b[0;34m\u001b[0m\u001b[0m\n\u001b[1;32m     29\u001b[0m     \u001b[0;32mif\u001b[0m \u001b[0mplay_again\u001b[0m\u001b[0;34m.\u001b[0m\u001b[0mlower\u001b[0m\u001b[0;34m(\u001b[0m\u001b[0;34m)\u001b[0m \u001b[0;34m!=\u001b[0m \u001b[0;34m\"yes\"\u001b[0m\u001b[0;34m:\u001b[0m\u001b[0;34m\u001b[0m\u001b[0;34m\u001b[0m\u001b[0m\n\u001b[0;32m---> 30\u001b[0;31m         \u001b[0mbreakSc\u001b[0m\u001b[0;34m\u001b[0m\u001b[0;34m\u001b[0m\u001b[0m\n\u001b[0m",
            "\u001b[0;31mNameError\u001b[0m: name 'breakSc' is not defined"
          ]
        }
      ]
    }
  ]
}