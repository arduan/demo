{
  "nbformat": 4,
  "nbformat_minor": 0,
  "metadata": {
    "colab": {
      "name": "file_sorter.ipynb",
      "provenance": [],
      "authorship_tag": "ABX9TyP1wcHjNFHNc5cTa5G0kBev",
      "include_colab_link": true
    },
    "kernelspec": {
      "name": "python3",
      "display_name": "Python 3"
    },
    "language_info": {
      "name": "python"
    }
  },
  "cells": [
    {
      "cell_type": "markdown",
      "metadata": {
        "id": "view-in-github",
        "colab_type": "text"
      },
      "source": [
        "<a href=\"https://colab.research.google.com/github/arduan/demo/blob/master/file_sorter.ipynb\" target=\"_parent\"><img src=\"https://colab.research.google.com/assets/colab-badge.svg\" alt=\"Open In Colab\"/></a>"
      ]
    },
    {
      "cell_type": "code",
      "metadata": {
        "colab": {
          "base_uri": "https://localhost:8080/",
          "height": 422
        },
        "id": "iTQwYBsemXZX",
        "outputId": "753b8cb9-1208-4b58-8db8-515be45d2287"
      },
      "source": [
        "import os\n",
        "\n",
        "folder_path = 'disk:\\\\folder\\\\another-folder'\n",
        "# folder_path = 'd:\\\\downloads'\n",
        "\n",
        "# key names will be folder names!\n",
        "extensions = {\n",
        "\n",
        "    'video': ['mp4', 'mov', 'avi', 'mkv', 'wmv', '3gp', '3g2', 'mpg', 'mpeg', 'm4v', 'h264', 'flv',\n",
        "              'rm', 'swf', 'vob'],\n",
        "\n",
        "    'data': ['sql', 'sqlite', 'sqlite3', 'csv', 'dat', 'db', 'log', 'mdb', 'sav', 'tar', 'xml'],\n",
        "\n",
        "    'audio': ['mp3', 'wav', 'ogg', 'flac', 'aif', 'mid', 'midi', 'mpa', 'wma', 'wpl', 'cda'],\n",
        "\n",
        "    'image': ['jpg', 'png', 'bmp', 'ai', 'psd', 'ico', 'jpeg', 'ps', 'svg', 'tif', 'tiff'],\n",
        "\n",
        "    'archive': ['zip', 'rar', '7z', 'z', 'gz', 'rpm', 'arj', 'pkg', 'deb'],\n",
        "\n",
        "    'text': ['pdf', 'txt', 'doc', 'docx', 'rtf', 'tex', 'wpd', 'odt'],\n",
        "\n",
        "    '3d': ['stl', 'obj', 'fbx', 'dae', '3ds', 'iges', 'step'],\n",
        "\n",
        "    'presentation': ['pptx', 'ppt', 'pps', 'key', 'odp'],\n",
        "\n",
        "    'spreadsheet': ['xlsx', 'xls', 'xlsm', 'ods'],\n",
        "\n",
        "    'font': ['otf', 'ttf', 'fon', 'fnt'],\n",
        "\n",
        "    'gif': ['gif'],\n",
        "\n",
        "    'bat': ['bat'],\n",
        "\n",
        "    'apk': ['apk']\n",
        "\n",
        "    # 'exe': ['exe'],\n",
        "\n",
        "    # 'folder-name': ['extension-name', 'another-extension']\n",
        "}\n",
        "\n",
        "\n",
        "# also creates folders from dictionary keys\n",
        "def create_folders_from_list(folder_names):\n",
        "    for fn in folder_names:\n",
        "        if not os.path.exists(os.path.join(folder_path, fn)):\n",
        "            print(\"Creating\", fn, 'folder\\n')\n",
        "            os.mkdir(os.path.join(folder_path, fn))\n",
        "\n",
        "\n",
        "def get_subfolder_paths():\n",
        "    for fp in os.scandir(folder_path):\n",
        "        if fp.is_dir():\n",
        "            yield fp.path\n",
        "\n",
        "\n",
        "def get_file_paths():\n",
        "    for fp in os.scandir(folder_path):\n",
        "        if not fp.is_dir():\n",
        "            yield fp.path\n",
        "\n",
        "\n",
        "def sort_files():\n",
        "    file_paths = get_file_paths()\n",
        "    ext_items_list = list(extensions.items())\n",
        "\n",
        "    for fp in file_paths:\n",
        "        extension = fp.split('.')[-1]\n",
        "        file_name = os.path.split(fp)[-1]\n",
        "\n",
        "        for dict_key in enumerate(ext_items_list):\n",
        "            subfolder_name = ext_items_list[dict_key[0]][0]\n",
        "            ext_list = ext_items_list[dict_key[0]][1]\n",
        "\n",
        "            if extension in ext_list:\n",
        "                print(f'Moving {file_name} in {subfolder_name} folder\\n')\n",
        "                # os.rename(fp, os.path.join(folder_path, subfolder_name, file_name))\n",
        "\n",
        "\n",
        "def remove_empty_folders():\n",
        "    subfolder_paths = get_subfolder_paths()\n",
        "\n",
        "    for sp in subfolder_paths:\n",
        "        if not os.listdir(sp):\n",
        "            print('Deleting', os.path.basename(sp), 'folder\\n')\n",
        "            os.rmdir(sp)\n",
        "\n",
        "\n",
        "if __name__ == \"__main__\":\n",
        "    print(\"# # # Creating folders # # #\\n\")\n",
        "    create_folders_from_list(extensions)\n",
        "\n",
        "    print(\"# # # Sorting files # # #\\n\")\n",
        "    sort_files()\n",
        "\n",
        "    print(\"# # # Removing empty folders # # #\\n\")\n",
        "    remove_empty_folders()\n",
        "# © 2021 GitHub, Inc."
      ],
      "execution_count": 2,
      "outputs": [
        {
          "output_type": "stream",
          "text": [
            "# # # Creating folders # # #\n",
            "\n",
            "Creating video folder\n",
            "\n"
          ],
          "name": "stdout"
        },
        {
          "output_type": "error",
          "ename": "FileNotFoundError",
          "evalue": "ignored",
          "traceback": [
            "\u001b[0;31m---------------------------------------------------------------------------\u001b[0m",
            "\u001b[0;31mFileNotFoundError\u001b[0m                         Traceback (most recent call last)",
            "\u001b[0;32m<ipython-input-2-f78c17619a7c>\u001b[0m in \u001b[0;36m<module>\u001b[0;34m()\u001b[0m\n\u001b[1;32m     88\u001b[0m \u001b[0;32mif\u001b[0m \u001b[0m__name__\u001b[0m \u001b[0;34m==\u001b[0m \u001b[0;34m\"__main__\"\u001b[0m\u001b[0;34m:\u001b[0m\u001b[0;34m\u001b[0m\u001b[0;34m\u001b[0m\u001b[0m\n\u001b[1;32m     89\u001b[0m     \u001b[0mprint\u001b[0m\u001b[0;34m(\u001b[0m\u001b[0;34m\"# # # Creating folders # # #\\n\"\u001b[0m\u001b[0;34m)\u001b[0m\u001b[0;34m\u001b[0m\u001b[0;34m\u001b[0m\u001b[0m\n\u001b[0;32m---> 90\u001b[0;31m     \u001b[0mcreate_folders_from_list\u001b[0m\u001b[0;34m(\u001b[0m\u001b[0mextensions\u001b[0m\u001b[0;34m)\u001b[0m\u001b[0;34m\u001b[0m\u001b[0;34m\u001b[0m\u001b[0m\n\u001b[0m\u001b[1;32m     91\u001b[0m \u001b[0;34m\u001b[0m\u001b[0m\n\u001b[1;32m     92\u001b[0m     \u001b[0mprint\u001b[0m\u001b[0;34m(\u001b[0m\u001b[0;34m\"# # # Sorting files # # #\\n\"\u001b[0m\u001b[0;34m)\u001b[0m\u001b[0;34m\u001b[0m\u001b[0;34m\u001b[0m\u001b[0m\n",
            "\u001b[0;32m<ipython-input-2-f78c17619a7c>\u001b[0m in \u001b[0;36mcreate_folders_from_list\u001b[0;34m(folder_names)\u001b[0m\n\u001b[1;32m     45\u001b[0m         \u001b[0;32mif\u001b[0m \u001b[0;32mnot\u001b[0m \u001b[0mos\u001b[0m\u001b[0;34m.\u001b[0m\u001b[0mpath\u001b[0m\u001b[0;34m.\u001b[0m\u001b[0mexists\u001b[0m\u001b[0;34m(\u001b[0m\u001b[0mos\u001b[0m\u001b[0;34m.\u001b[0m\u001b[0mpath\u001b[0m\u001b[0;34m.\u001b[0m\u001b[0mjoin\u001b[0m\u001b[0;34m(\u001b[0m\u001b[0mfolder_path\u001b[0m\u001b[0;34m,\u001b[0m \u001b[0mfn\u001b[0m\u001b[0;34m)\u001b[0m\u001b[0;34m)\u001b[0m\u001b[0;34m:\u001b[0m\u001b[0;34m\u001b[0m\u001b[0;34m\u001b[0m\u001b[0m\n\u001b[1;32m     46\u001b[0m             \u001b[0mprint\u001b[0m\u001b[0;34m(\u001b[0m\u001b[0;34m\"Creating\"\u001b[0m\u001b[0;34m,\u001b[0m \u001b[0mfn\u001b[0m\u001b[0;34m,\u001b[0m \u001b[0;34m'folder\\n'\u001b[0m\u001b[0;34m)\u001b[0m\u001b[0;34m\u001b[0m\u001b[0;34m\u001b[0m\u001b[0m\n\u001b[0;32m---> 47\u001b[0;31m             \u001b[0mos\u001b[0m\u001b[0;34m.\u001b[0m\u001b[0mmkdir\u001b[0m\u001b[0;34m(\u001b[0m\u001b[0mos\u001b[0m\u001b[0;34m.\u001b[0m\u001b[0mpath\u001b[0m\u001b[0;34m.\u001b[0m\u001b[0mjoin\u001b[0m\u001b[0;34m(\u001b[0m\u001b[0mfolder_path\u001b[0m\u001b[0;34m,\u001b[0m \u001b[0mfn\u001b[0m\u001b[0;34m)\u001b[0m\u001b[0;34m)\u001b[0m\u001b[0;34m\u001b[0m\u001b[0;34m\u001b[0m\u001b[0m\n\u001b[0m\u001b[1;32m     48\u001b[0m \u001b[0;34m\u001b[0m\u001b[0m\n\u001b[1;32m     49\u001b[0m \u001b[0;34m\u001b[0m\u001b[0m\n",
            "\u001b[0;31mFileNotFoundError\u001b[0m: [Errno 2] No such file or directory: 'disk:\\\\folder\\\\another-folder/video'"
          ]
        }
      ]
    }
  ]
}