{
  "nbformat": 4,
  "nbformat_minor": 0,
  "metadata": {
    "colab": {
      "name": "Сканер портов на Python.ipynb",
      "provenance": [],
      "authorship_tag": "ABX9TyMEOcrDbBIYRnpvXXYlSOS/",
      "include_colab_link": true
    },
    "kernelspec": {
      "name": "python3",
      "display_name": "Python 3"
    },
    "language_info": {
      "name": "python"
    }
  },
  "cells": [
    {
      "cell_type": "markdown",
      "metadata": {
        "id": "view-in-github",
        "colab_type": "text"
      },
      "source": [
        "<a href=\"https://colab.research.google.com/github/arduan/demo/blob/master/%D0%A1%D0%BA%D0%B0%D0%BD%D0%B5%D1%80_%D0%BF%D0%BE%D1%80%D1%82%D0%BE%D0%B2_%D0%BD%D0%B0_Python.ipynb\" target=\"_parent\"><img src=\"https://colab.research.google.com/assets/colab-badge.svg\" alt=\"Open In Colab\"/></a>"
      ]
    },
    {
      "cell_type": "code",
      "metadata": {
        "colab": {
          "base_uri": "https://localhost:8080/",
          "height": 130
        },
        "id": "xRrTRFnIxIv2",
        "outputId": "cee1f90c-9f8f-4160-fdb7-d33b2d18336b"
      },
      "source": [
        "import socket\n",
        "# Список портов для сканирования\n",
        "ports = [20, 21, 22, 23, 25, 42, 43, 53, 67, 69, 80, 110, 115, 123, 137, 138, 139, 143, 161, 179, 443, 445, 514, 515, 993, 995, 1080, 1194, 1433, 1702, 1723, 3128, 3268, 3306, 3389, 5432, 5060, 5900, 5938, 8080, 10000, 20000]\n",
        "host = input('Введи имя сайта без http/https или IP-адрес: ')\n",
        "print (\"Ожидай, идет сканирование портов!\")\n",
        "# В цикле перебираем порты из списка\n",
        "for port in ports:\n",
        "    # Создаем сокет\n",
        "    s = socket.socket()\n",
        "    # Ставим тайм-аут в одну cекунду\n",
        "    s.settimeout(1)\n",
        "    # Ловим ошибки\n",
        "    try:127.192\n",
        "    # Пробуем соединиться, хост и порт передаем как список\n",
        "        s.connect((host, port))\n",
        "    # Если соединение вызвало ошибку\n",
        "    except socket.error:\n",
        "    # тогда ничего не делаем\n",
        "        pass\n",
        "    else:\n",
        "        print(f\"{host}: {port} порт активен\")\n",
        "    # Закрываем соединение\n",
        "        s.close\n",
        "print (\"Сканирование завершено!\")"
      ],
      "execution_count": 4,
      "outputs": [
        {
          "output_type": "error",
          "ename": "IndentationError",
          "evalue": "ignored",
          "traceback": [
            "\u001b[0;36m  File \u001b[0;32m\"<ipython-input-4-f4e33c9062da>\"\u001b[0;36m, line \u001b[0;32m15\u001b[0m\n\u001b[0;31m    s.connect((host, port))\u001b[0m\n\u001b[0m    ^\u001b[0m\n\u001b[0;31mIndentationError\u001b[0m\u001b[0;31m:\u001b[0m unexpected indent\n"
          ]
        }
      ]
    }
  ]
}