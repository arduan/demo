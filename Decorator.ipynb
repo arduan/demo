{
  "nbformat": 4,
  "nbformat_minor": 0,
  "metadata": {
    "colab": {
      "name": "Decorator.ipynb",
      "provenance": [],
      "collapsed_sections": [],
      "authorship_tag": "ABX9TyNPZINLcF8lVWJzKE3ljL6S",
      "include_colab_link": true
    },
    "kernelspec": {
      "name": "python3",
      "display_name": "Python 3"
    },
    "language_info": {
      "name": "python"
    }
  },
  "cells": [
    {
      "cell_type": "markdown",
      "metadata": {
        "id": "view-in-github",
        "colab_type": "text"
      },
      "source": [
        "<a href=\"https://colab.research.google.com/github/arduan/demo/blob/master/Decorator.ipynb\" target=\"_parent\"><img src=\"https://colab.research.google.com/assets/colab-badge.svg\" alt=\"Open In Colab\"/></a>"
      ]
    },
    {
      "cell_type": "code",
      "metadata": {
        "id": "Mmq5JaZDBvi0",
        "colab": {
          "base_uri": "https://localhost:8080/"
        },
        "outputId": "41fe631b-6539-4ea0-8f09-be4ffb5021d8"
      },
      "source": [
        "# Декрораторы\n",
        "\n",
        "# Как работают декораторы\n",
        "def decorator_function(wrapped_func):\n",
        "    def wrapper():\n",
        "        print('Входим в функцию-обёртку')\n",
        "        print('Оборачиваемая функция: ', wrapped_func)\n",
        "        print('Выполняем обёрнутую функцию...')\n",
        "        wrapped_func()\n",
        "        print('Выходим из обёртки')\n",
        "    return wrapper\n",
        "# Так выглядит функция-декоратор. Как вы можете увидеть, она принимает в качестве аргумента другую функцию. \n",
        "# Затем с этой функцией что-то делают внутри вложенной функции-обёртки и возвращают из декоратора уже обёртку вместо исходной функции.\n",
        "# Теперь можно декорировать:\n",
        "@decorator_function\n",
        "def hello_world():\n",
        "        print('Hello world!')\n",
        "hello_world()\n",
        "# Здесь декоратор получает функцию hello_world, и подменяет её своей вложенной функцией wrapper.\n",
        "\n",
        "# Важно помнить!\n",
        "# Декоратор исполняется только один раз: при объявлении оборачиваемой функции. При дальнейшем вызове функции исполняется только вложенная функция wrapper.\n",
        "\n",
        "\n",
        "# У функции, которую мы декорируем, могут быть аргументы. Принимает их вложенная функция wrapper:\n",
        "def decorator_function(wrapped_func):\n",
        "    def wrapper(*args):\n",
        "        ...\n",
        "        wrapped_func(args)\n",
        "        ...\n",
        "    return wrapper\n",
        "  \n",
        "@decorator_function\n",
        "def hello_world(text):\n",
        "        print(text)\n",
        "    \n",
        "hello_world('Hello world!')\n",
        "\n",
        "# А ещё, аргументы могут быть переданы непосредственно в декоратор:\n",
        "def fictive(decorator_text):\n",
        "    def decorator_function(wrapped_func):\n",
        "        \n",
        "        def wrapper(*args):\n",
        "            print(decorator_text, end='')\n",
        "            wrapped_func(*args)\n",
        "        return wrapper\n",
        "    \n",
        "    return decorator_function\n",
        "\n",
        "@fictive(decorator_text='Hello, ')\n",
        "def hello_world(text):\n",
        "        print(text)\n",
        "hello_world('world!')\n",
        "\n",
        "# Здесь аргумент decorator_text передаётся при декорировании в строке №11 и попадает в функцию fictive, строка №1. \n",
        "# Таким образом, появился ещё один уровень вложенности только для того, чтобы принять аргументы декоратора.\n"
      ],
      "execution_count": null,
      "outputs": [
        {
          "output_type": "stream",
          "text": [
            "Входим в функцию-обёртку\n",
            "Оборачиваемая функция:  <function hello_world at 0x7f42b7b12e60>\n",
            "Выполняем обёрнутую функцию...\n",
            "Hello world!\n",
            "Выходим из обёртки\n",
            "('Hello world!',)\n",
            "Hello, world!\n"
          ],
          "name": "stdout"
        }
      ]
    },
    {
      "cell_type": "code",
      "metadata": {
        "id": "a6uHXDdArqrJ",
        "colab": {
          "base_uri": "https://localhost:8080/"
        },
        "outputId": "724ae163-fa6b-4964-fcbf-b932815d7189"
      },
      "source": [
        "# Пойдём дальше. А что, если декоратор может быть, в одних случаях с аргументами, в других - без аргументов? Поехали!\n",
        "\n",
        "def fictive(_func=None, *, decorator_text=''):\n",
        "    def decorator_function(wrapped_func):\n",
        "        def wrapper(*args):\n",
        "            print(decorator_text, end='')\n",
        "            wrapped_func(*args)\n",
        "        return wrapper\n",
        "    if _func is None:\n",
        "        return decorator_function\n",
        "    else:\n",
        "        return decorator_function(_func)\n",
        "      \n",
        "@fictive\n",
        "def hello_world(text):\n",
        "        print(text)\n",
        "hello_world('Hello, world!')\n",
        "\n",
        "@fictive(decorator_text='Hi, ')\n",
        "def say(text):\n",
        "        print(text)\n",
        "say('world!')\n",
        "\n"
      ],
      "execution_count": null,
      "outputs": [
        {
          "output_type": "stream",
          "text": [
            "Hello, world!\n",
            "Hi, world!\n"
          ],
          "name": "stdout"
        }
      ]
    },
    {
      "cell_type": "code",
      "metadata": {
        "id": "8EmXTWQ5dBBL",
        "outputId": "475f6bc7-d8a8-4c37-c313-d32aa1a91d9c",
        "colab": {
          "base_uri": "https://localhost:8080/"
        }
      },
      "source": [
        "# Декоратор — это функция, которая позволяет обернуть другую функцию для расширения её функциональности \n",
        "# без непосредственного изменения её кода.\n",
        "def decorator_function(func):\n",
        "    def wrapper():\n",
        "        print('Функция-обёртка!')\n",
        "        print('Оборачиваемая функция: {}'.format(func))\n",
        "        print('Выполняем обёрнутую функцию...')\n",
        "        func()\n",
        "        print('Выходим из обёртки')\n",
        "    return wrapper\n",
        "\n",
        "@decorator_function\n",
        "def hello_world():\n",
        "    print('Hello world!')\n",
        "hello_world()"
      ],
      "execution_count": 6,
      "outputs": [
        {
          "output_type": "stream",
          "text": [
            "Функция-обёртка!\n",
            "Оборачиваемая функция: <function hello_world at 0x7fba3a53f200>\n",
            "Выполняем обёрнутую функцию...\n",
            "Hello world!\n",
            "Выходим из обёртки\n"
          ],
          "name": "stdout"
        }
      ]
    },
    {
      "cell_type": "markdown",
      "metadata": {
        "id": "2U1G2rGudgXj"
      },
      "source": [
        "Здесь decorator_function() является функцией-декоратором. Как вы могли заметить, она является функцией высшего порядка, так как принимает функцию в качестве аргумента, а также возвращает функцию. Внутри decorator_function() мы определили другую функцию, обёртку, так сказать, которая обёртывает функцию-аргумент и затем изменяет её поведение. Декоратор возвращает эту обёртку. "
      ]
    }
  ]
}