{
  "nbformat": 4,
  "nbformat_minor": 0,
  "metadata": {
    "colab": {
      "name": "Decorator.ipynb",
      "provenance": [],
      "authorship_tag": "ABX9TyNqOYIOftZ/qfwQM2cU40RQ",
      "include_colab_link": true
    },
    "kernelspec": {
      "name": "python3",
      "display_name": "Python 3"
    },
    "language_info": {
      "name": "python"
    }
  },
  "cells": [
    {
      "cell_type": "markdown",
      "metadata": {
        "id": "view-in-github",
        "colab_type": "text"
      },
      "source": [
        "<a href=\"https://colab.research.google.com/github/arduan/demo/blob/master/Decorator.ipynb\" target=\"_parent\"><img src=\"https://colab.research.google.com/assets/colab-badge.svg\" alt=\"Open In Colab\"/></a>"
      ]
    },
    {
      "cell_type": "code",
      "metadata": {
        "id": "Mmq5JaZDBvi0",
        "colab": {
          "base_uri": "https://localhost:8080/"
        },
        "outputId": "2c5e049f-03c1-494f-b898-8cdc8cddbb26"
      },
      "source": [
        "# Декрораторы\n",
        "\n",
        "# Как работают декораторы\n",
        "def decorator_function(wrapped_func):\n",
        "    def wrapper():\n",
        "        print('Входим в функцию-обёртку')\n",
        "        print('Оборачиваемая функция: ', wrapped_func)\n",
        "        print('Выполняем обёрнутую функцию...')\n",
        "        wrapped_func()\n",
        "        print('Выходим из обёртки')\n",
        "    return wrapper\n",
        "# Так выглядит функция-декоратор. Как вы можете увидеть, она принимает в качестве аргумента другую функцию. \n",
        "# Затем с этой функцией что-то делают внутри вложенной функции-обёртки и возвращают из декоратора уже обёртку вместо исходной функции.\n",
        "# Теперь можно декорировать:\n",
        "@decorator_function\n",
        "def hello_world():\n",
        "        print('Hello world!')\n",
        "hello_world()\n",
        "# Здесь декоратор получает функцию hello_world, и подменяет её своей вложенной функцией wrapper.\n",
        "\n",
        "\n"
      ],
      "execution_count": 1,
      "outputs": [
        {
          "output_type": "stream",
          "text": [
            "Входим в функцию-обёртку\n",
            "Оборачиваемая функция:  <function hello_world at 0x7fb818ab34d0>\n",
            "Выполняем обёрнутую функцию...\n",
            "Hello world!\n",
            "Выходим из обёртки\n"
          ],
          "name": "stdout"
        }
      ]
    }
  ]
}