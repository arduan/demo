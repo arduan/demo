{
  "nbformat": 4,
  "nbformat_minor": 0,
  "metadata": {
    "colab": {
      "name": "Decorator.ipynb",
      "provenance": [],
      "collapsed_sections": [],
      "authorship_tag": "ABX9TyMY63HMM4zaDUAJAo56JW6v",
      "include_colab_link": true
    },
    "kernelspec": {
      "name": "python3",
      "display_name": "Python 3"
    },
    "language_info": {
      "name": "python"
    }
  },
  "cells": [
    {
      "cell_type": "markdown",
      "metadata": {
        "id": "view-in-github",
        "colab_type": "text"
      },
      "source": [
        "<a href=\"https://colab.research.google.com/github/arduan/demo/blob/master/Decorator.ipynb\" target=\"_parent\"><img src=\"https://colab.research.google.com/assets/colab-badge.svg\" alt=\"Open In Colab\"/></a>"
      ]
    },
    {
      "cell_type": "code",
      "metadata": {
        "id": "Mmq5JaZDBvi0",
        "colab": {
          "base_uri": "https://localhost:8080/"
        },
        "outputId": "41fe631b-6539-4ea0-8f09-be4ffb5021d8"
      },
      "source": [
        "# Декрораторы\n",
        "\n",
        "# Как работают декораторы\n",
        "def decorator_function(wrapped_func):\n",
        "    def wrapper():\n",
        "        print('Входим в функцию-обёртку')\n",
        "        print('Оборачиваемая функция: ', wrapped_func)\n",
        "        print('Выполняем обёрнутую функцию...')\n",
        "        wrapped_func()\n",
        "        print('Выходим из обёртки')\n",
        "    return wrapper\n",
        "# Так выглядит функция-декоратор. Как вы можете увидеть, она принимает в качестве аргумента другую функцию. \n",
        "# Затем с этой функцией что-то делают внутри вложенной функции-обёртки и возвращают из декоратора уже обёртку вместо исходной функции.\n",
        "# Теперь можно декорировать:\n",
        "@decorator_function\n",
        "def hello_world():\n",
        "        print('Hello world!')\n",
        "hello_world()\n",
        "# Здесь декоратор получает функцию hello_world, и подменяет её своей вложенной функцией wrapper.\n",
        "\n",
        "# Важно помнить!\n",
        "# Декоратор исполняется только один раз: при объявлении оборачиваемой функции. При дальнейшем вызове функции исполняется только вложенная функция wrapper.\n",
        "\n",
        "\n",
        "# У функции, которую мы декорируем, могут быть аргументы. Принимает их вложенная функция wrapper:\n",
        "def decorator_function(wrapped_func):\n",
        "    def wrapper(*args):\n",
        "        ...\n",
        "        wrapped_func(args)\n",
        "        ...\n",
        "    return wrapper\n",
        "  \n",
        "@decorator_function\n",
        "def hello_world(text):\n",
        "        print(text)\n",
        "    \n",
        "hello_world('Hello world!')\n",
        "\n",
        "# А ещё, аргументы могут быть переданы непосредственно в декоратор:\n",
        "def fictive(decorator_text):\n",
        "    def decorator_function(wrapped_func):\n",
        "        \n",
        "        def wrapper(*args):\n",
        "            print(decorator_text, end='')\n",
        "            wrapped_func(*args)\n",
        "        return wrapper\n",
        "    \n",
        "    return decorator_function\n",
        "\n",
        "@fictive(decorator_text='Hello, ')\n",
        "def hello_world(text):\n",
        "        print(text)\n",
        "hello_world('world!')\n",
        "\n",
        "# Здесь аргумент decorator_text передаётся при декорировании в строке №11 и попадает в функцию fictive, строка №1. \n",
        "# Таким образом, появился ещё один уровень вложенности только для того, чтобы принять аргументы декоратора.\n"
      ],
      "execution_count": 1,
      "outputs": [
        {
          "output_type": "stream",
          "text": [
            "Входим в функцию-обёртку\n",
            "Оборачиваемая функция:  <function hello_world at 0x7f42b7b12e60>\n",
            "Выполняем обёрнутую функцию...\n",
            "Hello world!\n",
            "Выходим из обёртки\n",
            "('Hello world!',)\n",
            "Hello, world!\n"
          ],
          "name": "stdout"
        }
      ]
    }
  ]
}