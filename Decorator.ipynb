{
  "nbformat": 4,
  "nbformat_minor": 0,
  "metadata": {
    "colab": {
      "name": "Decorator.ipynb",
      "provenance": [],
      "collapsed_sections": [],
      "authorship_tag": "ABX9TyPTI5m0S5qaGcifbD0aywSz",
      "include_colab_link": true
    },
    "kernelspec": {
      "name": "python3",
      "display_name": "Python 3"
    },
    "language_info": {
      "name": "python"
    }
  },
  "cells": [
    {
      "cell_type": "markdown",
      "metadata": {
        "id": "view-in-github",
        "colab_type": "text"
      },
      "source": [
        "<a href=\"https://colab.research.google.com/github/arduan/demo/blob/master/Decorator.ipynb\" target=\"_parent\"><img src=\"https://colab.research.google.com/assets/colab-badge.svg\" alt=\"Open In Colab\"/></a>"
      ]
    },
    {
      "cell_type": "code",
      "metadata": {
        "id": "Mmq5JaZDBvi0",
        "colab": {
          "base_uri": "https://localhost:8080/"
        },
        "outputId": "41fe631b-6539-4ea0-8f09-be4ffb5021d8"
      },
      "source": [
        "# Декрораторы\n",
        "\n",
        "# Как работают декораторы\n",
        "def decorator_function(wrapped_func):\n",
        "    def wrapper():\n",
        "        print('Входим в функцию-обёртку')\n",
        "        print('Оборачиваемая функция: ', wrapped_func)\n",
        "        print('Выполняем обёрнутую функцию...')\n",
        "        wrapped_func()\n",
        "        print('Выходим из обёртки')\n",
        "    return wrapper\n",
        "# Так выглядит функция-декоратор. Как вы можете увидеть, она принимает в качестве аргумента другую функцию. \n",
        "# Затем с этой функцией что-то делают внутри вложенной функции-обёртки и возвращают из декоратора уже обёртку вместо исходной функции.\n",
        "# Теперь можно декорировать:\n",
        "@decorator_function\n",
        "def hello_world():\n",
        "        print('Hello world!')\n",
        "hello_world()\n",
        "# Здесь декоратор получает функцию hello_world, и подменяет её своей вложенной функцией wrapper.\n",
        "\n",
        "# Важно помнить!\n",
        "# Декоратор исполняется только один раз: при объявлении оборачиваемой функции. При дальнейшем вызове функции исполняется только вложенная функция wrapper.\n",
        "\n",
        "\n",
        "# У функции, которую мы декорируем, могут быть аргументы. Принимает их вложенная функция wrapper:\n",
        "def decorator_function(wrapped_func):\n",
        "    def wrapper(*args):\n",
        "        ...\n",
        "        wrapped_func(args)\n",
        "        ...\n",
        "    return wrapper\n",
        "  \n",
        "@decorator_function\n",
        "def hello_world(text):\n",
        "        print(text)\n",
        "    \n",
        "hello_world('Hello world!')\n",
        "\n",
        "# А ещё, аргументы могут быть переданы непосредственно в декоратор:\n",
        "def fictive(decorator_text):\n",
        "    def decorator_function(wrapped_func):\n",
        "        \n",
        "        def wrapper(*args):\n",
        "            print(decorator_text, end='')\n",
        "            wrapped_func(*args)\n",
        "        return wrapper\n",
        "    \n",
        "    return decorator_function\n",
        "\n",
        "@fictive(decorator_text='Hello, ')\n",
        "def hello_world(text):\n",
        "        print(text)\n",
        "hello_world('world!')\n",
        "\n",
        "# Здесь аргумент decorator_text передаётся при декорировании в строке №11 и попадает в функцию fictive, строка №1. \n",
        "# Таким образом, появился ещё один уровень вложенности только для того, чтобы принять аргументы декоратора.\n"
      ],
      "execution_count": null,
      "outputs": [
        {
          "output_type": "stream",
          "text": [
            "Входим в функцию-обёртку\n",
            "Оборачиваемая функция:  <function hello_world at 0x7f42b7b12e60>\n",
            "Выполняем обёрнутую функцию...\n",
            "Hello world!\n",
            "Выходим из обёртки\n",
            "('Hello world!',)\n",
            "Hello, world!\n"
          ],
          "name": "stdout"
        }
      ]
    },
    {
      "cell_type": "code",
      "metadata": {
        "id": "a6uHXDdArqrJ",
        "colab": {
          "base_uri": "https://localhost:8080/"
        },
        "outputId": "724ae163-fa6b-4964-fcbf-b932815d7189"
      },
      "source": [
        "# Пойдём дальше. А что, если декоратор может быть, в одних случаях с аргументами, в других - без аргументов? Поехали!\n",
        "\n",
        "def fictive(_func=None, *, decorator_text=''):\n",
        "    def decorator_function(wrapped_func):\n",
        "        def wrapper(*args):\n",
        "            print(decorator_text, end='')\n",
        "            wrapped_func(*args)\n",
        "        return wrapper\n",
        "    if _func is None:\n",
        "        return decorator_function\n",
        "    else:\n",
        "        return decorator_function(_func)\n",
        "      \n",
        "@fictive\n",
        "def hello_world(text):\n",
        "        print(text)\n",
        "hello_world('Hello, world!')\n",
        "\n",
        "@fictive(decorator_text='Hi, ')\n",
        "def say(text):\n",
        "        print(text)\n",
        "say('world!')\n",
        "\n"
      ],
      "execution_count": null,
      "outputs": [
        {
          "output_type": "stream",
          "text": [
            "Hello, world!\n",
            "Hi, world!\n"
          ],
          "name": "stdout"
        }
      ]
    },
    {
      "cell_type": "code",
      "metadata": {
        "colab": {
          "base_uri": "https://localhost:8080/"
        },
        "id": "8EmXTWQ5dBBL",
        "outputId": "475f6bc7-d8a8-4c37-c313-d32aa1a91d9c"
      },
      "source": [
        "# Декоратор — это функция, которая позволяет обернуть другую функцию для расширения её функциональности \n",
        "# без непосредственного изменения её кода.\n",
        "def decorator_function(func):\n",
        "    def wrapper():\n",
        "        print('Функция-обёртка!')\n",
        "        print('Оборачиваемая функция: {}'.format(func))\n",
        "        print('Выполняем обёрнутую функцию...')\n",
        "        func()\n",
        "        print('Выходим из обёртки')\n",
        "    return wrapper\n",
        "\n",
        "@decorator_function\n",
        "def hello_world():\n",
        "    print('Hello world!')\n",
        "hello_world()"
      ],
      "execution_count": null,
      "outputs": [
        {
          "output_type": "stream",
          "text": [
            "Функция-обёртка!\n",
            "Оборачиваемая функция: <function hello_world at 0x7fba3a53f200>\n",
            "Выполняем обёрнутую функцию...\n",
            "Hello world!\n",
            "Выходим из обёртки\n"
          ],
          "name": "stdout"
        }
      ]
    },
    {
      "cell_type": "markdown",
      "metadata": {
        "id": "2U1G2rGudgXj"
      },
      "source": [
        "Здесь decorator_function() является функцией-декоратором. Как вы могли заметить, она является функцией высшего порядка, так как принимает функцию в качестве аргумента, а также возвращает функцию. Внутри decorator_function() мы определили другую функцию, обёртку, так сказать, которая обёртывает функцию-аргумент и затем изменяет её поведение. Декоратор возвращает эту обёртку. Иными словами, выражение  @decorator_function  вызывает  decorator_function()  с  hello_world в качестве аргумента и присваивает имени  hello_world  возвращаемую функцию."
      ]
    },
    {
      "cell_type": "code",
      "metadata": {
        "colab": {
          "base_uri": "https://localhost:8080/"
        },
        "id": "XMSThupUeQb7",
        "outputId": "7809d250-db27-4394-f3be-2a8bb81e37fa"
      },
      "source": [
        "def benchmark(func):\n",
        "    import time\n",
        "    \n",
        "    def wrapper():\n",
        "        start = time.time()\n",
        "        func()\n",
        "        end = time.time()\n",
        "        print('[*] Время выполнения: {} секунд.'.format(end-start))\n",
        "    return wrapper\n",
        "\n",
        "@benchmark\n",
        "def fetch_webpage():\n",
        "    import requests\n",
        "    webpage = requests.get('https://google.com')\n",
        "\n",
        "fetch_webpage()\n"
      ],
      "execution_count": null,
      "outputs": [
        {
          "output_type": "stream",
          "text": [
            "[*] Время выполнения: 0.198760986328125 секунд.\n"
          ],
          "name": "stdout"
        }
      ]
    },
    {
      "cell_type": "markdown",
      "metadata": {
        "id": "rcGBjq6Je1_Z"
      },
      "source": [
        "Здесь мы создаём декоратор, замеряющий время выполнения функции. Далее мы используем его на функции, которая делает GET-запрос к главной странице Google. Чтобы измерить скорость, мы сначала сохраняем время перед выполнением обёрнутой функции, выполняем её, снова сохраняем текущее время и вычитаем из него начальное."
      ]
    },
    {
      "cell_type": "code",
      "metadata": {
        "id": "hljcnbzPfqRb"
      },
      "source": [
        "def benchmark(iters):\n",
        "    def actual_decorator(func):\n",
        "        import time\n",
        "        \n",
        "        def wrapper(*args, **kwargs):\n",
        "            total = 0\n",
        "            for i in range(iters):\n",
        "                start = time.time()\n",
        "                return_value = func(*args, **kwargs)\n",
        "                end = time.time()\n",
        "                total = total + (end-start)\n",
        "            print('[*] Среднее время выполнения: {} секунд.'.format(total/iters))\n",
        "            return return_value\n",
        "\n",
        "        return wrapper\n",
        "    return actual_decorator\n",
        "\n",
        "\n",
        "@benchmark(iters=10)\n",
        "def fetch_webpage(url):\n",
        "    import requests\n",
        "    webpage = requests.get(url)\n",
        "    return webpage.text\n",
        "\n",
        "webpage = fetch_webpage('https://google.com')\n",
        "print(webpage)\n"
      ],
      "execution_count": null,
      "outputs": []
    },
    {
      "cell_type": "code",
      "metadata": {
        "colab": {
          "base_uri": "https://localhost:8080/"
        },
        "id": "IXRW3f6dVtNZ",
        "outputId": "b057747e-09e4-4b15-bdc8-5803a301a1e0"
      },
      "source": [
        "def my_function(x):\n",
        "  print(x)\n",
        "\n",
        "my_function('Привет')\n",
        "\n",
        "my_function.yolo = 'Меня зовут Виталий'\n",
        "\n",
        "print(my_function.yolo)"
      ],
      "execution_count": 4,
      "outputs": [
        {
          "output_type": "stream",
          "text": [
            "Привет\n",
            "Меня зовут Виталий\n"
          ],
          "name": "stdout"
        }
      ]
    },
    {
      "cell_type": "code",
      "metadata": {
        "id": "XPPMXzgvXIIg",
        "outputId": "ef5c5b5a-0c06-4939-8247-abd7638de9ee",
        "colab": {
          "base_uri": "https://localhost:8080/"
        }
      },
      "source": [
        "def func(x):\n",
        "  return x**2\n",
        "    \n",
        "def second_func(x):\n",
        "  return x - 2\n",
        "\n",
        "first_func(4)\n",
        "\n",
        "def convert_to_numeric(func):\n",
        "    # определяем функцию во внешней функции\n",
        "  def new_func(x):\n",
        "      return func(float(x))\n",
        "    # возвращаем вновь определённую функцию\n",
        "  return new_func\n",
        "\n",
        "@convert_to_numeric\n",
        "def func(x):\n",
        "  return x**2\n",
        "\n",
        "func('4')"
      ],
      "execution_count": 19,
      "outputs": [
        {
          "output_type": "execute_result",
          "data": {
            "text/plain": [
              "16.0"
            ]
          },
          "metadata": {
            "tags": []
          },
          "execution_count": 19
        }
      ]
    }
  ]
}