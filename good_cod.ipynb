{
  "nbformat": 4,
  "nbformat_minor": 0,
  "metadata": {
    "colab": {
      "name": "good_cod.ipynb",
      "provenance": [],
      "authorship_tag": "ABX9TyP14jGdM3QM8Wvcq3vaoeG6",
      "include_colab_link": true
    },
    "kernelspec": {
      "name": "python3",
      "display_name": "Python 3"
    },
    "language_info": {
      "name": "python"
    }
  },
  "cells": [
    {
      "cell_type": "markdown",
      "metadata": {
        "id": "view-in-github",
        "colab_type": "text"
      },
      "source": [
        "<a href=\"https://colab.research.google.com/github/arduan/demo/blob/master/good_cod.ipynb\" target=\"_parent\"><img src=\"https://colab.research.google.com/assets/colab-badge.svg\" alt=\"Open In Colab\"/></a>"
      ]
    },
    {
      "cell_type": "code",
      "metadata": {
        "id": "wBl7M3U90QrJ"
      },
      "source": [
        "# Проверка на уникальность\n",
        "# Следующий метод проверяет, есть ли в данном списке повторяющиеся элементы. \n",
        "# Он использует свойство set(), которое удаляет повторяющиеся элементы из списка:\n",
        "\n",
        "def all_unique(lst):\n",
        "    return len(lst) == len(set(lst))\n",
        "\n",
        "\n",
        "x = [1,1,2,2,3,2,3,4,5,6]\n",
        "y = [1,2,3,4,5]\n",
        "all_unique(x) # False\n",
        "all_unique(y) # True \n",
        "        \n"
      ],
      "execution_count": null,
      "outputs": []
    },
    {
      "cell_type": "code",
      "metadata": {
        "id": "Hqq-F5mpamPn"
      },
      "source": [
        ""
      ],
      "execution_count": null,
      "outputs": []
    },
    {
      "cell_type": "code",
      "metadata": {
        "colab": {
          "base_uri": "https://localhost:8080/"
        },
        "id": "n11fMEbC1mdh",
        "outputId": "77cbd91a-1be3-4d49-b844-09fc0edb1834"
      },
      "source": [
        "# Анаграмма\n",
        "# Этот метод может использоваться, чтобы проверить, являются ли две строки анаграммами. \n",
        "# Анаграмма – это слово или фраза, образованная путем перестановки букв другого слова или фразы, \n",
        "# обычно используя все исходные буквы ровно один раз:\n",
        "\n",
        "from collections import Counter\n",
        "\n",
        "def anagram(first, second):\n",
        "    return Counter(first) == Counter(second)\n",
        "\n",
        "\n",
        "anagram(\"abcd3\", \"3acdb\") # True \n"
      ],
      "execution_count": null,
      "outputs": [
        {
          "output_type": "execute_result",
          "data": {
            "text/plain": [
              "True"
            ]
          },
          "metadata": {
            "tags": []
          },
          "execution_count": 5
        }
      ]
    },
    {
      "cell_type": "code",
      "metadata": {
        "colab": {
          "base_uri": "https://localhost:8080/"
        },
        "id": "gSnXUSY72Hwz",
        "outputId": "71edb68a-95c2-40b2-f5f6-b010ed930e9d"
      },
      "source": [
        "# Память\n",
        "# А такое можно использовать для проверки использования памяти объектом:\n",
        "import sys \n",
        "\n",
        "variable = 30 \n",
        "print(sys.getsizeof(variable)) # 24 \n",
        "        \n"
      ],
      "execution_count": null,
      "outputs": [
        {
          "output_type": "stream",
          "text": [
            "28\n"
          ],
          "name": "stdout"
        }
      ]
    },
    {
      "cell_type": "code",
      "metadata": {
        "colab": {
          "base_uri": "https://localhost:8080/"
        },
        "id": "NgjUyefh2YCU",
        "outputId": "c9883b74-1235-498b-8fcc-efa7122677da"
      },
      "source": [
        "# Размер в байтах\n",
        "# Метод возвращает длину строки в байтах:\n",
        "\n",
        "def byte_size(string):\n",
        "    return(len(string.encode('utf-8')))\n",
        "    \n",
        "    \n",
        "byte_size('😀') # 4\n",
        "byte_size('Hello World') # 11     \n",
        "        \n"
      ],
      "execution_count": null,
      "outputs": [
        {
          "output_type": "execute_result",
          "data": {
            "text/plain": [
              "11"
            ]
          },
          "metadata": {
            "tags": []
          },
          "execution_count": 7
        }
      ]
    },
    {
      "cell_type": "code",
      "metadata": {
        "colab": {
          "base_uri": "https://localhost:8080/"
        },
        "id": "iRgntdwx3R0q",
        "outputId": "a769cbb3-4acf-474b-e2c5-cdcebab7f04d"
      },
      "source": [
        "# Разделение\n",
        "# Этот метод разделяет список на более мелкие списки указанного размера:\n",
        "\n",
        "list = [1,2,3,4,5,6,7,8,9,10,11,12,13,14]\n",
        "def chunk(list, size):\n",
        "    return [list[i:i+size] for i in range(0,len(list), size)] \n",
        "\n",
        "chunk(list,3)\n",
        "        \n"
      ],
      "execution_count": null,
      "outputs": [
        {
          "output_type": "execute_result",
          "data": {
            "text/plain": [
              "[[1, 2, 3], [4, 5, 6], [7, 8, 9], [10, 11, 12], [13, 14]]"
            ]
          },
          "metadata": {
            "tags": []
          },
          "execution_count": 10
        }
      ]
    },
    {
      "cell_type": "code",
      "metadata": {
        "colab": {
          "base_uri": "https://localhost:8080/"
        },
        "id": "ppAGNod24Gah",
        "outputId": "f176232e-447a-4671-e9f1-b696049909ee"
      },
      "source": [
        "# Делает первые буквы слов большими\n",
        "# А вот и учет регистра. Фрагмент использует метод title() для прописных букв каждого слова в строке:\n",
        "\n",
        "s = \"programming is awesome\"\n",
        "\n",
        "print(s.title()) # Programming Is Awesome \n",
        "        \n"
      ],
      "execution_count": null,
      "outputs": [
        {
          "output_type": "stream",
          "text": [
            "Programming Is Awesome\n"
          ],
          "name": "stdout"
        }
      ]
    },
    {
      "cell_type": "code",
      "metadata": {
        "colab": {
          "base_uri": "https://localhost:8080/"
        },
        "id": "M1WUY76IaB6R",
        "outputId": "644d2c30-a3c5-40db-9f2e-7e834d1fdd8f"
      },
      "source": [
        "# Разделить запятой\n",
        "# Следующий фрагмент можно использовать для преобразования списка строк в одну строку, \n",
        "# где каждый элемент из списка разделен запятыми:\n",
        "\n",
        "hobbies = [\"basketball\", \"football\", \"swimming\"]\n",
        "\n",
        "print(\"My hobbies are:\") # My hobbies are:\n",
        "print(\", \".join(hobbies)) # basketball, football, swimming \n",
        "        \n"
      ],
      "execution_count": null,
      "outputs": [
        {
          "output_type": "stream",
          "text": [
            "My hobbies are:\n",
            "basketball, football, swimming\n"
          ],
          "name": "stdout"
        }
      ]
    },
    {
      "cell_type": "code",
      "metadata": {
        "colab": {
          "base_uri": "https://localhost:8080/"
        },
        "id": "0vVfxm3zbaUX",
        "outputId": "a50a6b84-774f-47be-bff1-04b26b1767d4"
      },
      "source": [
        "# Разница\n",
        "# Метод находит разницу между двумя итерациями, сохраняя только те значения, которые находятся в первой:\n",
        "\n",
        "def difference(a, b):\n",
        "    set_a = set(a)\n",
        "    set_b = set(b)\n",
        "    comparison = set_a.difference(set_b)\n",
        "    return list(comparison)\n",
        "\n",
        "\n",
        "difference([1,2,3], [1,2,4]) # [3] \n",
        "        \n"
      ],
      "execution_count": null,
      "outputs": [
        {
          "output_type": "execute_result",
          "data": {
            "text/plain": [
              "[3]"
            ]
          },
          "metadata": {
            "tags": []
          },
          "execution_count": 3
        }
      ]
    },
    {
      "cell_type": "code",
      "metadata": {
        "colab": {
          "base_uri": "https://localhost:8080/"
        },
        "id": "9dSGyICbb6Mt",
        "outputId": "b2d892e3-cd69-40d0-e530-5e2124e77be3"
      },
      "source": [
        "# Разница между списками\n",
        "# Следующий метод возвращает разницу между двумя списками после применения данной функции к каждому элементу обоих списков:\n",
        "\n",
        "def difference_by(a, b, fn):\n",
        "    b = set(map(fn, b))\n",
        "    return [item for item in a if fn(item) not in b]\n",
        "\n",
        "\n",
        "from math import floor\n",
        "difference_by([2.1, 1.2], [2.3, 3.4],floor) # [1.2]\n",
        "difference_by([{ 'x': 2 }, { 'x': 1 }], [{ 'x': 1 }], lambda v : v['x']) # [ { x: 2 } ] \n",
        "        \n"
      ],
      "execution_count": null,
      "outputs": [
        {
          "output_type": "execute_result",
          "data": {
            "text/plain": [
              "[{'x': 2}]"
            ]
          },
          "metadata": {
            "tags": []
          },
          "execution_count": 4
        }
      ]
    },
    {
      "cell_type": "code",
      "metadata": {
        "colab": {
          "base_uri": "https://localhost:8080/"
        },
        "id": "Pxzjx5-acUOS",
        "outputId": "aa9f8d53-791a-4b22-c0a5-89ec5f9d9202"
      },
      "source": [
        "# Цепной вызов функции\n",
        "# Вы можете вызывать несколько функций в одной строке:\n",
        "\n",
        "def add(a, b):\n",
        "    return a + b\n",
        "\n",
        "def subtract(a, b):\n",
        "    return a - b\n",
        "\n",
        "a, b = 4, 5\n",
        "print((subtract if a > b else add)(a, b)) # 9    \n",
        "        \n"
      ],
      "execution_count": null,
      "outputs": [
        {
          "output_type": "stream",
          "text": [
            "9\n"
          ],
          "name": "stdout"
        }
      ]
    },
    {
      "cell_type": "code",
      "metadata": {
        "id": "OBB9r7pUdVNL",
        "colab": {
          "base_uri": "https://localhost:8080/"
        },
        "outputId": "2808bc77-e5d7-415c-d98d-be09de4312b9"
      },
      "source": [
        "# Объединить два словаря\n",
        "# Следующий метод может быть использован для объединения двух словарей:\n",
        "\n",
        "def merge_dictionaries(a, b):\n",
        "   return {**a, **b}\n",
        "\n",
        "\n",
        "a = { 'x': 1, 'y': 2}\n",
        "b = { 'y': 3, 'z': 4}\n",
        "print(merge_dictionaries(a, b)) \n",
        "        \n",
        "# Еще вариант\n",
        "\n",
        "c = {**a, **b}\n",
        "print(c)"
      ],
      "execution_count": null,
      "outputs": [
        {
          "output_type": "stream",
          "text": [
            "{'x': 1, 'y': 3, 'z': 4}\n",
            "{'x': 1, 'y': 3, 'z': 4}\n"
          ],
          "name": "stdout"
        }
      ]
    },
    {
      "cell_type": "code",
      "metadata": {
        "id": "0jtEXuj_dur6",
        "colab": {
          "base_uri": "https://localhost:8080/"
        },
        "outputId": "ed111841-e027-41a7-f82f-af6c252016fc"
      },
      "source": [
        "# Конвертировать два списка в словарь\n",
        "# А теперь займемся преобразованием двух списков в словарь:\n",
        "\n",
        "def to_dictionary(keys, values):\n",
        "    return dict(zip(keys, values))\n",
        "    \n",
        "\n",
        "keys = [\"a\", \"b\", \"c\"]    \n",
        "values = [2, 3, 4]\n",
        "print(to_dictionary(keys, values)) \n"
      ],
      "execution_count": null,
      "outputs": [
        {
          "output_type": "stream",
          "text": [
            "{'a': 2, 'b': 3, 'c': 4}\n"
          ],
          "name": "stdout"
        }
      ]
    },
    {
      "cell_type": "code",
      "metadata": {
        "colab": {
          "base_uri": "https://localhost:8080/"
        },
        "id": "-Tj0_BNpiscj",
        "outputId": "cf4ea6d4-c992-42d8-ab86-26ac452b04bd"
      },
      "source": [
        "# Палиндром\n",
        "# Проверяет, является ли строка палиндромом\n",
        "def palindrome(a):\n",
        "    return a == a[::-1]\n",
        "\n",
        "palindrome('mom') \n"
      ],
      "execution_count": null,
      "outputs": [
        {
          "output_type": "execute_result",
          "data": {
            "text/plain": [
              "True"
            ]
          },
          "metadata": {
            "tags": []
          },
          "execution_count": 3
        }
      ]
    },
    {
      "cell_type": "code",
      "metadata": {
        "colab": {
          "base_uri": "https://localhost:8080/"
        },
        "id": "oG6J0VntkhOd",
        "outputId": "25819861-d085-41a7-a316-db4253bfe348"
      },
      "source": [
        "# Перечисления и списки\n",
        "# В этом фрагменте кода можно использовать перечисление для получения значений и индексов списков.\n",
        "\n",
        "list = [\"a\", \"b\", \"c\", \"d\"]\n",
        "\n",
        "for index, element in enumerate(list): \n",
        "    print(\"Value\", element, \"Index \", index, )\n",
        "\n"
      ],
      "execution_count": null,
      "outputs": [
        {
          "output_type": "stream",
          "text": [
            "Value a Index  0\n",
            "Value b Index  1\n",
            "Value c Index  2\n",
            "Value d Index  3\n"
          ],
          "name": "stdout"
        }
      ]
    },
    {
      "cell_type": "code",
      "metadata": {
        "id": "RlzjZe8Cl0Id",
        "colab": {
          "base_uri": "https://localhost:8080/"
        },
        "outputId": "039a66d4-d31c-439a-ff8f-b144ef5a4eed"
      },
      "source": [
        "# Операторы множеств\n",
        "\n",
        "a = {'A', 'B','C'}\n",
        "b = {'C','D', 'E'}\n",
        "# Объединение\n",
        "a | b \n",
        "\n",
        "# Пересечение\n",
        "a & b\n",
        "\n",
        "# Симметрическая разность\n",
        "a ^ b\n",
        "\n",
        "# Разность множеств\n",
        "a - b \n"
      ],
      "execution_count": null,
      "outputs": [
        {
          "output_type": "execute_result",
          "data": {
            "text/plain": [
              "{'A', 'B'}"
            ]
          },
          "metadata": {
            "tags": []
          },
          "execution_count": 3
        }
      ]
    },
    {
      "cell_type": "code",
      "metadata": {
        "colab": {
          "base_uri": "https://localhost:8080/"
        },
        "id": "EmJBWVXtGGgP",
        "outputId": "c9345e23-d52f-49f3-eac8-6d91248a374c"
      },
      "source": [
        "#  Проверка дубликатов\n",
        "# Это самый быстрый способ проверки наличия повторяющихся значений в списке.\n",
        "\n",
        "def check_duplicate(lst):\n",
        "    return len(lst) != len(set(lst))\n",
        "check_duplicate([1,2,3,4,5,4,6]) # True\n",
        "check_duplicate([1,2,3]) # False\n",
        "check_duplicate([1,2,3,4,9]) # False"
      ],
      "execution_count": null,
      "outputs": [
        {
          "output_type": "execute_result",
          "data": {
            "text/plain": [
              "False"
            ]
          },
          "metadata": {
            "tags": []
          },
          "execution_count": 1
        }
      ]
    },
    {
      "cell_type": "code",
      "metadata": {
        "id": "cpJsosdxJXQm"
      },
      "source": [
        "# Перемешивание списка\n",
        "\n",
        "from random import shuffle\n",
        "\n",
        "my_list1=[1,2,3,4,5,6]\n",
        "my_list2=[\"A\",\"B\",\"C\",\"D\"]\n",
        "shuffle(my_list1) # [4, 6, 1, 3, 2, 5]\n",
        "shuffle(my_list2) # ['A', 'D', 'B', 'C']"
      ],
      "execution_count": null,
      "outputs": []
    },
    {
      "cell_type": "code",
      "metadata": {
        "id": "w_XRsGm5KUF2",
        "colab": {
          "base_uri": "https://localhost:8080/"
        },
        "outputId": "7707a4de-a9c9-4efe-e274-e318f684babb"
      },
      "source": [
        "# Печать в одной строке\n",
        "# Мы знаем, что функция print выполняет вывод в каждой строке, и если использовать две функции print, они выполнят печать в две строки. \n",
        "# Этот пример покажет, как выполнять вывод в той же строке без перехода на новую.\n",
        "\n",
        "# fastest way\n",
        "import sys\n",
        "sys.stdout.write(\"Call of duty \")\n",
        "sys.stdout.write(\"and Black Ops. \")\n",
        "# output: Call of duty and Black Ops\n",
        "\n",
        "#another way but only for python 3\n",
        "print(\"Python \", end=\"\")\n",
        "print(\"Programming\") \n",
        "# output: Python Programming\n"
      ],
      "execution_count": null,
      "outputs": [
        {
          "output_type": "stream",
          "text": [
            "Call of duty and Black Ops. Python Programming\n"
          ],
          "name": "stdout"
        }
      ]
    },
    {
      "cell_type": "code",
      "metadata": {
        "colab": {
          "base_uri": "https://localhost:8080/"
        },
        "id": "gTjiXNrAapq1",
        "outputId": "54df1663-b4e4-4d71-9a1a-9763ce652287"
      },
      "source": [
        "# Хэширование\n",
        "# Хэш — это целое число фиксированного размера, которое идентифицирует определенное значение. \n",
        "# Каждое уникальное значение должно иметь свой собственный хэш\n",
        "\n",
        "hash(42)\n",
        "hash('Hello')\n",
        "hash(42)==hash(22)"
      ],
      "execution_count": 9,
      "outputs": [
        {
          "output_type": "execute_result",
          "data": {
            "text/plain": [
              "False"
            ]
          },
          "metadata": {
            "tags": []
          },
          "execution_count": 9
        }
      ]
    }
  ]
}