{
  "nbformat": 4,
  "nbformat_minor": 0,
  "metadata": {
    "colab": {
      "name": "good_cod.ipynb",
      "provenance": [],
      "authorship_tag": "ABX9TyPA1HpMvnH8cpIef7gu/aq0",
      "include_colab_link": true
    },
    "kernelspec": {
      "name": "python3",
      "display_name": "Python 3"
    },
    "language_info": {
      "name": "python"
    }
  },
  "cells": [
    {
      "cell_type": "markdown",
      "metadata": {
        "id": "view-in-github",
        "colab_type": "text"
      },
      "source": [
        "<a href=\"https://colab.research.google.com/github/arduan/demo/blob/master/good_cod.ipynb\" target=\"_parent\"><img src=\"https://colab.research.google.com/assets/colab-badge.svg\" alt=\"Open In Colab\"/></a>"
      ]
    },
    {
      "cell_type": "code",
      "metadata": {
        "id": "wBl7M3U90QrJ"
      },
      "source": [
        "# Проверка на уникальность\n",
        "# Следующий метод проверяет, есть ли в данном списке повторяющиеся элементы. \n",
        "# Он использует свойство set(), которое удаляет повторяющиеся элементы из списка:\n",
        "\n",
        "def all_unique(lst):\n",
        "    return len(lst) == len(set(lst))\n",
        "\n",
        "\n",
        "x = [1,1,2,2,3,2,3,4,5,6]\n",
        "y = [1,2,3,4,5]\n",
        "all_unique(x) # False\n",
        "all_unique(y) # True \n",
        "        \n"
      ],
      "execution_count": null,
      "outputs": []
    },
    {
      "cell_type": "code",
      "metadata": {
        "colab": {
          "base_uri": "https://localhost:8080/"
        },
        "id": "n11fMEbC1mdh",
        "outputId": "77cbd91a-1be3-4d49-b844-09fc0edb1834"
      },
      "source": [
        "# Анаграмма\n",
        "# Этот метод может использоваться, чтобы проверить, являются ли две строки анаграммами. \n",
        "# Анаграмма – это слово или фраза, образованная путем перестановки букв другого слова или фразы, \n",
        "# обычно используя все исходные буквы ровно один раз:\n",
        "\n",
        "from collections import Counter\n",
        "\n",
        "def anagram(first, second):\n",
        "    return Counter(first) == Counter(second)\n",
        "\n",
        "\n",
        "anagram(\"abcd3\", \"3acdb\") # True \n"
      ],
      "execution_count": null,
      "outputs": [
        {
          "output_type": "execute_result",
          "data": {
            "text/plain": [
              "True"
            ]
          },
          "metadata": {
            "tags": []
          },
          "execution_count": 5
        }
      ]
    },
    {
      "cell_type": "code",
      "metadata": {
        "colab": {
          "base_uri": "https://localhost:8080/"
        },
        "id": "gSnXUSY72Hwz",
        "outputId": "71edb68a-95c2-40b2-f5f6-b010ed930e9d"
      },
      "source": [
        "# Память\n",
        "# А такое можно использовать для проверки использования памяти объектом:\n",
        "import sys \n",
        "\n",
        "variable = 30 \n",
        "print(sys.getsizeof(variable)) # 24 \n",
        "        \n"
      ],
      "execution_count": null,
      "outputs": [
        {
          "output_type": "stream",
          "text": [
            "28\n"
          ],
          "name": "stdout"
        }
      ]
    },
    {
      "cell_type": "code",
      "metadata": {
        "colab": {
          "base_uri": "https://localhost:8080/"
        },
        "id": "NgjUyefh2YCU",
        "outputId": "c9883b74-1235-498b-8fcc-efa7122677da"
      },
      "source": [
        "# Размер в байтах\n",
        "# Метод возвращает длину строки в байтах:\n",
        "\n",
        "def byte_size(string):\n",
        "    return(len(string.encode('utf-8')))\n",
        "    \n",
        "    \n",
        "byte_size('😀') # 4\n",
        "byte_size('Hello World') # 11     \n",
        "        \n"
      ],
      "execution_count": null,
      "outputs": [
        {
          "output_type": "execute_result",
          "data": {
            "text/plain": [
              "11"
            ]
          },
          "metadata": {
            "tags": []
          },
          "execution_count": 7
        }
      ]
    },
    {
      "cell_type": "code",
      "metadata": {
        "colab": {
          "base_uri": "https://localhost:8080/"
        },
        "id": "iRgntdwx3R0q",
        "outputId": "a769cbb3-4acf-474b-e2c5-cdcebab7f04d"
      },
      "source": [
        "# Разделение\n",
        "# Этот метод разделяет список на более мелкие списки указанного размера:\n",
        "\n",
        "list = [1,2,3,4,5,6,7,8,9,10,11,12,13,14]\n",
        "def chunk(list, size):\n",
        "    return [list[i:i+size] for i in range(0,len(list), size)] \n",
        "\n",
        "chunk(list,3)\n",
        "        \n"
      ],
      "execution_count": null,
      "outputs": [
        {
          "output_type": "execute_result",
          "data": {
            "text/plain": [
              "[[1, 2, 3], [4, 5, 6], [7, 8, 9], [10, 11, 12], [13, 14]]"
            ]
          },
          "metadata": {
            "tags": []
          },
          "execution_count": 10
        }
      ]
    },
    {
      "cell_type": "code",
      "metadata": {
        "colab": {
          "base_uri": "https://localhost:8080/"
        },
        "id": "ppAGNod24Gah",
        "outputId": "f176232e-447a-4671-e9f1-b696049909ee"
      },
      "source": [
        "# Делает первые буквы слов большими\n",
        "# А вот и учет регистра. Фрагмент использует метод title() для прописных букв каждого слова в строке:\n",
        "\n",
        "s = \"programming is awesome\"\n",
        "\n",
        "print(s.title()) # Programming Is Awesome \n",
        "        \n"
      ],
      "execution_count": null,
      "outputs": [
        {
          "output_type": "stream",
          "text": [
            "Programming Is Awesome\n"
          ],
          "name": "stdout"
        }
      ]
    },
    {
      "cell_type": "code",
      "metadata": {
        "colab": {
          "base_uri": "https://localhost:8080/"
        },
        "id": "M1WUY76IaB6R",
        "outputId": "644d2c30-a3c5-40db-9f2e-7e834d1fdd8f"
      },
      "source": [
        "# Разделить запятой\n",
        "# Следующий фрагмент можно использовать для преобразования списка строк в одну строку, \n",
        "# где каждый элемент из списка разделен запятыми:\n",
        "\n",
        "hobbies = [\"basketball\", \"football\", \"swimming\"]\n",
        "\n",
        "print(\"My hobbies are:\") # My hobbies are:\n",
        "print(\", \".join(hobbies)) # basketball, football, swimming \n",
        "        \n"
      ],
      "execution_count": 1,
      "outputs": [
        {
          "output_type": "stream",
          "text": [
            "My hobbies are:\n",
            "basketball, football, swimming\n"
          ],
          "name": "stdout"
        }
      ]
    },
    {
      "cell_type": "code",
      "metadata": {
        "id": "0vVfxm3zbaUX",
        "outputId": "a50a6b84-774f-47be-bff1-04b26b1767d4",
        "colab": {
          "base_uri": "https://localhost:8080/"
        }
      },
      "source": [
        "# Разница\n",
        "# Метод находит разницу между двумя итерациями, сохраняя только те значения, которые находятся в первой:\n",
        "\n",
        "def difference(a, b):\n",
        "    set_a = set(a)\n",
        "    set_b = set(b)\n",
        "    comparison = set_a.difference(set_b)\n",
        "    return list(comparison)\n",
        "\n",
        "\n",
        "difference([1,2,3], [1,2,4]) # [3] \n",
        "        \n"
      ],
      "execution_count": 3,
      "outputs": [
        {
          "output_type": "execute_result",
          "data": {
            "text/plain": [
              "[3]"
            ]
          },
          "metadata": {
            "tags": []
          },
          "execution_count": 3
        }
      ]
    }
  ]
}