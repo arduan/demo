{
  "nbformat": 4,
  "nbformat_minor": 0,
  "metadata": {
    "colab": {
      "name": "good_cod.ipynb",
      "provenance": [],
      "authorship_tag": "ABX9TyOnVc5ZNO2hOpW2diGgZlPC",
      "include_colab_link": true
    },
    "kernelspec": {
      "name": "python3",
      "display_name": "Python 3"
    },
    "language_info": {
      "name": "python"
    }
  },
  "cells": [
    {
      "cell_type": "markdown",
      "metadata": {
        "id": "view-in-github",
        "colab_type": "text"
      },
      "source": [
        "<a href=\"https://colab.research.google.com/github/arduan/demo/blob/master/good_cod.ipynb\" target=\"_parent\"><img src=\"https://colab.research.google.com/assets/colab-badge.svg\" alt=\"Open In Colab\"/></a>"
      ]
    },
    {
      "cell_type": "code",
      "metadata": {
        "id": "wBl7M3U90QrJ"
      },
      "source": [
        "# Проверка на уникальность\n",
        "# Следующий метод проверяет, есть ли в данном списке повторяющиеся элементы. \n",
        "# Он использует свойство set(), которое удаляет повторяющиеся элементы из списка:\n",
        "\n",
        "def all_unique(lst):\n",
        "    return len(lst) == len(set(lst))\n",
        "\n",
        "\n",
        "x = [1,1,2,2,3,2,3,4,5,6]\n",
        "y = [1,2,3,4,5]\n",
        "all_unique(x) # False\n",
        "all_unique(y) # True \n",
        "        \n"
      ],
      "execution_count": null,
      "outputs": []
    },
    {
      "cell_type": "code",
      "metadata": {
        "id": "Hqq-F5mpamPn"
      },
      "source": [
        ""
      ],
      "execution_count": null,
      "outputs": []
    },
    {
      "cell_type": "code",
      "metadata": {
        "colab": {
          "base_uri": "https://localhost:8080/"
        },
        "id": "n11fMEbC1mdh",
        "outputId": "77cbd91a-1be3-4d49-b844-09fc0edb1834"
      },
      "source": [
        "# Анаграмма\n",
        "# Этот метод может использоваться, чтобы проверить, являются ли две строки анаграммами. \n",
        "# Анаграмма – это слово или фраза, образованная путем перестановки букв другого слова или фразы, \n",
        "# обычно используя все исходные буквы ровно один раз:\n",
        "\n",
        "from collections import Counter\n",
        "\n",
        "def anagram(first, second):\n",
        "    return Counter(first) == Counter(second)\n",
        "\n",
        "\n",
        "anagram(\"abcd3\", \"3acdb\") # True \n"
      ],
      "execution_count": null,
      "outputs": [
        {
          "output_type": "execute_result",
          "data": {
            "text/plain": [
              "True"
            ]
          },
          "metadata": {
            "tags": []
          },
          "execution_count": 5
        }
      ]
    },
    {
      "cell_type": "code",
      "metadata": {
        "colab": {
          "base_uri": "https://localhost:8080/"
        },
        "id": "gSnXUSY72Hwz",
        "outputId": "71edb68a-95c2-40b2-f5f6-b010ed930e9d"
      },
      "source": [
        "# Память\n",
        "# А такое можно использовать для проверки использования памяти объектом:\n",
        "import sys \n",
        "\n",
        "variable = 30 \n",
        "print(sys.getsizeof(variable)) # 24 \n",
        "        \n"
      ],
      "execution_count": null,
      "outputs": [
        {
          "output_type": "stream",
          "text": [
            "28\n"
          ],
          "name": "stdout"
        }
      ]
    },
    {
      "cell_type": "code",
      "metadata": {
        "colab": {
          "base_uri": "https://localhost:8080/"
        },
        "id": "NgjUyefh2YCU",
        "outputId": "c9883b74-1235-498b-8fcc-efa7122677da"
      },
      "source": [
        "# Размер в байтах\n",
        "# Метод возвращает длину строки в байтах:\n",
        "\n",
        "def byte_size(string):\n",
        "    return(len(string.encode('utf-8')))\n",
        "    \n",
        "    \n",
        "byte_size('😀') # 4\n",
        "byte_size('Hello World') # 11     \n",
        "        \n"
      ],
      "execution_count": null,
      "outputs": [
        {
          "output_type": "execute_result",
          "data": {
            "text/plain": [
              "11"
            ]
          },
          "metadata": {
            "tags": []
          },
          "execution_count": 7
        }
      ]
    },
    {
      "cell_type": "code",
      "metadata": {
        "colab": {
          "base_uri": "https://localhost:8080/"
        },
        "id": "iRgntdwx3R0q",
        "outputId": "a769cbb3-4acf-474b-e2c5-cdcebab7f04d"
      },
      "source": [
        "# Разделение\n",
        "# Этот метод разделяет список на более мелкие списки указанного размера:\n",
        "\n",
        "list = [1,2,3,4,5,6,7,8,9,10,11,12,13,14]\n",
        "def chunk(list, size):\n",
        "    return [list[i:i+size] for i in range(0,len(list), size)] \n",
        "\n",
        "chunk(list,3)\n",
        "        \n"
      ],
      "execution_count": null,
      "outputs": [
        {
          "output_type": "execute_result",
          "data": {
            "text/plain": [
              "[[1, 2, 3], [4, 5, 6], [7, 8, 9], [10, 11, 12], [13, 14]]"
            ]
          },
          "metadata": {
            "tags": []
          },
          "execution_count": 10
        }
      ]
    },
    {
      "cell_type": "code",
      "metadata": {
        "colab": {
          "base_uri": "https://localhost:8080/"
        },
        "id": "ppAGNod24Gah",
        "outputId": "f176232e-447a-4671-e9f1-b696049909ee"
      },
      "source": [
        "# Делает первые буквы слов большими\n",
        "# А вот и учет регистра. Фрагмент использует метод title() для прописных букв каждого слова в строке:\n",
        "\n",
        "s = \"programming is awesome\"\n",
        "\n",
        "print(s.title()) # Programming Is Awesome \n",
        "        \n"
      ],
      "execution_count": null,
      "outputs": [
        {
          "output_type": "stream",
          "text": [
            "Programming Is Awesome\n"
          ],
          "name": "stdout"
        }
      ]
    },
    {
      "cell_type": "code",
      "metadata": {
        "colab": {
          "base_uri": "https://localhost:8080/"
        },
        "id": "M1WUY76IaB6R",
        "outputId": "644d2c30-a3c5-40db-9f2e-7e834d1fdd8f"
      },
      "source": [
        "# Разделить запятой\n",
        "# Следующий фрагмент можно использовать для преобразования списка строк в одну строку, \n",
        "# где каждый элемент из списка разделен запятыми:\n",
        "\n",
        "hobbies = [\"basketball\", \"football\", \"swimming\"]\n",
        "\n",
        "print(\"My hobbies are:\") # My hobbies are:\n",
        "print(\", \".join(hobbies)) # basketball, football, swimming \n",
        "        \n"
      ],
      "execution_count": null,
      "outputs": [
        {
          "output_type": "stream",
          "text": [
            "My hobbies are:\n",
            "basketball, football, swimming\n"
          ],
          "name": "stdout"
        }
      ]
    },
    {
      "cell_type": "code",
      "metadata": {
        "colab": {
          "base_uri": "https://localhost:8080/"
        },
        "id": "0vVfxm3zbaUX",
        "outputId": "a50a6b84-774f-47be-bff1-04b26b1767d4"
      },
      "source": [
        "# Разница\n",
        "# Метод находит разницу между двумя итерациями, сохраняя только те значения, которые находятся в первой:\n",
        "\n",
        "def difference(a, b):\n",
        "    set_a = set(a)\n",
        "    set_b = set(b)\n",
        "    comparison = set_a.difference(set_b)\n",
        "    return list(comparison)\n",
        "\n",
        "\n",
        "difference([1,2,3], [1,2,4]) # [3] \n",
        "        \n"
      ],
      "execution_count": null,
      "outputs": [
        {
          "output_type": "execute_result",
          "data": {
            "text/plain": [
              "[3]"
            ]
          },
          "metadata": {
            "tags": []
          },
          "execution_count": 3
        }
      ]
    },
    {
      "cell_type": "code",
      "metadata": {
        "colab": {
          "base_uri": "https://localhost:8080/"
        },
        "id": "9dSGyICbb6Mt",
        "outputId": "b2d892e3-cd69-40d0-e530-5e2124e77be3"
      },
      "source": [
        "# Разница между списками\n",
        "# Следующий метод возвращает разницу между двумя списками после применения данной функции к каждому элементу обоих списков:\n",
        "\n",
        "def difference_by(a, b, fn):\n",
        "    b = set(map(fn, b))\n",
        "    return [item for item in a if fn(item) not in b]\n",
        "\n",
        "\n",
        "from math import floor\n",
        "difference_by([2.1, 1.2], [2.3, 3.4],floor) # [1.2]\n",
        "difference_by([{ 'x': 2 }, { 'x': 1 }], [{ 'x': 1 }], lambda v : v['x']) # [ { x: 2 } ] \n",
        "        \n"
      ],
      "execution_count": null,
      "outputs": [
        {
          "output_type": "execute_result",
          "data": {
            "text/plain": [
              "[{'x': 2}]"
            ]
          },
          "metadata": {
            "tags": []
          },
          "execution_count": 4
        }
      ]
    },
    {
      "cell_type": "code",
      "metadata": {
        "colab": {
          "base_uri": "https://localhost:8080/"
        },
        "id": "Pxzjx5-acUOS",
        "outputId": "aa9f8d53-791a-4b22-c0a5-89ec5f9d9202"
      },
      "source": [
        "# Цепной вызов функции\n",
        "# Вы можете вызывать несколько функций в одной строке:\n",
        "\n",
        "def add(a, b):\n",
        "    return a + b\n",
        "\n",
        "def subtract(a, b):\n",
        "    return a - b\n",
        "\n",
        "a, b = 4, 5\n",
        "print((subtract if a > b else add)(a, b)) # 9    \n",
        "        \n"
      ],
      "execution_count": null,
      "outputs": [
        {
          "output_type": "stream",
          "text": [
            "9\n"
          ],
          "name": "stdout"
        }
      ]
    },
    {
      "cell_type": "code",
      "metadata": {
        "id": "OBB9r7pUdVNL",
        "colab": {
          "base_uri": "https://localhost:8080/"
        },
        "outputId": "2808bc77-e5d7-415c-d98d-be09de4312b9"
      },
      "source": [
        "# Объединить два словаря\n",
        "# Следующий метод может быть использован для объединения двух словарей:\n",
        "\n",
        "def merge_dictionaries(a, b):\n",
        "   return {**a, **b}\n",
        "\n",
        "\n",
        "a = { 'x': 1, 'y': 2}\n",
        "b = { 'y': 3, 'z': 4}\n",
        "print(merge_dictionaries(a, b)) \n",
        "        \n",
        "# Еще вариант\n",
        "\n",
        "c = {**a, **b}\n",
        "print(c)"
      ],
      "execution_count": null,
      "outputs": [
        {
          "output_type": "stream",
          "text": [
            "{'x': 1, 'y': 3, 'z': 4}\n",
            "{'x': 1, 'y': 3, 'z': 4}\n"
          ],
          "name": "stdout"
        }
      ]
    },
    {
      "cell_type": "code",
      "metadata": {
        "id": "0jtEXuj_dur6",
        "colab": {
          "base_uri": "https://localhost:8080/"
        },
        "outputId": "ed111841-e027-41a7-f82f-af6c252016fc"
      },
      "source": [
        "# Конвертировать два списка в словарь\n",
        "# А теперь займемся преобразованием двух списков в словарь:\n",
        "\n",
        "def to_dictionary(keys, values):\n",
        "    return dict(zip(keys, values))\n",
        "    \n",
        "\n",
        "keys = [\"a\", \"b\", \"c\"]    \n",
        "values = [2, 3, 4]\n",
        "print(to_dictionary(keys, values)) \n"
      ],
      "execution_count": null,
      "outputs": [
        {
          "output_type": "stream",
          "text": [
            "{'a': 2, 'b': 3, 'c': 4}\n"
          ],
          "name": "stdout"
        }
      ]
    },
    {
      "cell_type": "code",
      "metadata": {
        "colab": {
          "base_uri": "https://localhost:8080/"
        },
        "id": "-Tj0_BNpiscj",
        "outputId": "cf4ea6d4-c992-42d8-ab86-26ac452b04bd"
      },
      "source": [
        "# Палиндром\n",
        "# Проверяет, является ли строка палиндромом\n",
        "def palindrome(a):\n",
        "    return a == a[::-1]\n",
        "\n",
        "palindrome('mom') \n"
      ],
      "execution_count": null,
      "outputs": [
        {
          "output_type": "execute_result",
          "data": {
            "text/plain": [
              "True"
            ]
          },
          "metadata": {
            "tags": []
          },
          "execution_count": 3
        }
      ]
    },
    {
      "cell_type": "code",
      "metadata": {
        "colab": {
          "base_uri": "https://localhost:8080/"
        },
        "id": "oG6J0VntkhOd",
        "outputId": "25819861-d085-41a7-a316-db4253bfe348"
      },
      "source": [
        "# Перечисления и списки\n",
        "# В этом фрагменте кода можно использовать перечисление для получения значений и индексов списков.\n",
        "\n",
        "list = [\"a\", \"b\", \"c\", \"d\"]\n",
        "\n",
        "for index, element in enumerate(list): \n",
        "    print(\"Value\", element, \"Index \", index, )\n",
        "\n"
      ],
      "execution_count": null,
      "outputs": [
        {
          "output_type": "stream",
          "text": [
            "Value a Index  0\n",
            "Value b Index  1\n",
            "Value c Index  2\n",
            "Value d Index  3\n"
          ],
          "name": "stdout"
        }
      ]
    },
    {
      "cell_type": "code",
      "metadata": {
        "id": "RlzjZe8Cl0Id",
        "colab": {
          "base_uri": "https://localhost:8080/"
        },
        "outputId": "039a66d4-d31c-439a-ff8f-b144ef5a4eed"
      },
      "source": [
        "# Операторы множеств\n",
        "\n",
        "a = {'A', 'B','C'}\n",
        "b = {'C','D', 'E'}\n",
        "# Объединение\n",
        "a | b \n",
        "\n",
        "# Пересечение\n",
        "a & b\n",
        "\n",
        "# Симметрическая разность\n",
        "a ^ b\n",
        "\n",
        "# Разность множеств\n",
        "a - b \n"
      ],
      "execution_count": null,
      "outputs": [
        {
          "output_type": "execute_result",
          "data": {
            "text/plain": [
              "{'A', 'B'}"
            ]
          },
          "metadata": {
            "tags": []
          },
          "execution_count": 3
        }
      ]
    },
    {
      "cell_type": "code",
      "metadata": {
        "colab": {
          "base_uri": "https://localhost:8080/"
        },
        "id": "EmJBWVXtGGgP",
        "outputId": "c9345e23-d52f-49f3-eac8-6d91248a374c"
      },
      "source": [
        "#  Проверка дубликатов\n",
        "# Это самый быстрый способ проверки наличия повторяющихся значений в списке.\n",
        "\n",
        "def check_duplicate(lst):\n",
        "    return len(lst) != len(set(lst))\n",
        "check_duplicate([1,2,3,4,5,4,6]) # True\n",
        "check_duplicate([1,2,3]) # False\n",
        "check_duplicate([1,2,3,4,9]) # False"
      ],
      "execution_count": null,
      "outputs": [
        {
          "output_type": "execute_result",
          "data": {
            "text/plain": [
              "False"
            ]
          },
          "metadata": {
            "tags": []
          },
          "execution_count": 1
        }
      ]
    },
    {
      "cell_type": "code",
      "metadata": {
        "id": "cpJsosdxJXQm"
      },
      "source": [
        "# Перемешивание списка\n",
        "\n",
        "from random import shuffle\n",
        "\n",
        "my_list1=[1,2,3,4,5,6]\n",
        "my_list2=[\"A\",\"B\",\"C\",\"D\"]\n",
        "shuffle(my_list1) # [4, 6, 1, 3, 2, 5]\n",
        "shuffle(my_list2) # ['A', 'D', 'B', 'C']"
      ],
      "execution_count": null,
      "outputs": []
    },
    {
      "cell_type": "code",
      "metadata": {
        "id": "w_XRsGm5KUF2",
        "colab": {
          "base_uri": "https://localhost:8080/"
        },
        "outputId": "7707a4de-a9c9-4efe-e274-e318f684babb"
      },
      "source": [
        "# Печать в одной строке\n",
        "# Мы знаем, что функция print выполняет вывод в каждой строке, и если использовать две функции print, они выполнят печать в две строки. \n",
        "# Этот пример покажет, как выполнять вывод в той же строке без перехода на новую.\n",
        "\n",
        "# fastest way\n",
        "import sys\n",
        "sys.stdout.write(\"Call of duty \")\n",
        "sys.stdout.write(\"and Black Ops. \")\n",
        "# output: Call of duty and Black Ops\n",
        "\n",
        "#another way but only for python 3\n",
        "print(\"Python \", end=\"\")\n",
        "print(\"Programming\") \n",
        "# output: Python Programming\n"
      ],
      "execution_count": null,
      "outputs": [
        {
          "output_type": "stream",
          "text": [
            "Call of duty and Black Ops. Python Programming\n"
          ],
          "name": "stdout"
        }
      ]
    },
    {
      "cell_type": "code",
      "metadata": {
        "colab": {
          "base_uri": "https://localhost:8080/"
        },
        "id": "gTjiXNrAapq1",
        "outputId": "54df1663-b4e4-4d71-9a1a-9763ce652287"
      },
      "source": [
        "# Хэширование\n",
        "# Хэш — это целое число фиксированного размера, которое идентифицирует определенное значение. \n",
        "# Каждое уникальное значение должно иметь свой собственный хэш\n",
        "\n",
        "hash(42)\n",
        "hash('Hello')\n",
        "hash(42)==hash(22)"
      ],
      "execution_count": null,
      "outputs": [
        {
          "output_type": "execute_result",
          "data": {
            "text/plain": [
              "False"
            ]
          },
          "metadata": {
            "tags": []
          },
          "execution_count": 9
        }
      ]
    },
    {
      "cell_type": "code",
      "metadata": {
        "colab": {
          "base_uri": "https://localhost:8080/"
        },
        "id": "t-XiM2grrlRp",
        "outputId": "fba0f242-9ac7-48e0-cd91-0a5f3827e229"
      },
      "source": [
        "# Найти сумму четных чисел Фибоначчи\n",
        "f1, f2, s = 0, 1, 0\n",
        "while f2 <= 4000000:\n",
        "    s = s + f2 if f2 % 2 == 0 else s\n",
        "    f1, f2 = f2, f1 + f2\n",
        "print(s)"
      ],
      "execution_count": null,
      "outputs": [
        {
          "output_type": "stream",
          "text": [
            "4613732\n"
          ],
          "name": "stdout"
        }
      ]
    },
    {
      "cell_type": "code",
      "metadata": {
        "id": "EbslOcxLlraq",
        "colab": {
          "base_uri": "https://localhost:8080/"
        },
        "outputId": "b656f0ae-ee6b-4013-b210-477e49f321a9"
      },
      "source": [
        "# Текущая дата и время\n",
        "# Import Necessary Modules\n",
        "from datetime import date\n",
        "from datetime import time\n",
        "from datetime import datetime\n",
        "from datetime import timedelta\n",
        "time_now = datetime.now()\n",
        "print(time_now)\n",
        "\n"
      ],
      "execution_count": null,
      "outputs": [
        {
          "output_type": "stream",
          "text": [
            "2021-07-01 15:03:23.517978\n"
          ],
          "name": "stdout"
        }
      ]
    },
    {
      "cell_type": "code",
      "metadata": {
        "colab": {
          "base_uri": "https://localhost:8080/"
        },
        "id": "DrGXXdcBza38",
        "outputId": "4c3d6084-9346-4199-d0ee-2ac1e6758ecd"
      },
      "source": [
        "# Лямбда-функция может быть назначена переменной, создавая краткий способ определения функции:\n",
        "add_one = lambda x: x + 1\n",
        "add_one(3)\n",
        "  "
      ],
      "execution_count": null,
      "outputs": [
        {
          "output_type": "execute_result",
          "data": {
            "text/plain": [
              "4"
            ]
          },
          "metadata": {
            "tags": []
          },
          "execution_count": 1
        }
      ]
    },
    {
      "cell_type": "code",
      "metadata": {
        "id": "CAPRO0i70lJz",
        "colab": {
          "base_uri": "https://localhost:8080/"
        },
        "outputId": "227a1c71-7500-408a-d569-8f5dab62a248"
      },
      "source": [
        "# Для принудительного использования аргументов ставьте символ звездочки перед ними, заставляя все аргументы стать ключевыми:\n",
        "def f(*, a, b):\n",
        "  print(a, b)\n",
        "\n",
        "# f(1, 2)\n",
        "\n",
        "f(a=1, b=2)\n"
      ],
      "execution_count": null,
      "outputs": [
        {
          "output_type": "stream",
          "text": [
            "1 2\n"
          ],
          "name": "stdout"
        }
      ]
    },
    {
      "cell_type": "code",
      "metadata": {
        "colab": {
          "base_uri": "https://localhost:8080/"
        },
        "id": "md2vz86WOAs6",
        "outputId": "02c5da89-35c6-4dcb-83ad-3ce3fd8d9295"
      },
      "source": [
        "# Распаковка объектов\n",
        "# Можно использовать оператор * (астерикс) для распаковки кортежей, списков,\n",
        "# множеств и других итерируемых объектов.\n",
        "\n",
        "A = [1, 2, 3]\n",
        "B = [4, 5, 6]\n",
        "C = [7, 8, 9]\n",
        "\n",
        "L = [*A, *B, *C]\n",
        "\n",
        "L"
      ],
      "execution_count": null,
      "outputs": [
        {
          "output_type": "execute_result",
          "data": {
            "text/plain": [
              "[1, 2, 3, 4, 5, 6, 7, 8, 9]"
            ]
          },
          "metadata": {
            "tags": []
          },
          "execution_count": 6
        }
      ]
    },
    {
      "cell_type": "code",
      "metadata": {
        "colab": {
          "base_uri": "https://localhost:8080/"
        },
        "id": "nwyln4cDS86T",
        "outputId": "66c02f71-0ba8-4a65-b97f-2dd6353c761b"
      },
      "source": [
        "# Множественное присваивание + распаковка\n",
        "# Если вас интересует только первый элемент, то можно испльзовать множественное присваивание\n",
        "# + распаковку (оператор *)\n",
        "\n",
        "first, *_, last = [1, 2, 3, 4, 5, 6]\n",
        "\n",
        "# В _ запишется все остальное.\n",
        "first\n",
        "last\n",
        "_"
      ],
      "execution_count": null,
      "outputs": [
        {
          "output_type": "execute_result",
          "data": {
            "text/plain": [
              "[2, 3, 4, 5]"
            ]
          },
          "metadata": {
            "tags": []
          },
          "execution_count": 12
        }
      ]
    },
    {
      "cell_type": "code",
      "metadata": {
        "id": "8EqRUai6VYR8",
        "colab": {
          "base_uri": "https://localhost:8080/",
          "height": 130
        },
        "outputId": "573ce900-000d-4eb4-9aa7-13cf0ef3d7be"
      },
      "source": [
        "# switch-case только для Python 3.10\n",
        "\n",
        "def http_error(status):\n",
        "  match status:\n",
        "    case 400:\n",
        "      return 'Bad request'\n",
        "    case 404:\n",
        "      return 'Not found'\n",
        "    case _:\n",
        "      return \"Something's wrong with the Internet\"\n",
        "\n"
      ],
      "execution_count": null,
      "outputs": [
        {
          "output_type": "error",
          "ename": "SyntaxError",
          "evalue": "ignored",
          "traceback": [
            "\u001b[0;36m  File \u001b[0;32m\"<ipython-input-13-bd414dd6f25d>\"\u001b[0;36m, line \u001b[0;32m4\u001b[0m\n\u001b[0;31m    match status:\u001b[0m\n\u001b[0m               ^\u001b[0m\n\u001b[0;31mSyntaxError\u001b[0m\u001b[0;31m:\u001b[0m invalid syntax\n"
          ]
        }
      ]
    },
    {
      "cell_type": "code",
      "metadata": {
        "id": "piwqk-_qYQZa",
        "colab": {
          "base_uri": "https://localhost:8080/"
        },
        "outputId": "21c10006-96ab-4a59-e835-52a3013668a1"
      },
      "source": [
        "# Поиск самого частого элемента\n",
        "\n",
        "from collections import Counter\n",
        "\n",
        "arr = [1, 2, 2, 2, 3, 4, 5, 8, 7, 6, 6, 6, 7]\n",
        "\n",
        "Counter(arr).most_common(2)\n"
      ],
      "execution_count": null,
      "outputs": [
        {
          "output_type": "execute_result",
          "data": {
            "text/plain": [
              "[(2, 3), (6, 3)]"
            ]
          },
          "metadata": {
            "tags": []
          },
          "execution_count": 16
        }
      ]
    },
    {
      "cell_type": "code",
      "metadata": {
        "colab": {
          "base_uri": "https://localhost:8080/"
        },
        "id": "rI_RMHS5Q4e3",
        "outputId": "89c30d4f-1d78-49ec-b68f-56570c9419aa"
      },
      "source": [
        "# Удаление элемента из строки с помощью метода replace()\n",
        "str = \"pythonist\"\n",
        "print (\"Исходная строка: \" + str) \n",
        "res_str = str.replace('t', '') \n",
        "# Удаление всех 't' \n",
        "print(\"Строка после удаления всех символов t: \" + res_str) \n",
        "# Удаление только первой t \n",
        "res_str = str.replace('t', '', 1) \n",
        "print (\"Строка после удаления первого t: \" + res_str)\n"
      ],
      "execution_count": null,
      "outputs": [
        {
          "output_type": "stream",
          "text": [
            "Исходная строка: pythonist\n",
            "Строка после удаления всех символов t: pyhonis\n",
            "Строка после удаления первого t: pyhonist\n"
          ],
          "name": "stdout"
        }
      ]
    },
    {
      "cell_type": "code",
      "metadata": {
        "id": "AH_GoGoJRyde",
        "colab": {
          "base_uri": "https://localhost:8080/"
        },
        "outputId": "23fe9f2b-54d4-4d3a-e227-c139dce03907"
      },
      "source": [
        "# Удаление символа из строки с помощью метода translate()\n",
        "str = 'pythonist123pythonist'\n",
        "print(str.translate({ord(i): None for i in '123'}))\n",
        "\n",
        "\n"
      ],
      "execution_count": null,
      "outputs": [
        {
          "output_type": "stream",
          "text": [
            "pythonistpythonist\n"
          ],
          "name": "stdout"
        }
      ]
    },
    {
      "cell_type": "code",
      "metadata": {
        "colab": {
          "base_uri": "https://localhost:8080/"
        },
        "id": "He2pDxmGUtCI",
        "outputId": "90c33277-d4b6-425a-a18a-941615f5ae69"
      },
      "source": [
        "# Пример, который подсчитывает буквы в слове \"Mississippi\"\n",
        "\n",
        "word = \"mississippi\"\n",
        "counter = {}\n",
        "\n",
        "for letter in word:\n",
        "  if letter not in counter:\n",
        "    counter[letter] = 0\n",
        "  counter[letter] += 1\n",
        "counter"
      ],
      "execution_count": null,
      "outputs": [
        {
          "output_type": "execute_result",
          "data": {
            "text/plain": [
              "{'i': 4, 'm': 1, 'p': 2, 's': 4}"
            ]
          },
          "metadata": {
            "tags": []
          },
          "execution_count": 8
        }
      ]
    },
    {
      "cell_type": "code",
      "metadata": {
        "colab": {
          "base_uri": "https://localhost:8080/"
        },
        "id": "M6Gif875YrHU",
        "outputId": "d2f77a77-ee4f-432a-ee9b-f61d962e9ac9"
      },
      "source": [
        "# Еще один способ подсчета объектов со словарем — использовать dict.get() \n",
        "# в качестве значения по умолчанию:0\n",
        "\n",
        "word = \"mississippi\"\n",
        "counter = {}\n",
        "\n",
        "for letter in word:\n",
        "    counter[letter] = counter.get(letter, 0) + 1\n",
        "\n",
        "counter"
      ],
      "execution_count": null,
      "outputs": [
        {
          "output_type": "execute_result",
          "data": {
            "text/plain": [
              "{'i': 4, 'm': 1, 'p': 2, 's': 4}"
            ]
          },
          "metadata": {
            "tags": []
          },
          "execution_count": 7
        }
      ]
    },
    {
      "cell_type": "code",
      "metadata": {
        "colab": {
          "base_uri": "https://localhost:8080/"
        },
        "id": "yeRa1d_Zb-8r",
        "outputId": "78e47940-42f6-47d6-f34b-491f71afe8a8"
      },
      "source": [
        "from collections import defaultdict\n",
        "\n",
        "word = \"mississippi\"\n",
        "counter = defaultdict(int)\n",
        "\n",
        "for letter in word:\n",
        "    counter[letter] += 1\n",
        "\n",
        "\n",
        "counter"
      ],
      "execution_count": null,
      "outputs": [
        {
          "output_type": "execute_result",
          "data": {
            "text/plain": [
              "defaultdict(int, {'i': 4, 'm': 1, 'p': 2, 's': 4})"
            ]
          },
          "metadata": {
            "tags": []
          },
          "execution_count": 1
        }
      ]
    },
    {
      "cell_type": "code",
      "metadata": {
        "colab": {
          "base_uri": "https://localhost:8080/"
        },
        "id": "SuRpELPBcj0J",
        "outputId": "387dbc17-ec63-4937-f588-905f693ef50a"
      },
      "source": [
        "from collections import Counter\n",
        "\n",
        "# Use a string as an argument\n",
        "Counter(\"mississippi\")\n",
        "Counter({'i': 4, 's': 4, 'p': 2, 'm': 1})\n",
        "\n",
        "# Use a list as an argument\n",
        "Counter(list(\"mississippi, ivanov\"))\n"
      ],
      "execution_count": null,
      "outputs": [
        {
          "output_type": "execute_result",
          "data": {
            "text/plain": [
              "Counter({' ': 1,\n",
              "         ',': 1,\n",
              "         'a': 1,\n",
              "         'i': 5,\n",
              "         'm': 1,\n",
              "         'n': 1,\n",
              "         'o': 1,\n",
              "         'p': 2,\n",
              "         's': 4,\n",
              "         'v': 2})"
            ]
          },
          "metadata": {
            "tags": []
          },
          "execution_count": 7
        }
      ]
    },
    {
      "cell_type": "code",
      "metadata": {
        "colab": {
          "base_uri": "https://localhost:8080/"
        },
        "id": "UFHHninBfX3r",
        "outputId": "9a7c9028-502f-4b44-f000-5d0a09f32bfc"
      },
      "source": [
        "# Отображение подсчетов в качестве аргумента. В этом случае вы можете сделать что-то вроде этого:.update()\n",
        "\n",
        "from collections import Counter\n",
        "sales = Counter(apple=25, orange=15, banana=12)\n",
        "# Use a counter\n",
        "monday_sales = Counter(apple=10, orange=8, banana=3)\n",
        "sales.update(monday_sales)\n",
        "sales\n",
        "\n",
        "# Use a dictionary of counts\n",
        "tuesday_sales = {\"apple\": 4, \"orange\": 7, \"tomato\": 4}\n",
        "sales.update(tuesday_sales)\n",
        "sales\n"
      ],
      "execution_count": null,
      "outputs": [
        {
          "output_type": "execute_result",
          "data": {
            "text/plain": [
              "Counter({'apple': 39, 'banana': 15, 'orange': 30, 'tomato': 4})"
            ]
          },
          "metadata": {
            "tags": []
          },
          "execution_count": 10
        }
      ]
    },
    {
      "cell_type": "code",
      "metadata": {
        "colab": {
          "base_uri": "https://localhost:8080/"
        },
        "id": "Z0_9m_JdlIFr",
        "outputId": "a5aea6b0-b9c2-4920-fa86-2ba93c9b0004"
      },
      "source": [
        "from collections import Counter\n",
        "\n",
        "letters = Counter(\"mississippi\")\n",
        "letters[\"p\"]\n"
      ],
      "execution_count": null,
      "outputs": [
        {
          "output_type": "execute_result",
          "data": {
            "text/plain": [
              "2"
            ]
          },
          "metadata": {
            "tags": []
          },
          "execution_count": 1
        }
      ]
    },
    {
      "cell_type": "code",
      "metadata": {
        "id": "K785gUu8gZCX",
        "colab": {
          "base_uri": "https://localhost:8080/"
        },
        "outputId": "8c546fb5-93cb-404f-ebb5-cf51e6d59cd4"
      },
      "source": [
        "# Как сравнить массивы\n",
        "\n",
        "arr1 = (1,2,3,5,7,9)\n",
        "arr2 = (1,2,3,5,8)\n",
        "def arr_set(arr1,arr2):\n",
        "  for x in range(10):\n",
        "    if arr1[x] != arr2[x]:\n",
        "      return False\n",
        "    else:\n",
        "      return True\n",
        "\n",
        "arr_set(arr1,arr2)"
      ],
      "execution_count": null,
      "outputs": [
        {
          "output_type": "execute_result",
          "data": {
            "text/plain": [
              "True"
            ]
          },
          "metadata": {
            "tags": []
          },
          "execution_count": 12
        }
      ]
    },
    {
      "cell_type": "code",
      "metadata": {
        "colab": {
          "base_uri": "https://localhost:8080/",
          "height": 130
        },
        "id": "Bw5hG-Y1Y9we",
        "outputId": "cf185705-f54f-4910-e964-5c5478095d6b"
      },
      "source": [
        "pip3 install pyperclip\n",
        "# Наша прог­рамма будет монито­рить буфер обме­на и печатать на экра­не любой текст, который копиру­ет поль­зователь. \n",
        "\n",
        "\n",
        "# Подключим модуль для работы с буфером обмена\n",
        "import pyperclip\n",
        "# Подключим модуль для работы с системным временем\n",
        "import time\n",
        "# Задаем переменную old и присваиваем ей пустую строку\n",
        "old = ''\n",
        "# Начнем бесконечный цикл слежения за буфером обмена\n",
        "while True:\n",
        "    # Кладем в переменную s содержимое буфера обмена\n",
        "    s = pyperclip.paste()\n",
        "    # Если полученное содержимое не равно предыдущему, то:\n",
        "    if(s != old):\n",
        "        # печатаем его\n",
        "        print(s)\n",
        "        # в переменную old записываем текущее пойманное значение\n",
        "        # чтобы в следующий виток цикла не повторяться и не печатать то, что уже поймано\n",
        "        old = s\n",
        "    # В конце витка цикла делаем паузу в одну секунду, чтобы содержимое буфера обмена успело прогрузиться\n",
        "    time.sleep(1)"
      ],
      "execution_count": null,
      "outputs": [
        {
          "output_type": "error",
          "ename": "SyntaxError",
          "evalue": "ignored",
          "traceback": [
            "\u001b[0;36m  File \u001b[0;32m\"<ipython-input-1-9144319c39b3>\"\u001b[0;36m, line \u001b[0;32m1\u001b[0m\n\u001b[0;31m    pip3 install pyperclip\u001b[0m\n\u001b[0m               ^\u001b[0m\n\u001b[0;31mSyntaxError\u001b[0m\u001b[0;31m:\u001b[0m invalid syntax\n"
          ]
        }
      ]
    },
    {
      "cell_type": "code",
      "metadata": {
        "colab": {
          "base_uri": "https://localhost:8080/"
        },
        "id": "AoK85euHbylD",
        "outputId": "1668b6f5-6e67-4d4e-fa1f-896e6067e145"
      },
      "source": [
        "s = '''Я не люблю пить пиво.\n",
        "Оно невкусное и неполезное!'''\n",
        "s = s.replace('не','')\n",
        "print(s)"
      ],
      "execution_count": null,
      "outputs": [
        {
          "output_type": "stream",
          "text": [
            "Я  люблю пить пиво.\n",
            "Оно вкусное и полезное!\n"
          ],
          "name": "stdout"
        }
      ]
    },
    {
      "cell_type": "code",
      "metadata": {
        "colab": {
          "base_uri": "https://localhost:8080/"
        },
        "id": "0FHoJy8Bgpgl",
        "outputId": "d79f2a2c-5987-4569-87ff-6cf33bf5bb68"
      },
      "source": [
        "# От строк мож­но брать сре­зы как от мас­сивов, если ука­зать начало и конец подс­тро­ки в квад­ратных скоб­ках пос­ле перемен­ной. \n",
        "# Позиция начина­ется с нуля.\n",
        "\n",
        "s = 'Меня зовут Бонд, Джеймс Бонд'\n",
        "a = s[11:15]\n",
        "print('Фамилия: ' + a)"
      ],
      "execution_count": null,
      "outputs": [
        {
          "output_type": "stream",
          "text": [
            "Фамилия: Бонд\n"
          ],
          "name": "stdout"
        }
      ]
    },
    {
      "cell_type": "code",
      "metadata": {
        "colab": {
          "base_uri": "https://localhost:8080/"
        },
        "id": "2pSSoUAjhDaB",
        "outputId": "87f68ffd-3181-43e0-dfa2-c7444e047c76"
      },
      "source": [
        "# Ес­ли нуж­но сде­лать срез с начала стро­ки, пер­вую циф­ру мож­но не писать.\n",
        "# Пред­положим, тебе нуж­но най­ти в спис­ке стро­ки, которые начина­ются на https. \n",
        "# Переби­раем их с помощью for, для каж­дой про­веря­ем, сов­пада­ют ли пер­вые пять зна­ков со стро­кой https, и если да, то выводим стро­ку:\n",
        "\n",
        "mas = [ 'Это просто строка', 'https://xakep.ru', 'Еще одна строка', 'https://habr.ru' ]\n",
        "for x in mas:\n",
        "    if x[:5] == 'https':\n",
        "        print(x)"
      ],
      "execution_count": null,
      "outputs": [
        {
          "output_type": "stream",
          "text": [
            "https://xakep.ru\n",
            "https://habr.ru\n"
          ],
          "name": "stdout"
        }
      ]
    },
    {
      "cell_type": "code",
      "metadata": {
        "id": "_tt_oRzEhyHv",
        "colab": {
          "base_uri": "https://localhost:8080/"
        },
        "outputId": "c4cee1d3-22cc-4870-d347-69f401906aa8"
      },
      "source": [
        "# Что­бы пос­читать количес­тво вхож­дений подс­тро­ки в стро­ку, мож­но исполь­зовать метод .count():\n",
        "\n",
        "s = 'Прикинь, короче, я такой, короче, ему бах эксплоитом по порту, а он, короче, упал сразу!'\n",
        "n = s.count('короче')\n",
        "print(n)"
      ],
      "execution_count": null,
      "outputs": [
        {
          "output_type": "stream",
          "text": [
            "3\n"
          ],
          "name": "stdout"
        }
      ]
    },
    {
      "cell_type": "code",
      "metadata": {
        "id": "MyKGEzkiiaQP",
        "colab": {
          "base_uri": "https://localhost:8080/"
        },
        "outputId": "535bc1d9-9d54-48bf-dfc5-8cf6e4395efa"
      },
      "source": [
        "# Иног­да в начале или в кон­це стро­ки могут быть лиш­ние про­белы или перено­сы строк. Давай уда­лим их спе­циаль­ной коман­дой .strip():\n",
        "\n",
        "s = ' Пива много не бывает!  \\n'\n",
        "s = s.strip()\n",
        "print(s)\n"
      ],
      "execution_count": null,
      "outputs": [
        {
          "output_type": "stream",
          "text": [
            "Пива много не бывает!\n"
          ],
          "name": "stdout"
        }
      ]
    },
    {
      "cell_type": "code",
      "metadata": {
        "id": "xRiLWo21ioZ1",
        "colab": {
          "base_uri": "https://localhost:8080/"
        },
        "outputId": "f206aac6-186e-48c5-99e7-b0f5d9d2aa3c"
      },
      "source": [
        "# Что­бы опре­делить наличие подс­тро­ки в стро­ке s, мож­но исполь­зовать метод .find():\n",
        "\n",
        "n = s.find('строка, которую ищем')\n",
        "# Ес­ли иско­мая подс­тро­ка най­дена, то в перемен­ную n попадет ее позиция в стро­ке, а если не най­дена, n ста­нет рав­ной -1\n",
        "\n",
        "print(n)"
      ],
      "execution_count": null,
      "outputs": [
        {
          "output_type": "stream",
          "text": [
            "-1\n"
          ],
          "name": "stdout"
        }
      ]
    },
    {
      "cell_type": "code",
      "metadata": {
        "id": "6CJANooXjbMM",
        "colab": {
          "base_uri": "https://localhost:8080/"
        },
        "outputId": "81fba79c-2801-49d6-f61f-abe1a192662c"
      },
      "source": [
        "# Но сна­чала нам понадо­бит­ся еще один стро­ковый метод — .split(). \n",
        "# Он поз­воля­ет раз­делить стро­ку на час­ти, ука­зав в качес­тве аргу­мен­та стро­ку‑раз­делитель. \n",
        "# Нап­ример, s.split('\\n') раз­делит текст на абза­цы по сим­волу перено­са стро­ки. \n",
        "# Если же оста­вить скоб­ки пус­тыми, то будет исполь­зован раз­делитель по умол­чанию — про­бел.\n",
        "\n",
        "s = 'Это обычная строка, а в ней адрес почты vasya@xakep.ru'\n",
        "words = s.split()\n",
        "for w in words:\n",
        "    n = w.find('@xakep.ru')\n",
        "    if n != -1:\n",
        "        print('Найден e-mail: ' + str(w) + ' в позиции ' + str(n))"
      ],
      "execution_count": null,
      "outputs": [
        {
          "output_type": "stream",
          "text": [
            "Найден e-mail: vasya@xakep.ru в позиции 5\n"
          ],
          "name": "stdout"
        }
      ]
    },
    {
      "cell_type": "code",
      "metadata": {
        "id": "Q6KuxpnFkg1p",
        "colab": {
          "base_uri": "https://localhost:8080/"
        },
        "outputId": "1c7097df-bf1b-4ef4-da62-35f9b96110cb"
      },
      "source": [
        "# Ме­тод .join() поз­воля­ет, наобо­рот, скле­ивать стро­ки. \n",
        "# Он при­нима­ет спи­сок и воз­вра­щает стро­ку, где каж­дый эле­мент спис­ка соеди­нен с дру­гим через стро­ку, у которой ты выз­вал этот метод.\n",
        "\n",
        "s = 'вирус внедряется '\n",
        "list1 = ['раз, ', 'два, ', 'три...']\n",
        "print(s + s.join(list1))"
      ],
      "execution_count": null,
      "outputs": [
        {
          "output_type": "stream",
          "text": [
            "вирус внедряется раз, вирус внедряется два, вирус внедряется три...\n"
          ],
          "name": "stdout"
        }
      ]
    },
    {
      "cell_type": "code",
      "metadata": {
        "colab": {
          "base_uri": "https://localhost:8080/"
        },
        "id": "wzf7EPSQnPTI",
        "outputId": "0e3c5d0d-f9e1-4766-e301-4762f692eeaf"
      },
      "source": [
        "# Функция map() может принимать пользовательские функции в качестве параметров. \n",
        "# Параметры этих функций устанавливаются исключительно пользователем или программистом.\n",
        "\n",
        "def newfunc(a):\n",
        "\t return a*a\t\n",
        "\t\n",
        "x = map(newfunc, (1,2,3,4)) # x - это объект типа map\n",
        "print(x)\n",
        "print(set(x))\n"
      ],
      "execution_count": null,
      "outputs": [
        {
          "output_type": "stream",
          "text": [
            "<map object at 0x7f7216322e10>\n",
            "{16, 1, 4, 9}\n"
          ],
          "name": "stdout"
        }
      ]
    },
    {
      "cell_type": "code",
      "metadata": {
        "colab": {
          "base_uri": "https://localhost:8080/"
        },
        "id": "Z54vRPbZqI1B",
        "outputId": "62f7865c-2ab6-4fe8-e78e-fec82716685f"
      },
      "source": [
        "def func(a, b):\n",
        "\treturn a + b\n",
        "\t\n",
        "a = map(func, [2, 4, 5], [1,2,3])\n",
        "print(a)\n",
        "print(tuple(a))\n"
      ],
      "execution_count": null,
      "outputs": [
        {
          "output_type": "stream",
          "text": [
            "<map object at 0x7f7216307f90>\n",
            "(3, 6, 8)\n"
          ],
          "name": "stdout"
        }
      ]
    },
    {
      "cell_type": "code",
      "metadata": {
        "colab": {
          "base_uri": "https://localhost:8080/"
        },
        "id": "etCzPGl_rCd5",
        "outputId": "26f8c0a8-20a5-4b22-be46-6825d29214c1"
      },
      "source": [
        "# Когда вы совместно друг с другом используете функции, \n",
        "# то сначала исполняются внутренние функции, а затем внешние функции обрабатывают результат выполнения внутренних функций.\n",
        "\n",
        "c = map(lambda x:x+x,filter(lambda x: (x>=3), (1,2,3,4)))\n",
        "print(list(c))\n"
      ],
      "execution_count": null,
      "outputs": [
        {
          "output_type": "stream",
          "text": [
            "[6, 8]\n"
          ],
          "name": "stdout"
        }
      ]
    },
    {
      "cell_type": "code",
      "metadata": {
        "id": "iCcCyoAusBKw",
        "colab": {
          "base_uri": "https://localhost:8080/"
        },
        "outputId": "3590dacd-3fb0-435e-994a-e036ae047437"
      },
      "source": [
        "tup = (5, 7, 22, 97, 54, 62, 77, 23, 73, 61)\n",
        "newtuple = tuple(map(lambda x: x+3 , tup)) \n",
        "print(newtuple)\n"
      ],
      "execution_count": null,
      "outputs": [
        {
          "output_type": "stream",
          "text": [
            "(8, 10, 25, 100, 57, 65, 80, 26, 76, 64)\n"
          ],
          "name": "stdout"
        }
      ]
    },
    {
      "cell_type": "code",
      "metadata": {
        "colab": {
          "base_uri": "https://localhost:8080/"
        },
        "id": "nBvzUkGA7i_O",
        "outputId": "138cc8d5-350c-4700-e8bf-e59710fefbfe"
      },
      "source": [
        "def IsPrime(n):\n",
        "    d = 2\n",
        "    while n % d != 0:\n",
        "        d += 1\n",
        "    return d == n\n",
        "\n",
        "IsPrime(15)"
      ],
      "execution_count": 7,
      "outputs": [
        {
          "output_type": "execute_result",
          "data": {
            "text/plain": [
              "False"
            ]
          },
          "metadata": {
            "tags": []
          },
          "execution_count": 7
        }
      ]
    },
    {
      "cell_type": "code",
      "metadata": {
        "colab": {
          "base_uri": "https://localhost:8080/"
        },
        "id": "OZbABdFD84Wj",
        "outputId": "6c68516c-290d-468f-a540-43c9312230b8"
      },
      "source": [
        "# Поиск простых чисел.\n",
        "# вводим N\n",
        "num = input(\"n=\")\n",
        "# создаем пустой список для хранения простых чисел\n",
        "lst = []\n",
        "# в k будем хранить количество делителей\n",
        "k = 0\n",
        "n = int(num)\n",
        "# пробегаем все числа от 2 до N\n",
        "for i in range(2, n+1):\n",
        "    # пробегаем все числа от 2 до текущего\n",
        "    for j in range(2, i):\n",
        "        # ищем количество делителей\n",
        "        if i % j == 0:\n",
        "            k = k + 1\n",
        "    # если делителей нет, добавляем число в список\n",
        "    if k == 0:\n",
        "        lst.append(i)\n",
        "    else:\n",
        "        k = 0\n",
        "# выводим на экран список\n",
        "print (lst)"
      ],
      "execution_count": 17,
      "outputs": [
        {
          "output_type": "stream",
          "text": [
            "n=100\n",
            "[2, 3, 5, 7, 11, 13, 17, 19, 23, 29, 31, 37, 41, 43, 47, 53, 59, 61, 67, 71, 73, 79, 83, 89, 97]\n"
          ],
          "name": "stdout"
        }
      ]
    }
  ]
}