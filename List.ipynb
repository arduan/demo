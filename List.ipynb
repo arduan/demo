{
  "nbformat": 4,
  "nbformat_minor": 0,
  "metadata": {
    "colab": {
      "name": "List.ipynb",
      "provenance": [],
      "authorship_tag": "ABX9TyPGbK9QTjZbcdfcu3xC8Rrp",
      "include_colab_link": true
    },
    "kernelspec": {
      "name": "python3",
      "display_name": "Python 3"
    },
    "language_info": {
      "name": "python"
    }
  },
  "cells": [
    {
      "cell_type": "markdown",
      "metadata": {
        "id": "view-in-github",
        "colab_type": "text"
      },
      "source": [
        "<a href=\"https://colab.research.google.com/github/arduan/demo/blob/master/List.ipynb\" target=\"_parent\"><img src=\"https://colab.research.google.com/assets/colab-badge.svg\" alt=\"Open In Colab\"/></a>"
      ]
    },
    {
      "cell_type": "code",
      "metadata": {
        "colab": {
          "base_uri": "https://localhost:8080/"
        },
        "id": "nysR8wgqSRmt",
        "outputId": "e93c2ba7-c65f-48a3-9b3d-5d90d64e6d34"
      },
      "source": [
        "# Допустим, у нас есть два списка, list_1 и list_2, \n",
        "# которые мы хотим объединить (то есть склеить вместе два целых списка).\n",
        "\n",
        "list_1 = [1,2,3,4,5]\n",
        "list_2 = [6,7,8]\n",
        "print(list_1 + list_2)\n",
        "# Output\n",
        "[1, 2, 3, 4, 5, 6, 7, 8]\n",
        "print(list_1)\n",
        "# Output\n",
        "[1, 2, 3, 4, 5]\n",
        "print(list_2)\n",
        "\n",
        "# Если вы внимательно прочтете приведенный выше код, вы заметите следующие вещи:\n",
        "\n",
        "# list_1 + list_2 не добавляет элементы из list_2 в list_1.\n",
        "# Вместо этого создается новый список, содержащий элементы из list_1 и list_2.\n",
        "# В результате сами списки list_1 и list_2 остаются в первозданном виде."
      ],
      "execution_count": 2,
      "outputs": [
        {
          "output_type": "stream",
          "text": [
            "[1, 2, 3, 4, 5, 6, 7, 8]\n",
            "[1, 2, 3, 4, 5]\n",
            "[6, 7, 8]\n"
          ],
          "name": "stdout"
        }
      ]
    },
    {
      "cell_type": "code",
      "metadata": {
        "colab": {
          "base_uri": "https://localhost:8080/"
        },
        "id": "rPNlcclgTrCl",
        "outputId": "4c4c735c-be34-4fd1-9ea9-c37a3ead92b4"
      },
      "source": [
        "# В коде, приведенном ниже, для списка list_1 вызывается метод append(), \n",
        "# которому в качестве аргумента передается list_2.\n",
        "\n",
        "# Добавим list_2 к list_1\n",
        "\n",
        "list_1.append(list_2)\n",
        "print(list_1)\n",
        "\n",
        "# Выведем длину list_1\n",
        "print(len(list_1))\n",
        "\n",
        "# Мы видим, что list_2 добавился в конец list_1 как отдельный элемент.\n",
        "# Таким образом, длина list_1 в результате операции append() увеличилась на единицу.\n",
        "# Но что, если мы хотим добавить в list_1 не список list_2 целиком, как отдельный элемент, \n",
        "# а все элементы этого списка? Мы рассмотрим, как это делается, в следующем разделе."
      ],
      "execution_count": 3,
      "outputs": [
        {
          "output_type": "stream",
          "text": [
            "[1, 2, 3, 4, 5, [6, 7, 8]]\n",
            "6\n"
          ],
          "name": "stdout"
        }
      ]
    }
  ]
}