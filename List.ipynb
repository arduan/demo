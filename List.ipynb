{
  "nbformat": 4,
  "nbformat_minor": 0,
  "metadata": {
    "colab": {
      "name": "List.ipynb",
      "provenance": [],
      "authorship_tag": "ABX9TyOVMAj3B8pP0I36USVUP+2D",
      "include_colab_link": true
    },
    "kernelspec": {
      "name": "python3",
      "display_name": "Python 3"
    },
    "language_info": {
      "name": "python"
    }
  },
  "cells": [
    {
      "cell_type": "markdown",
      "metadata": {
        "id": "view-in-github",
        "colab_type": "text"
      },
      "source": [
        "<a href=\"https://colab.research.google.com/github/arduan/demo/blob/master/List.ipynb\" target=\"_parent\"><img src=\"https://colab.research.google.com/assets/colab-badge.svg\" alt=\"Open In Colab\"/></a>"
      ]
    },
    {
      "cell_type": "code",
      "metadata": {
        "colab": {
          "base_uri": "https://localhost:8080/"
        },
        "id": "nysR8wgqSRmt",
        "outputId": "e93c2ba7-c65f-48a3-9b3d-5d90d64e6d34"
      },
      "source": [
        "# Допустим, у нас есть два списка, list_1 и list_2, \n",
        "# которые мы хотим объединить (то есть склеить вместе два целых списка).\n",
        "\n",
        "list_1 = [1,2,3,4,5]\n",
        "list_2 = [6,7,8]\n",
        "print(list_1 + list_2)\n",
        "# Output\n",
        "[1, 2, 3, 4, 5, 6, 7, 8]\n",
        "print(list_1)\n",
        "# Output\n",
        "[1, 2, 3, 4, 5]\n",
        "print(list_2)"
      ],
      "execution_count": 2,
      "outputs": [
        {
          "output_type": "stream",
          "text": [
            "[1, 2, 3, 4, 5, 6, 7, 8]\n",
            "[1, 2, 3, 4, 5]\n",
            "[6, 7, 8]\n"
          ],
          "name": "stdout"
        }
      ]
    }
  ]
}