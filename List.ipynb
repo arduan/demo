{
  "nbformat": 4,
  "nbformat_minor": 0,
  "metadata": {
    "colab": {
      "name": "List.ipynb",
      "provenance": [],
      "authorship_tag": "ABX9TyPCjUqWaXtuYW/lRm/+liOQ",
      "include_colab_link": true
    },
    "kernelspec": {
      "name": "python3",
      "display_name": "Python 3"
    },
    "language_info": {
      "name": "python"
    }
  },
  "cells": [
    {
      "cell_type": "markdown",
      "metadata": {
        "id": "view-in-github",
        "colab_type": "text"
      },
      "source": [
        "<a href=\"https://colab.research.google.com/github/arduan/demo/blob/master/List.ipynb\" target=\"_parent\"><img src=\"https://colab.research.google.com/assets/colab-badge.svg\" alt=\"Open In Colab\"/></a>"
      ]
    },
    {
      "cell_type": "code",
      "metadata": {
        "colab": {
          "base_uri": "https://localhost:8080/"
        },
        "id": "nysR8wgqSRmt",
        "outputId": "e93c2ba7-c65f-48a3-9b3d-5d90d64e6d34"
      },
      "source": [
        "# Допустим, у нас есть два списка, list_1 и list_2, \n",
        "# которые мы хотим объединить (то есть склеить вместе два целых списка).\n",
        "\n",
        "list_1 = [1,2,3,4,5]\n",
        "list_2 = [6,7,8]\n",
        "print(list_1 + list_2)\n",
        "\n",
        "print(list_1)\n",
        "\n",
        "print(list_2)\n",
        "\n",
        "# Если вы внимательно прочтете приведенный выше код, вы заметите следующие вещи:\n",
        "\n",
        "# list_1 + list_2 не добавляет элементы из list_2 в list_1.\n",
        "# Вместо этого создается новый список, содержащий элементы из list_1 и list_2.\n",
        "# В результате сами списки list_1 и list_2 остаются в первозданном виде."
      ],
      "execution_count": null,
      "outputs": [
        {
          "output_type": "stream",
          "text": [
            "[1, 2, 3, 4, 5, 6, 7, 8]\n",
            "[1, 2, 3, 4, 5]\n",
            "[6, 7, 8]\n"
          ],
          "name": "stdout"
        }
      ]
    },
    {
      "cell_type": "code",
      "metadata": {
        "colab": {
          "base_uri": "https://localhost:8080/"
        },
        "id": "rPNlcclgTrCl",
        "outputId": "4c4c735c-be34-4fd1-9ea9-c37a3ead92b4"
      },
      "source": [
        "# В коде, приведенном ниже, для списка list_1 вызывается метод append(), \n",
        "# которому в качестве аргумента передается list_2.\n",
        "\n",
        "# Добавим list_2 к list_1\n",
        "\n",
        "list_1.append(list_2)\n",
        "print(list_1)\n",
        "\n",
        "# Выведем длину list_1\n",
        "print(len(list_1))\n",
        "\n",
        "# Мы видим, что list_2 добавился в конец list_1 как отдельный элемент.\n",
        "# Таким образом, длина list_1 в результате операции append() увеличилась на единицу.\n",
        "# Но что, если мы хотим добавить в list_1 не список list_2 целиком, как отдельный элемент, \n",
        "# а все элементы этого списка? Мы рассмотрим, как это делается, в следующем разделе."
      ],
      "execution_count": null,
      "outputs": [
        {
          "output_type": "stream",
          "text": [
            "[1, 2, 3, 4, 5, [6, 7, 8]]\n",
            "6\n"
          ],
          "name": "stdout"
        }
      ]
    },
    {
      "cell_type": "code",
      "metadata": {
        "colab": {
          "base_uri": "https://localhost:8080/"
        },
        "id": "RWMlojzQUjV0",
        "outputId": "a13e17df-4790-45f5-b225-1968d9c7d666"
      },
      "source": [
        "# Использование метода extend() в Python\n",
        "# Прежде чем воспользоваться методом extend(), давайте проделаем следующие шаги:\n",
        "# переберем в цикле list_2\n",
        "# добавим каждый элемент list_2 в list_1 при помощи метода append().\n",
        "\n",
        "for item in list_2:\n",
        "  list_1.append(item)\n",
        "print(list_1)\n",
        "\n",
        "# Итак, мы добавили все элементы второго списка в первый — как и хотели.\n",
        "\n",
        "# То же самое можно сделать путем вызова метода extend() для list_1. \n",
        "# В качестве аргумента методу передается list_2. Как это работает, вы можете видеть в следующем примере:\n",
        "\n",
        "# Расширим list_1 за счет элементов из list_2\n",
        "\n",
        "list_1.extend(list_2)\n",
        "print(list_1)\n",
        "\n",
        "# Выведем длину list_1\n",
        "print(len(list_1))\n",
        "\n",
        "# Таким образом, если вы расширяете список с длиной len1 за счет элементов списка с длиной len2, \n",
        "# то длина списка, для которого вызвали метод extend(), станет len1 + len2."
      ],
      "execution_count": null,
      "outputs": [
        {
          "output_type": "stream",
          "text": [
            "[1, 2, 3, 4, 5, [6, 7, 8], 6, 7, 8, 6, 7, 8, 6, 7, 8]\n",
            "[1, 2, 3, 4, 5, [6, 7, 8], 6, 7, 8, 6, 7, 8, 6, 7, 8, 6, 7, 8]\n",
            "18\n"
          ],
          "name": "stdout"
        }
      ]
    },
    {
      "cell_type": "code",
      "metadata": {
        "colab": {
          "base_uri": "https://localhost:8080/"
        },
        "id": "JHvAuLoVmpZn",
        "outputId": "cb38bc6f-246a-4a27-80e3-f9bf7ee00dec"
      },
      "source": [
        "# Применение map со списком.\n",
        "def double(n):\n",
        "  return 2*n\n",
        "l = [1,2,3,4,5]\n",
        "applied = map(double, l) # This is an iterator, not a list\n",
        "appliedList = list(applied) # This is the list: [2,4,6,8,10]\n",
        "\n",
        "print(appliedList)"
      ],
      "execution_count": 6,
      "outputs": [
        {
          "output_type": "stream",
          "text": [
            "[2, 4, 6, 8, 10]\n"
          ],
          "name": "stdout"
        }
      ]
    },
    {
      "cell_type": "code",
      "metadata": {
        "id": "nZqtySmJn6YZ",
        "outputId": "f226a960-0de0-45bd-a6a0-5d237d94c39e",
        "colab": {
          "base_uri": "https://localhost:8080/"
        }
      },
      "source": [
        "# Удаление дубликатов из списка.\n",
        "\n",
        "l = [1,2,4,3,2,1,5,4,2,3]\n",
        "l = list(set(l))\n",
        "print(l) # Output: [1,2,3,4,5] (in some order)"
      ],
      "execution_count": 7,
      "outputs": [
        {
          "output_type": "stream",
          "text": [
            "[1, 2, 3, 4, 5]\n"
          ],
          "name": "stdout"
        }
      ]
    },
    {
      "cell_type": "code",
      "metadata": {
        "id": "6IVgBc9eoeD8",
        "outputId": "2c06f2c1-d059-426e-ff5e-6fb8683785a3",
        "colab": {
          "base_uri": "https://localhost:8080/"
        }
      },
      "source": [
        "# Нахождение индекса min/max в списке.\n",
        "\n",
        "l = [4,6,3,1,2,5]\n",
        "minIdx = l.index(min(l)) # This will be 3\n",
        "maxIdx = l.index(max(l)) # This will be 1\n",
        "\n",
        "print(minIdx)\n",
        "print(maxIdx)"
      ],
      "execution_count": 9,
      "outputs": [
        {
          "output_type": "stream",
          "text": [
            "3\n",
            "1\n"
          ],
          "name": "stdout"
        }
      ]
    }
  ]
}