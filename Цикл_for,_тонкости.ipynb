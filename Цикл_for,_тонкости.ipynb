{
  "nbformat": 4,
  "nbformat_minor": 0,
  "metadata": {
    "colab": {
      "name": "Цикл for, тонкости.ipynb",
      "provenance": [],
      "authorship_tag": "ABX9TyPrtfY3KEV03PnWcZR5d0pf",
      "include_colab_link": true
    },
    "kernelspec": {
      "name": "python3",
      "display_name": "Python 3"
    },
    "language_info": {
      "name": "python"
    }
  },
  "cells": [
    {
      "cell_type": "markdown",
      "metadata": {
        "id": "view-in-github",
        "colab_type": "text"
      },
      "source": [
        "<a href=\"https://colab.research.google.com/github/arduan/demo/blob/master/%D0%A6%D0%B8%D0%BA%D0%BB_for%2C_%D1%82%D0%BE%D0%BD%D0%BA%D0%BE%D1%81%D1%82%D0%B8.ipynb\" target=\"_parent\"><img src=\"https://colab.research.google.com/assets/colab-badge.svg\" alt=\"Open In Colab\"/></a>"
      ]
    },
    {
      "cell_type": "code",
      "metadata": {
        "colab": {
          "base_uri": "https://localhost:8080/"
        },
        "id": "k-lUHSiAl3Gw",
        "outputId": "a19f2e7a-d65a-4e96-cb13-04bfa334a77b"
      },
      "source": [
        "# product  является частью встроенного модуля Python — itertools. \n",
        "# С ее помощью мы можем избавиться от вложенных циклов. \n",
        "\n",
        "\n",
        "# Без product\n",
        "# Объявлено три списка чисел. \n",
        "# Нам нужно вывести три числа (по одному из каждого списка), сумма которых равна 2077. \n",
        "list_a = [1, 2020, 70]\n",
        "list_b = [2, 4, 7, 2000]\n",
        "list_c = [3, 70, 7]\n",
        "\n",
        "for a in list_a:\n",
        "    for b in list_b:\n",
        "        for c in list_c:\n",
        "            if a + b + c == 2077:\n",
        "                print(a, b, c)\n",
        "# 70 2000 7\n",
        "\n",
        "# А теперь опробуем функцию product.\n",
        "\n",
        "from itertools import product\n",
        "\n",
        "list_a = [1, 2020, 70]\n",
        "list_b = [2, 4, 7, 2000]\n",
        "list_c = [3, 70, 7]\n",
        "\n",
        "for a, b, c in product(list_a, list_b, list_c):\n",
        "    if a + b + c == 2077:\n",
        "        print(a, b, c)\n",
        "\n",
        "# 70 2000 7"
      ],
      "execution_count": null,
      "outputs": [
        {
          "output_type": "stream",
          "name": "stdout",
          "text": [
            "70 2000 7\n",
            "70 2000 7\n"
          ]
        }
      ]
    },
    {
      "cell_type": "code",
      "metadata": {
        "colab": {
          "base_uri": "https://localhost:8080/"
        },
        "id": "asAnGChXokVT",
        "outputId": "3cf5298f-701a-49f6-96f3-e64db42810d5"
      },
      "source": [
        "# Функция chain() помогает нам объединять несколько итераторов в один.\n",
        "\n",
        "from itertools import chain\n",
        "\n",
        "list_a = [1, 22]\n",
        "list_b = [7, 20]\n",
        "list_c = [3, 70]\n",
        "\n",
        "for i in chain(list_a, list_b, list_c):\n",
        "    print(i)\n",
        "\n",
        "# 1,22,7,20,3,70"
      ],
      "execution_count": 1,
      "outputs": [
        {
          "output_type": "stream",
          "name": "stdout",
          "text": [
            "1\n",
            "22\n",
            "7\n",
            "20\n",
            "3\n",
            "70\n"
          ]
        }
      ]
    },
    {
      "cell_type": "code",
      "metadata": {
        "id": "FPNEbqmHrBpk",
        "outputId": "2fb4cf25-f38c-460f-da7f-c7fa7d29cc68",
        "colab": {
          "base_uri": "https://localhost:8080/"
        }
      },
      "source": [
        "# Функция groupby() позволяет получить повторяющиеся элементы в итераторе и сгруппировать их. \n",
        "\n",
        "from itertools import groupby\n",
        "\n",
        "for key, group in groupby('Pyttthhhonissst'):\n",
        "    print(key, list(group))\n",
        "\n"
      ],
      "execution_count": 2,
      "outputs": [
        {
          "output_type": "stream",
          "name": "stdout",
          "text": [
            "P ['P']\n",
            "y ['y']\n",
            "t ['t', 't', 't']\n",
            "h ['h', 'h', 'h']\n",
            "o ['o']\n",
            "n ['n']\n",
            "i ['i']\n",
            "s ['s', 's', 's']\n",
            "t ['t']\n"
          ]
        }
      ]
    }
  ]
}