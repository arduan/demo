{
  "nbformat": 4,
  "nbformat_minor": 0,
  "metadata": {
    "colab": {
      "name": "if __name__.ipynb",
      "provenance": [],
      "authorship_tag": "ABX9TyPVk4i4Ata3P1l32P2pNDSr",
      "include_colab_link": true
    },
    "kernelspec": {
      "name": "python3",
      "display_name": "Python 3"
    },
    "language_info": {
      "name": "python"
    }
  },
  "cells": [
    {
      "cell_type": "markdown",
      "metadata": {
        "id": "view-in-github",
        "colab_type": "text"
      },
      "source": [
        "<a href=\"https://colab.research.google.com/github/arduan/demo/blob/master/if___name__.ipynb\" target=\"_parent\"><img src=\"https://colab.research.google.com/assets/colab-badge.svg\" alt=\"Open In Colab\"/></a>"
      ]
    },
    {
      "cell_type": "code",
      "metadata": {
        "id": "AfK7G1urOS5p"
      },
      "source": [
        "Что происходит во время вызова if __name__ == \"__main__\":?\n",
        "\n",
        "# Threading example\n",
        "import time, thread\n",
        "\n",
        "def myfunction(string, sleeptime, lock, *args):\n",
        "    while 1:\n",
        "        lock.acquire()\n",
        "        time.sleep(sleeptime)\n",
        "        lock.release()\n",
        "        time.sleep(sleeptime)\n",
        "if __name__ == \"__main__\":\n",
        "    lock = thread.allocate_lock()\n",
        "    thread.start_new_thread(myfunction, (\"Thread #: 1\", 2, lock))\n",
        "    thread.start_new_thread(myfunction, (\"Thread #: 2\", 2, lock))\n",
        "\n",
        "# Когда интерпретатор Python читает исходный файл, он исполняет весь найденный в нем код. \n",
        "# Перед тем, как начать выполнять команды, он определяет несколько специальных переменных. \n",
        "# Например, если интерпретатор запускает некоторый модуль (исходный файл) как основную программу, \n",
        "# он присваивает специальной переменной __name__ значение \"__main__\". Если этот файл импортируется из другого модуля, переменной __name__ будет присвоено имя этого модуля.\n",
        "\n",
        "# В случае с вашим сценарием, предположим, что код исполняется как основная функция, например:\n",
        "\n",
        "# После задания специальный переменных интерпретатор выполнит инструкцию import и загрузит указанные модули. \n",
        "# Затем он проанализирует блок def, создаст объект-функцию и переменную под названием myfunction, которая будет указывать на этот объект.\n",
        "\n",
        "# Затем он прочтет инструкцию if, «поймёт», что __name__ эквивалентен \"__main__\", и выполнит указанный блок.\n",
        "\n",
        "# Одна из причин делать именно так – тот факт, что иногда вы пишете модуль (файл с расширением .py), предназначенный для непосредственного исполнения. \n",
        "# Кроме того, он также может быть импортирован и использован из другого модуля. Производя подобную проверку, вы можете сделать так, \n",
        "# что код будет исполняться только при условии, что данный модуль запущен как программа, и запретить исполнять его, \n",
        "# если его хотят импортировать и использовать функции модуля отдельно.\n",
        "\n"
      ],
      "execution_count": null,
      "outputs": []
    }
  ]
}