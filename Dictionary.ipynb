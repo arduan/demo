{
  "nbformat": 4,
  "nbformat_minor": 0,
  "metadata": {
    "colab": {
      "name": "Dictionary.ipynb",
      "provenance": [],
      "authorship_tag": "ABX9TyOQwib3wKhhe5MQFpXRxJ0l",
      "include_colab_link": true
    },
    "kernelspec": {
      "name": "python3",
      "display_name": "Python 3"
    },
    "language_info": {
      "name": "python"
    }
  },
  "cells": [
    {
      "cell_type": "markdown",
      "metadata": {
        "id": "view-in-github",
        "colab_type": "text"
      },
      "source": [
        "<a href=\"https://colab.research.google.com/github/arduan/demo/blob/master/Dictionary.ipynb\" target=\"_parent\"><img src=\"https://colab.research.google.com/assets/colab-badge.svg\" alt=\"Open In Colab\"/></a>"
      ]
    },
    {
      "cell_type": "code",
      "metadata": {
        "colab": {
          "base_uri": "https://localhost:8080/"
        },
        "id": "CL3aQENq8qWm",
        "outputId": "f4d5771d-e16c-4f0f-a649-54f9e69d5545"
      },
      "source": [
        "# Метод items()\n",
        "# Метод items() используется для возврата списка кортежей с парами всех ключей и значений словаря.\n",
        "# Синтаксис:dictionary.items()\n",
        "# Данный метод не принимает никаких аргументов.\n",
        "# Приведем пример использования данной функции.\n",
        "# Объявлен словарь с именем products. Ключи содержат названия продуктов, а значения — их цены. Используем для нашего словаря метод items() и сохраним в другой переменной с именем itemlist, а затем выведем на экран.\n",
        "\n",
        "products = { 'Fresh Oil': 500, 'Mango Juice': 30, '5 star Chocalate': 20, 'Dan Fruit Cake':50 }\n",
        "itemlist = products.items()\n",
        "print('The output of items() method:\\n', itemlist)\n",
        "\n"
      ],
      "execution_count": null,
      "outputs": [
        {
          "output_type": "stream",
          "text": [
            "The output of items() method:\n",
            " dict_items([('Fresh Oil', 500), ('Mango Juice', 30), ('5 star Chocalate', 20), ('Dan Fruit Cake', 50)])\n"
          ],
          "name": "stdout"
        }
      ]
    },
    {
      "cell_type": "code",
      "metadata": {
        "colab": {
          "base_uri": "https://localhost:8080/"
        },
        "id": "WaP5z0lJ-cMK",
        "outputId": "f3dbae4a-656b-428e-9460-24043d58d047"
      },
      "source": [
        "# Метод keys()\n",
        "# keys() используется для возврата списка со всеми ключами словаря.\n",
        "# Синтаксис: dictionary.keys()\n",
        "# Этот метод также не принимает никаких аргументов.\n",
        "# Давайте рассмотрим метод keys() на примере. В скрипте объявлен словарь с именем products. Как и в предыдущем примере, ключи содержат названия продуктов, а значения — их цену. Применим метод keys(), а возвращаемые значения сохраним в переменной с именем keylist, которую затем выведем на экран.\n",
        "# Если вам нужен список всех значений словаря, следует использовать метод values(), который работает аналогичным образом.\n",
        "\n",
        "products = { 'Fresh Oil': 500, 'Mango Juice': 30, '5 star Chocalate': 20, 'Dan Fruit Cake':50 }\n",
        "keylist = products.keys()\n",
        "print('The output of keys() method:\\n', keylist)\n",
        "\n"
      ],
      "execution_count": null,
      "outputs": [
        {
          "output_type": "stream",
          "text": [
            "The output of keys() method:\n",
            " dict_keys(['Fresh Oil', 'Mango Juice', '5 star Chocalate', 'Dan Fruit Cake'])\n"
          ],
          "name": "stdout"
        }
      ]
    },
    {
      "cell_type": "code",
      "metadata": {
        "colab": {
          "base_uri": "https://localhost:8080/"
        },
        "id": "sU5437eLAF8w",
        "outputId": "f7d1152a-8eec-4178-f5b2-47158c14c33d"
      },
      "source": [
        "# Метод setdefault()\n",
        "# setdefault() используется для получения значения любого конкретного ключа из словаря, если такой ключ существует. \n",
        "# Этот метод можно использовать для установки значения по умолчанию, если указанного ключа в словаре нет.\n",
        "# Синтаксис: dictionary.setdefault(key_value [, default_value])\n",
        "# У этого метода два аргумента. Первый является обязательным и используется для указания ключа, по которому будет выполняться поиск в словаре. \n",
        "# Второй аргумент опционален. Он используется для установки значения по умолчанию, если ключа, указанного в первом аргументе, не окажется в словаре. \n",
        "# Если указанного ключа в словаре нет, а значение по умолчанию не определено, метод вернет «None».\n",
        "# Следующий пример показывает использование метода setdefault() в словаре. Возьмем все тот же словарь products . \n",
        "# Для начала используем метод setdefault() с одним аргументом. Сохраним его в переменную с именем juice_price и выведем эту переменную на экран.\n",
        "\n",
        "products = { 'Fresh Oil': 500, 'Mango Juice': 30, '5 star Chocolate': 20, 'Dan Fruit Cake':50 }\n",
        "juice_price = products.setdefault('Mango Juice')\n",
        "print('Juice price is TK.',juice_price)\n",
        "\n",
        "# Результат:\n",
        "#  Juice price is TK. 30\n",
        "# Ключ Mango Juice существует в словаре. Значение этого ключа 30, оно и выводится на экран.\n",
        "# А теперь давайте используем этот метод с двумя аргументами, сохраним в переменную с именем cake_price и выведем ее.\n",
        "\n",
        "cake_price = products.setdefault('Cake',35)\n",
        "\n",
        "print('Cake price is TK.',cake_price)\n",
        "\n",
        "# Выполним данный код и получим следующее:\n",
        "# Cake price is TK. 35\n",
        "# Ключа Cake в словаре нет. Поэтому печатается значение по умолчанию для метода setdefault(), в нашем случае это 35.\n"
      ],
      "execution_count": null,
      "outputs": [
        {
          "output_type": "stream",
          "text": [
            "Juice price is TK. 30\n",
            "Cake price is TK. 35\n"
          ],
          "name": "stdout"
        }
      ]
    },
    {
      "cell_type": "code",
      "metadata": {
        "id": "MntVnlZ5iElN",
        "colab": {
          "base_uri": "https://localhost:8080/"
        },
        "outputId": "067bd0c1-f979-44ad-cbf4-0bcd2893bf2c"
      },
      "source": [
        "# Допустим, мы испекли 10 вишневых булочек. Теперь нам нужно внести их в словарь. \n",
        "# Сделать это можно так:\n",
        "\n",
        "scones = {\n",
        "\"Фрукты\": 22,\n",
        "\"Пустая\": 14,\n",
        "\"Корица\": 4,\n",
        "\"Сыр\": 21\n",
        "}\n",
        "scones[\"Вишня\"] = 10\n",
        "print(scones)\n"
      ],
      "execution_count": null,
      "outputs": [
        {
          "output_type": "stream",
          "text": [
            "{'Фрукты': 22, 'Пустая': 14, 'Корица': 4, 'Сыр': 21, 'Вишня': 10}\n"
          ],
          "name": "stdout"
        }
      ]
    },
    {
      "cell_type": "code",
      "metadata": {
        "id": "RW4ubfodtwL2",
        "colab": {
          "base_uri": "https://localhost:8080/"
        },
        "outputId": "14cc0d44-4f7c-4d6b-fcb8-aa81a913fa37"
      },
      "source": [
        "# Создаем словарь из набора ключей.\n",
        "\n",
        "keys = ['a', 'b', 'c']\n",
        "{k: 'value' for k in keys}\n",
        "\n",
        "# И другой вариант\n",
        "dict.fromkeys(keys, 'value')\n"
      ],
      "execution_count": null,
      "outputs": [
        {
          "output_type": "execute_result",
          "data": {
            "text/plain": [
              "{'a': 'value', 'b': 'value', 'c': 'value'}"
            ]
          },
          "metadata": {},
          "execution_count": 3
        }
      ]
    },
    {
      "cell_type": "code",
      "metadata": {
        "id": "bi9viNGAlAzo",
        "outputId": "d4869eca-e161-418a-95ca-013e266a2240",
        "colab": {
          "base_uri": "https://localhost:8080/"
        }
      },
      "source": [
        "children = [\n",
        "    {\"name\": \"ashwin\", \"age\": 12},\n",
        "    {\"name\": \"radhika\", \"age\": 3},\n",
        "]\n",
        "sorted_children = sorted(children, key=lambda x: x['age'])\n",
        "print(sorted_children)"
      ],
      "execution_count": 3,
      "outputs": [
        {
          "output_type": "stream",
          "name": "stdout",
          "text": [
            "[{'name': 'radhika', 'age': 3}, {'name': 'ashwin', 'age': 12}]\n"
          ]
        }
      ]
    }
  ]
}