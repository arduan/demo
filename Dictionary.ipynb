{
  "nbformat": 4,
  "nbformat_minor": 0,
  "metadata": {
    "colab": {
      "name": "Dictionary.ipynb",
      "provenance": [],
      "authorship_tag": "ABX9TyP9Po2MOwQIKXoWcxZRqJQm",
      "include_colab_link": true
    },
    "kernelspec": {
      "name": "python3",
      "display_name": "Python 3"
    },
    "language_info": {
      "name": "python"
    }
  },
  "cells": [
    {
      "cell_type": "markdown",
      "metadata": {
        "id": "view-in-github",
        "colab_type": "text"
      },
      "source": [
        "<a href=\"https://colab.research.google.com/github/arduan/demo/blob/master/Dictionary.ipynb\" target=\"_parent\"><img src=\"https://colab.research.google.com/assets/colab-badge.svg\" alt=\"Open In Colab\"/></a>"
      ]
    },
    {
      "cell_type": "code",
      "metadata": {
        "colab": {
          "base_uri": "https://localhost:8080/"
        },
        "id": "CL3aQENq8qWm",
        "outputId": "f4d5771d-e16c-4f0f-a649-54f9e69d5545"
      },
      "source": [
        "# Метод items()\n",
        "# Метод items() используется для возврата списка кортежей с парами всех ключей и значений словаря.\n",
        "# Синтаксис:dictionary.items()\n",
        "# Данный метод не принимает никаких аргументов.\n",
        "# Приведем пример использования данной функции.\n",
        "# Объявлен словарь с именем products. Ключи содержат названия продуктов, а значения — их цены. Используем для нашего словаря метод items() и сохраним в другой переменной с именем itemlist, а затем выведем на экран.\n",
        "\n",
        "products = { 'Fresh Oil': 500, 'Mango Juice': 30, '5 star Chocalate': 20, 'Dan Fruit Cake':50 }\n",
        "itemlist = products.items()\n",
        "print('The output of items() method:\\n', itemlist)\n",
        "\n"
      ],
      "execution_count": 4,
      "outputs": [
        {
          "output_type": "stream",
          "text": [
            "The output of items() method:\n",
            " dict_items([('Fresh Oil', 500), ('Mango Juice', 30), ('5 star Chocalate', 20), ('Dan Fruit Cake', 50)])\n"
          ],
          "name": "stdout"
        }
      ]
    },
    {
      "cell_type": "code",
      "metadata": {
        "colab": {
          "base_uri": "https://localhost:8080/"
        },
        "id": "WaP5z0lJ-cMK",
        "outputId": "f3dbae4a-656b-428e-9460-24043d58d047"
      },
      "source": [
        "# Метод keys()\n",
        "# keys() используется для возврата списка со всеми ключами словаря.\n",
        "# Синтаксис: dictionary.keys()\n",
        "# Этот метод также не принимает никаких аргументов.\n",
        "# Давайте рассмотрим метод keys() на примере. В скрипте объявлен словарь с именем products. Как и в предыдущем примере, ключи содержат названия продуктов, а значения — их цену. Применим метод keys(), а возвращаемые значения сохраним в переменной с именем keylist, которую затем выведем на экран.\n",
        "# Если вам нужен список всех значений словаря, следует использовать метод values(), который работает аналогичным образом.\n",
        "\n",
        "products = { 'Fresh Oil': 500, 'Mango Juice': 30, '5 star Chocalate': 20, 'Dan Fruit Cake':50 }\n",
        "keylist = products.keys()\n",
        "print('The output of keys() method:\\n', keylist)\n",
        "\n"
      ],
      "execution_count": 5,
      "outputs": [
        {
          "output_type": "stream",
          "text": [
            "The output of keys() method:\n",
            " dict_keys(['Fresh Oil', 'Mango Juice', '5 star Chocalate', 'Dan Fruit Cake'])\n"
          ],
          "name": "stdout"
        }
      ]
    }
  ]
}