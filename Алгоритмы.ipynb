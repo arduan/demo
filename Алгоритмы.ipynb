{
  "nbformat": 4,
  "nbformat_minor": 0,
  "metadata": {
    "colab": {
      "name": "Алгоритмы.ipynb",
      "provenance": [],
      "authorship_tag": "ABX9TyMrTHiPmk4UtlPnc/HfQNi8",
      "include_colab_link": true
    },
    "kernelspec": {
      "name": "python3",
      "display_name": "Python 3"
    },
    "language_info": {
      "name": "python"
    }
  },
  "cells": [
    {
      "cell_type": "markdown",
      "metadata": {
        "id": "view-in-github",
        "colab_type": "text"
      },
      "source": [
        "<a href=\"https://colab.research.google.com/github/arduan/demo/blob/master/%D0%90%D0%BB%D0%B3%D0%BE%D1%80%D0%B8%D1%82%D0%BC%D1%8B.ipynb\" target=\"_parent\"><img src=\"https://colab.research.google.com/assets/colab-badge.svg\" alt=\"Open In Colab\"/></a>"
      ]
    },
    {
      "cell_type": "code",
      "metadata": {
        "colab": {
          "base_uri": "https://localhost:8080/"
        },
        "id": "n2hFG55r4y8_",
        "outputId": "08fb7c12-8c03-44ac-a61a-5b7f6676cef3"
      },
      "source": [
        "#  Из книги \"Грокаем Алгоритмы\"\n",
        "# Бинарный поиск\n",
        "\n",
        "def binari_search(list, item):\n",
        "  low = 0 \n",
        "  high = len(list)-1\n",
        "  # В переменных low и high хранятся границы тойчасти списка, в которой выполняется поиск.\n",
        "\n",
        "  while low <= high: \n",
        "    mid = (low + high)\n",
        "    # Пока эта часть не сократится до одного элемента... проверяем средний элемент.\n",
        "    guess = list[mid]\n",
        "    if guess == item:\n",
        "      # Значение найдено\n",
        "      return mid\n",
        "    if guess > item:\n",
        "      # Много\n",
        "      high = mid - 1\n",
        "    else:\n",
        "      low = mid + 1\n",
        "  return None\n",
        "\n",
        "my_list = [1, 3, 5, 7, 9]\n",
        "\n",
        "print (binari_search(my_list, 5))\n",
        "\n"
      ],
      "execution_count": null,
      "outputs": [
        {
          "output_type": "stream",
          "text": [
            "2\n"
          ],
          "name": "stdout"
        }
      ]
    },
    {
      "cell_type": "code",
      "metadata": {
        "colab": {
          "base_uri": "https://localhost:8080/"
        },
        "id": "O03mzjKXLuRu",
        "outputId": "cecaff94-50de-41af-ce74-54903019b44d"
      },
      "source": [
        "# Рекурсия\n",
        "\n",
        "def countDound(i):\n",
        "    print(i)\n",
        "    if i <= 1:   \n",
        "      print('Отчет закончен')\n",
        "    else:\n",
        "        countDound(i-1)\n",
        "\n",
        "\n",
        "countDound(10)\n"
      ],
      "execution_count": null,
      "outputs": [
        {
          "output_type": "stream",
          "text": [
            "10\n",
            "9\n",
            "8\n",
            "7\n",
            "6\n",
            "5\n",
            "4\n",
            "3\n",
            "2\n",
            "1\n",
            "Отчет закончен\n"
          ],
          "name": "stdout"
        }
      ]
    },
    {
      "cell_type": "code",
      "metadata": {
        "colab": {
          "base_uri": "https://localhost:8080/"
        },
        "id": "mHt5X-OpNI6H",
        "outputId": "110d4a93-3e90-435e-aae3-347230f82e96"
      },
      "source": [
        "# Факториал через рекурсию.\n",
        "\n",
        "def fact(x):\n",
        "  if x == 1:\n",
        "    return 1\n",
        "  else :\n",
        "    return x * fact(x - 1)\n",
        "\n",
        "fact(20)"
      ],
      "execution_count": null,
      "outputs": [
        {
          "output_type": "execute_result",
          "data": {
            "text/plain": [
              "2432902008176640000"
            ]
          },
          "metadata": {
            "tags": []
          },
          "execution_count": 23
        }
      ]
    },
    {
      "cell_type": "code",
      "metadata": {
        "colab": {
          "base_uri": "https://localhost:8080/",
          "height": 35
        },
        "id": "nv_PKdHHoi8B",
        "outputId": "c66a3646-4ec6-4b21-d1d9-986956f7443b"
      },
      "source": [
        "# Кредитные карты.\n",
        "#Высвечивать последние 4 цифры. \n",
        "\n",
        "card = '12345678954356'\n",
        "\n",
        "def card_credit(card): \n",
        "  star = len(card)-4  \n",
        "  return '*'*star + card[-4:]\n",
        "\n",
        "card_credit(card)"
      ],
      "execution_count": null,
      "outputs": [
        {
          "output_type": "execute_result",
          "data": {
            "application/vnd.google.colaboratory.intrinsic+json": {
              "type": "string"
            },
            "text/plain": [
              "'**********4356'"
            ]
          },
          "metadata": {
            "tags": []
          },
          "execution_count": 18
        }
      ]
    },
    {
      "cell_type": "code",
      "metadata": {
        "id": "ljGyd6yv5NZF",
        "colab": {
          "base_uri": "https://localhost:8080/"
        },
        "outputId": "c07455f1-c09c-47b1-81a5-3ee450fafc6c"
      },
      "source": [
        "# Суммирование чисел в списке в цикле.\n",
        "\n",
        "arr = [3,6,7,8]\n",
        "def sum(arr):\n",
        "  total = 0\n",
        "  for x in arr:\n",
        "    total += x\n",
        "  return total\n",
        "sum(arr)\n",
        "\n"
      ],
      "execution_count": null,
      "outputs": [
        {
          "output_type": "execute_result",
          "data": {
            "text/plain": [
              "24"
            ]
          },
          "metadata": {
            "tags": []
          },
          "execution_count": 1
        }
      ]
    },
    {
      "cell_type": "code",
      "metadata": {
        "colab": {
          "base_uri": "https://localhost:8080/"
        },
        "id": "drt619ecLE9Y",
        "outputId": "588197c2-243f-4505-b8d2-050ce8ffb22f"
      },
      "source": [
        "# Сумма списка методом рекурсии\n",
        "arr = [3,6,7,8]\n",
        "\n",
        "def sum(arr):\n",
        "  total = 0\n",
        "  for element in arr:\n",
        "    if (type(element) == type([])):\n",
        "      total = total + sum(element)\n",
        "    else:\n",
        "      total = total + element\n",
        "  return total\n",
        "\n",
        "\n",
        "sum(arr)"
      ],
      "execution_count": null,
      "outputs": [
        {
          "output_type": "execute_result",
          "data": {
            "text/plain": [
              "24"
            ]
          },
          "metadata": {
            "tags": []
          },
          "execution_count": 6
        }
      ]
    },
    {
      "cell_type": "code",
      "metadata": {
        "colab": {
          "base_uri": "https://localhost:8080/"
        },
        "id": "ZXRiDH7IPrjP",
        "outputId": "cd939093-d6d4-467f-d1ea-e3ca2ebb8494"
      },
      "source": [
        "# Сумма списка методом рекурсии\n",
        "# вариант\n",
        "\n",
        "def getSum(piece):\n",
        "    if len(piece)==0:\n",
        "        return 0\n",
        "    else:\n",
        "        return piece[0] + getSum(piece[1:]) \n",
        "getSum([1, 3, 4, 2, 5, 6])"
      ],
      "execution_count": null,
      "outputs": [
        {
          "output_type": "execute_result",
          "data": {
            "text/plain": [
              "21"
            ]
          },
          "metadata": {
            "tags": []
          },
          "execution_count": 9
        }
      ]
    },
    {
      "cell_type": "code",
      "metadata": {
        "colab": {
          "base_uri": "https://localhost:8080/"
        },
        "id": "023MjY5HRAup",
        "outputId": "bd896d36-a8c2-426a-8099-7d84fdcd09f2"
      },
      "source": [
        "# Сумма списка методом рекурсии\n",
        "# Вариант без проверки длины списка.\n",
        "\n",
        "def getSum(piece):\n",
        "    return piece[0] + getSum(piece[1:]) if piece else 0\n",
        "\n",
        "getSum([34,67,34,77])"
      ],
      "execution_count": null,
      "outputs": [
        {
          "output_type": "execute_result",
          "data": {
            "text/plain": [
              "212"
            ]
          },
          "metadata": {
            "tags": []
          },
          "execution_count": 10
        }
      ]
    },
    {
      "cell_type": "code",
      "metadata": {
        "id": "qSWbD2chR01c",
        "colab": {
          "base_uri": "https://localhost:8080/"
        },
        "outputId": "e9ce149d-6ed2-48ff-d1e9-92b9fe1f0994"
      },
      "source": [
        "# Но вы не должны использовать рекурсию в реальном производственном коде. \n",
        "# Это не эффективно, и код гораздо менее понятен, чем при использовании встроенных модулей. \n",
        "# Для этого случая вам не нужны ни рекурсия, ни цикл. Просто используйте встроенную sum:\n",
        "\n",
        "a = [1, 2, 3, 4, 5]\n",
        "sum(a) "
      ],
      "execution_count": null,
      "outputs": [
        {
          "output_type": "execute_result",
          "data": {
            "text/plain": [
              "15"
            ]
          },
          "metadata": {
            "tags": []
          },
          "execution_count": 11
        }
      ]
    },
    {
      "cell_type": "code",
      "metadata": {
        "colab": {
          "base_uri": "https://localhost:8080/"
        },
        "id": "2Z7RRtBbjjEE",
        "outputId": "4dc5ccc3-7cfc-4119-eb79-8b33d30c8314"
      },
      "source": [
        "# Рекурсия еще проще...\n",
        "\n",
        "arr =[1, 2, 3, 4, 5]\n",
        "def my_sum(arr):\n",
        "  if len(arr) == 0:\n",
        "    return 0\n",
        "  else:    \n",
        "    return arr[0] + my_sum(arr[1:])\n",
        "\n",
        "my_sum(arr)"
      ],
      "execution_count": null,
      "outputs": [
        {
          "output_type": "execute_result",
          "data": {
            "text/plain": [
              "15"
            ]
          },
          "metadata": {
            "tags": []
          },
          "execution_count": 15
        }
      ]
    },
    {
      "cell_type": "code",
      "metadata": {
        "id": "sfrFp_TKZv2k",
        "colab": {
          "base_uri": "https://localhost:8080/"
        },
        "outputId": "89868fd9-ac6a-4938-a383-e7616fa8310a"
      },
      "source": [
        "# Быстрая сортировка\n",
        "\n",
        "def quicksort(array):\n",
        "  if len(array) < 2:\n",
        "    return array\n",
        "    # Базовый случай элементы от 0 и 1 уже отсортированы\n",
        "  else:\n",
        "    pivot = array[0]\n",
        "    less = [i for i in array[1:] if i <= pivot]\n",
        "    # Подмассив всех элементов меньше опорного\n",
        "    greater = [i for i in array[1:] if i > pivot]\n",
        "    # Подмассив всех элементов больше опорного\n",
        "    return quicksort(less) + [pivot] + quicksort(greater)\n",
        "\n",
        "quicksort([2,45,3,66,7,4,78])\n"
      ],
      "execution_count": null,
      "outputs": [
        {
          "output_type": "execute_result",
          "data": {
            "text/plain": [
              "[2, 3, 4, 7, 45, 66, 78]"
            ]
          },
          "metadata": {
            "tags": []
          },
          "execution_count": 3
        }
      ]
    },
    {
      "cell_type": "code",
      "metadata": {
        "id": "PIaMHX0J1Dit",
        "colab": {
          "base_uri": "https://localhost:8080/"
        },
        "outputId": "84ce1cf5-4e99-4d3d-d8d2-dcd75cb7fce7"
      },
      "source": [
        "# Хеш-таблица это тоже самое, что и словарь.\n",
        "\n",
        "book = dict()\n",
        "\n",
        "book['milk'] = 1.49\n",
        "book['apple'] = 0.67\n",
        "book['avokado'] = 1.3\n",
        "\n",
        "print(book)\n",
        "print(book['avokado'])"
      ],
      "execution_count": null,
      "outputs": [
        {
          "output_type": "stream",
          "text": [
            "{'milk': 1.49, 'apple': 0.67, 'avokado': 1.3}\n",
            "1.3\n"
          ],
          "name": "stdout"
        }
      ]
    },
    {
      "cell_type": "code",
      "metadata": {
        "id": "ETD8E98tPSo8",
        "outputId": "37892350-b4b9-425c-cb96-0d4ada2e1032",
        "colab": {
          "base_uri": "https://localhost:8080/"
        }
      },
      "source": [
        "# Проверяем список проголосовавших\n",
        "voted = { }\n",
        "def check_voter(name):\n",
        "  if voted.get (name):\n",
        "    print('Есть в списках проголосовавших.') \n",
        "  else :\n",
        "    voted[name] = True\n",
        "    print('Нет в списках проголосовавших') \n",
        "\n",
        "check_voter('Tom')"
      ],
      "execution_count": 3,
      "outputs": [
        {
          "output_type": "stream",
          "text": [
            "Нет в списках проголосовавших\n"
          ],
          "name": "stdout"
        }
      ]
    }
  ]
}