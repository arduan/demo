{
  "nbformat": 4,
  "nbformat_minor": 0,
  "metadata": {
    "colab": {
      "name": "Алгоритмы.ipynb",
      "provenance": [],
      "authorship_tag": "ABX9TyM+bhQE2DP9EDV8VOdlVBKr",
      "include_colab_link": true
    },
    "kernelspec": {
      "name": "python3",
      "display_name": "Python 3"
    },
    "language_info": {
      "name": "python"
    }
  },
  "cells": [
    {
      "cell_type": "markdown",
      "metadata": {
        "id": "view-in-github",
        "colab_type": "text"
      },
      "source": [
        "<a href=\"https://colab.research.google.com/github/arduan/demo/blob/master/%D0%90%D0%BB%D0%B3%D0%BE%D1%80%D0%B8%D1%82%D0%BC%D1%8B.ipynb\" target=\"_parent\"><img src=\"https://colab.research.google.com/assets/colab-badge.svg\" alt=\"Open In Colab\"/></a>"
      ]
    },
    {
      "cell_type": "code",
      "metadata": {
        "colab": {
          "base_uri": "https://localhost:8080/"
        },
        "id": "n2hFG55r4y8_",
        "outputId": "08fb7c12-8c03-44ac-a61a-5b7f6676cef3"
      },
      "source": [
        "#  Из книги \"Грогаем Алгоритмы\"\n",
        "# Бинарный поиск\n",
        "\n",
        "def binari_search(list, item):\n",
        "  low = 0 \n",
        "  high = len(list)-1\n",
        "  # В переменных low и high хранятся границы тойчасти списка, в которой выполняется поиск.\n",
        "\n",
        "  while low <= high: \n",
        "    mid = (low + high)\n",
        "    # Пока эта часть не сократится до одного элемента... проверяем средний элемент.\n",
        "    guess = list[mid]\n",
        "    if guess == item:\n",
        "      # Значение найдено\n",
        "      return mid\n",
        "    if guess > item:\n",
        "      # Много\n",
        "      high = mid - 1\n",
        "    else:\n",
        "      low = mid + 1\n",
        "  return None\n",
        "\n",
        "my_list = [1, 3, 5, 7, 9]\n",
        "\n",
        "print (binari_search(my_list, 5))\n",
        "\n"
      ],
      "execution_count": null,
      "outputs": [
        {
          "output_type": "stream",
          "text": [
            "2\n"
          ],
          "name": "stdout"
        }
      ]
    },
    {
      "cell_type": "code",
      "metadata": {
        "id": "O03mzjKXLuRu",
        "outputId": "cecaff94-50de-41af-ce74-54903019b44d",
        "colab": {
          "base_uri": "https://localhost:8080/"
        }
      },
      "source": [
        "# Рекурсия\n",
        "\n",
        "def countDound(i):\n",
        "    print(i)\n",
        "    if i <= 1:   \n",
        "      print('Отчет закончен')\n",
        "    else:\n",
        "        countDound(i-1)\n",
        "\n",
        "\n",
        "countDound(10)\n"
      ],
      "execution_count": 4,
      "outputs": [
        {
          "output_type": "stream",
          "text": [
            "10\n",
            "9\n",
            "8\n",
            "7\n",
            "6\n",
            "5\n",
            "4\n",
            "3\n",
            "2\n",
            "1\n",
            "Отчет закончен\n"
          ],
          "name": "stdout"
        }
      ]
    }
  ]
}