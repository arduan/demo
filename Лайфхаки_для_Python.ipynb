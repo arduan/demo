{
  "nbformat": 4,
  "nbformat_minor": 0,
  "metadata": {
    "colab": {
      "name": "Лайфхаки для Python.ipynb",
      "provenance": [],
      "authorship_tag": "ABX9TyNun/a63dwOsTwlL9K/YBYn",
      "include_colab_link": true
    },
    "kernelspec": {
      "name": "python3",
      "display_name": "Python 3"
    },
    "language_info": {
      "name": "python"
    }
  },
  "cells": [
    {
      "cell_type": "markdown",
      "metadata": {
        "id": "view-in-github",
        "colab_type": "text"
      },
      "source": [
        "<a href=\"https://colab.research.google.com/github/arduan/demo/blob/master/%D0%9B%D0%B0%D0%B9%D1%84%D1%85%D0%B0%D0%BA%D0%B8_%D0%B4%D0%BB%D1%8F_Python.ipynb\" target=\"_parent\"><img src=\"https://colab.research.google.com/assets/colab-badge.svg\" alt=\"Open In Colab\"/></a>"
      ]
    },
    {
      "cell_type": "code",
      "metadata": {
        "colab": {
          "base_uri": "https://localhost:8080/"
        },
        "id": "9brv6jZfArwU",
        "outputId": "6b0c95d7-8d4d-4d60-98ef-b8799cae3e3b"
      },
      "source": [
        "# Get Method для словаря\n",
        "# Большинство разработчиков используют скобки, чтобы получить значение из словаря. \n",
        "# Но сейчас рекомендуется использовать Get method.\n",
        "# При использовании метода скобок выдается ошибка, если ключ отсутствует. \n",
        "# С помощью Get method вы получите “None” .\n",
        "\n",
        "my_dict = {'a': 1, 'b':2}\n",
        "\n",
        "# Скобки\n",
        "# print(my_dict['c']) # Error (Ошибка)\n",
        "\n",
        "# Get method\n",
        "print(my_dict.get('c')) # None"
      ],
      "execution_count": 2,
      "outputs": [
        {
          "output_type": "stream",
          "text": [
            "None\n"
          ],
          "name": "stdout"
        }
      ]
    },
    {
      "cell_type": "code",
      "metadata": {
        "colab": {
          "base_uri": "https://localhost:8080/"
        },
        "id": "H0G8JR0PBWR7",
        "outputId": "acde23cd-761e-4549-ac8f-cab11e7629e5"
      },
      "source": [
        "# Превращение списка в одну строку\n",
        "# Представьте, что у вас есть список строк, и вы хотите объединить все элементы в одну строку. \n",
        "# Для этого вы наверняка будете перебирать каждый элемент в списке и присоединять к нему следующий.\n",
        "# Но есть более быстрый и эффективный способ выполнения той же задачи с помощью одной строки кода.\n",
        "\n",
        "my_list = [\"Python\", \"is\", \"a\", \"good\", \"Programming\", \"language\"]\n",
        "\n",
        "# Новый способ\n",
        "\n",
        "print(\" \".join(my_list)) "
      ],
      "execution_count": 8,
      "outputs": [
        {
          "output_type": "stream",
          "text": [
            "Python is a good Programming language\n"
          ],
          "name": "stdout"
        }
      ]
    }
  ]
}