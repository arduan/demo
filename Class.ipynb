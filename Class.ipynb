{
  "nbformat": 4,
  "nbformat_minor": 0,
  "metadata": {
    "colab": {
      "name": "Class.ipynb",
      "provenance": [],
      "authorship_tag": "ABX9TyNxRyFVIA2bBj4ntjzwcalu",
      "include_colab_link": true
    },
    "kernelspec": {
      "name": "python3",
      "display_name": "Python 3"
    },
    "language_info": {
      "name": "python"
    }
  },
  "cells": [
    {
      "cell_type": "markdown",
      "metadata": {
        "id": "view-in-github",
        "colab_type": "text"
      },
      "source": [
        "<a href=\"https://colab.research.google.com/github/arduan/demo/blob/master/Class.ipynb\" target=\"_parent\"><img src=\"https://colab.research.google.com/assets/colab-badge.svg\" alt=\"Open In Colab\"/></a>"
      ]
    },
    {
      "cell_type": "markdown",
      "metadata": {
        "id": "_QVvma2mOGZd"
      },
      "source": [
        ""
      ]
    },
    {
      "cell_type": "code",
      "metadata": {
        "colab": {
          "base_uri": "https://localhost:8080/",
          "height": 121
        },
        "id": "d01P0HWFBgNl",
        "outputId": "23750975-1933-410d-e55d-325318c8fb4c"
      },
      "source": [
        "class A:\n",
        "  print('Vitalik')\n",
        "\n",
        "class B:\n",
        "  print('Sveta')\n",
        "\n",
        "class C(A, B):\n",
        "  print('Маша')\n",
        "  name = 'Masha'\n",
        "\n",
        "class D(C):\n",
        "  print('Настя')\n",
        "  print('Мать ', C.name)\n",
        "\n",
        "d = D()\n",
        "d\n",
        "masha = C()\n",
        "masha.name\n",
        "\n",
        "\n",
        "\n",
        "\n",
        "\n",
        "# a = A()\n",
        "# a = print('Vitalik')\n",
        "\n",
        "\n",
        "# a = print('Sveta')\n",
        "\n",
        "\n",
        "\n",
        "\n"
      ],
      "execution_count": 30,
      "outputs": [
        {
          "output_type": "stream",
          "text": [
            "Vitalik\n",
            "Sveta\n",
            "Маша\n",
            "Nasty\n",
            "Мать  Masha\n"
          ],
          "name": "stdout"
        },
        {
          "output_type": "execute_result",
          "data": {
            "application/vnd.google.colaboratory.intrinsic+json": {
              "type": "string"
            },
            "text/plain": [
              "'Masha'"
            ]
          },
          "metadata": {
            "tags": []
          },
          "execution_count": 30
        }
      ]
    }
  ]
}
