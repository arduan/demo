{
  "nbformat": 4,
  "nbformat_minor": 0,
  "metadata": {
    "colab": {
      "name": "Class.ipynb",
      "provenance": [],
      "authorship_tag": "ABX9TyPs2ZEDNO7Z36PEdpxhTAkf",
      "include_colab_link": true
    },
    "kernelspec": {
      "name": "python3",
      "display_name": "Python 3"
    },
    "language_info": {
      "name": "python"
    }
  },
  "cells": [
    {
      "cell_type": "markdown",
      "metadata": {
        "id": "view-in-github",
        "colab_type": "text"
      },
      "source": [
        "<a href=\"https://colab.research.google.com/github/arduan/demo/blob/master/Class.ipynb\" target=\"_parent\"><img src=\"https://colab.research.google.com/assets/colab-badge.svg\" alt=\"Open In Colab\"/></a>"
      ]
    },
    {
      "cell_type": "code",
      "metadata": {
        "colab": {
          "base_uri": "https://localhost:8080/"
        },
        "id": "d01P0HWFBgNl",
        "outputId": "b4ed0a52-3554-457b-e169-8878a51c2437"
      },
      "source": [
        "class A:\n",
        "  print('Arduan')\n",
        "\n",
        "\n",
        "a = A()\n",
        "a = print('Vitalik')\n",
        "\n",
        "\n",
        "a = print('Sveta')\n",
        "\n",
        "\n",
        "\n",
        "\n"
      ],
      "execution_count": 9,
      "outputs": [
        {
          "output_type": "stream",
          "text": [
            "Arduan\n",
            "Vitalik\n",
            "Sveta\n"
          ],
          "name": "stdout"
        }
      ]
    }
  ]
}