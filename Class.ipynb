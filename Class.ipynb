{
  "nbformat": 4,
  "nbformat_minor": 0,
  "metadata": {
    "colab": {
      "name": "Class.ipynb",
      "provenance": [],
      "toc_visible": true,
      "authorship_tag": "ABX9TyMm7GZlveH5gmxe949uXqdN",
      "include_colab_link": true
    },
    "kernelspec": {
      "name": "python3",
      "display_name": "Python 3"
    },
    "language_info": {
      "name": "python"
    }
  },
  "cells": [
    {
      "cell_type": "markdown",
      "metadata": {
        "id": "view-in-github",
        "colab_type": "text"
      },
      "source": [
        "<a href=\"https://colab.research.google.com/github/arduan/demo/blob/master/Class.ipynb\" target=\"_parent\"><img src=\"https://colab.research.google.com/assets/colab-badge.svg\" alt=\"Open In Colab\"/></a>"
      ]
    },
    {
      "cell_type": "markdown",
      "metadata": {
        "id": "_QVvma2mOGZd"
      },
      "source": [
        ""
      ]
    },
    {
      "cell_type": "markdown",
      "metadata": {
        "id": "Nc4kk-CfPsdG"
      },
      "source": [
        "**Все о классах.**"
      ]
    },
    {
      "cell_type": "code",
      "metadata": {
        "colab": {
          "base_uri": "https://localhost:8080/",
          "height": 121
        },
        "id": "d01P0HWFBgNl",
        "outputId": "23750975-1933-410d-e55d-325318c8fb4c"
      },
      "source": [
        "# Понимание ООП\n",
        "\n",
        "class A:\n",
        "  print('Vitalik')\n",
        "\n",
        "class B:\n",
        "  print('Sveta')\n",
        "\n",
        "class C(A, B):\n",
        "  print('Маша')\n",
        "  name = 'Masha'\n",
        "\n",
        "class D(C):\n",
        "  print('Nasty')\n",
        "  print('Мать ', C.name)\n",
        "\n",
        "d = D()\n",
        "d\n",
        "masha = C()\n",
        "masha.name\n",
        "\n",
        "\n",
        "\n",
        "\n",
        "\n",
        "\n",
        "\n",
        "\n"
      ],
      "execution_count": null,
      "outputs": [
        {
          "output_type": "stream",
          "text": [
            "Vitalik\n",
            "Sveta\n",
            "Маша\n",
            "Nasty\n",
            "Мать  Masha\n"
          ],
          "name": "stdout"
        },
        {
          "output_type": "execute_result",
          "data": {
            "application/vnd.google.colaboratory.intrinsic+json": {
              "type": "string"
            },
            "text/plain": [
              "'Masha'"
            ]
          },
          "metadata": {
            "tags": []
          },
          "execution_count": 30
        }
      ]
    },
    {
      "cell_type": "code",
      "metadata": {
        "id": "7do3yGikSa28",
        "colab": {
          "base_uri": "https://localhost:8080/"
        },
        "outputId": "f80d1b5b-1918-4d94-e63a-3736c1588617"
      },
      "source": [
        "class Cat:\n",
        "    def __init__(self, name, age):\n",
        "        self.name = name\n",
        "        self.age = age\n",
        "\n",
        "    def info(self):\n",
        "        print(f\"I am a cat. My name is {self.name}. I am {self.age} years old.\")\n",
        "\n",
        "    def make_sound(self):\n",
        "        print(\"Meow\")\n",
        "\n",
        "\n",
        "class Dog:\n",
        "    def __init__(self, name, age):\n",
        "        self.name = name\n",
        "        self.age = age\n",
        "\n",
        "    def info(self):\n",
        "        print(f\"I am a dog. My name is {self.name}. I am {self.age} years old.\")\n",
        "\n",
        "    def make_sound(self):\n",
        "        print(\"Bark\")\n",
        "\n",
        "cat1 = Cat('Kity', 3.5)\n",
        "dog1 = Dog('Bart', 8.0)\n",
        "\n",
        "for animals in (cat1, dog1):\n",
        "  animals.make_sound()\n",
        "  animals.info()\n"
      ],
      "execution_count": null,
      "outputs": [
        {
          "output_type": "stream",
          "text": [
            "Meow\n",
            "I am a cat. My name is Kity. I am 3.5 years old.\n",
            "Bark\n",
            "I am a dog. My name is Bart. I am 8.0 years old.\n"
          ],
          "name": "stdout"
        }
      ]
    },
    {
      "cell_type": "markdown",
      "metadata": {
        "id": "NVwDzCoMReL-"
      },
      "source": [
        "**Именованные кортежи, как альтернативы классам в Python.**"
      ]
    },
    {
      "cell_type": "code",
      "metadata": {
        "id": "j8iO9uvlRlvy",
        "colab": {
          "base_uri": "https://localhost:8080/"
        },
        "outputId": "e66cca4e-6f18-46bb-bd4c-50e3b229781f"
      },
      "source": [
        "# Именованные кортежи определяют имена для каждой позиции в кортеже  и позволяют создавать более читаемый и понятный код. \n",
        "# Они могут быть использованы в тех же случаях, \n",
        "# что и обычные кортежи, а обращаться к полям можно не только по индексу, но и по имени.\n",
        "\n",
        "from collections import namedtuple\n",
        "Car = namedtuple('Car', 'color mileage')\n",
        "my_car = Car('red', 3812.4)\n",
        "my_car.color\n",
        "\n",
        "my_car.mileage\n",
        "\n",
        "my_car\n",
        "\n",
        "# Именованые кортежи также неизменяемые, как и кортежи\n",
        "# >>> my_car.color = 'blue'\n",
        "# AttributeError: \"can't set attribute\"\n"
      ],
      "execution_count": null,
      "outputs": [
        {
          "output_type": "execute_result",
          "data": {
            "text/plain": [
              "Car(color='red', mileage=3812.4)"
            ]
          },
          "metadata": {
            "tags": []
          },
          "execution_count": 5
        }
      ]
    },
    {
      "cell_type": "markdown",
      "metadata": {
        "id": "IzdqdQbHQ6tZ"
      },
      "source": [
        "**Что такое метаклассы.**\n",
        "\n",
        "stackoverflow]https://ru.stackoverflow.com/questions/1208241/%d0%a7%d1%82%d0%be-%d1%82%d0%b0%d0%ba%d0%be%d0%b5-%d0%bc%d0%b5%d1%82%d0%b0%d0%ba%d0%bb%d0%b0%d1%81%d1%81%d1%8b-%d0%b2-python"
      ]
    }
  ]
}