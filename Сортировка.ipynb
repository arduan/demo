{
  "nbformat": 4,
  "nbformat_minor": 0,
  "metadata": {
    "colab": {
      "name": "Сортировка.ipynb",
      "provenance": [],
      "authorship_tag": "ABX9TyPLr2DblfcW2T1v/bYd0G4w",
      "include_colab_link": true
    },
    "kernelspec": {
      "name": "python3",
      "display_name": "Python 3"
    },
    "language_info": {
      "name": "python"
    }
  },
  "cells": [
    {
      "cell_type": "markdown",
      "metadata": {
        "id": "view-in-github",
        "colab_type": "text"
      },
      "source": [
        "<a href=\"https://colab.research.google.com/github/arduan/demo/blob/master/%D0%A1%D0%BE%D1%80%D1%82%D0%B8%D1%80%D0%BE%D0%B2%D0%BA%D0%B0.ipynb\" target=\"_parent\"><img src=\"https://colab.research.google.com/assets/colab-badge.svg\" alt=\"Open In Colab\"/></a>"
      ]
    },
    {
      "cell_type": "code",
      "metadata": {
        "colab": {
          "base_uri": "https://localhost:8080/"
        },
        "id": "gz5TWx2Xdmdn",
        "outputId": "68552333-57c3-4608-b43e-9beb94a302ce"
      },
      "source": [
        "# Сортировка выбором\n",
        "\n",
        "def indSmallest(arr):\n",
        "  smallest = arr[0]\n",
        "  smallest_index = 0\n",
        "  for i in range(1, len(arr)):\n",
        "    if arr[i] < smallest:\n",
        "      smallest = arr[i]\n",
        "      smallest_index = i\n",
        "  return smallest_index\n",
        "\n",
        "\n",
        "def selectionSort(arr):\n",
        "  newArr = []\n",
        "  for i in range(len(arr)):\n",
        "    smallest = indSmallest(arr)\n",
        "    newArr.append(arr.pop(smallest))\n",
        "  return newArr\n",
        "\n",
        "selectionSort([5, 6, 4, 2, 66, 87, 35, 755, 3, 1])\n",
        "    "
      ],
      "execution_count": null,
      "outputs": [
        {
          "output_type": "execute_result",
          "data": {
            "text/plain": [
              "[1, 2, 3, 4, 5, 6, 35, 66, 87, 755]"
            ]
          },
          "metadata": {
            "tags": []
          },
          "execution_count": 6
        }
      ]
    },
    {
      "cell_type": "code",
      "metadata": {
        "colab": {
          "base_uri": "https://localhost:8080/"
        },
        "id": "0F976s5UtuEd",
        "outputId": "da91ed8e-a039-4df0-db0b-c76e43b0b1dd"
      },
      "source": [
        "# Использование лямбда-функции для сортировки списков в Python\n",
        "# Сортировка списка чисел в формате строковых данных\n",
        "\n",
        "n_list = ['11', '50', '5', '1', '37', '19']\n",
        "# Sort the list using lambda and sorted function\n",
        "sorted_list = sorted(n_list, key=lambda x: int(x[0:]))\n",
        "# Print the sorted list\n",
        "print(\"The list of the sorted values are:\")\n",
        "for value in sorted_list:\n",
        "    print(value, end=' ')"
      ],
      "execution_count": 1,
      "outputs": [
        {
          "output_type": "stream",
          "text": [
            "The list of the sorted values are:\n",
            "1 5 11 19 37 50 "
          ],
          "name": "stdout"
        }
      ]
    },
    {
      "cell_type": "code",
      "metadata": {
        "id": "ulPr7aOQvLZl",
        "outputId": "6016b972-ee2c-4a03-9ac5-57ab2916d426",
        "colab": {
          "base_uri": "https://localhost:8080/"
        }
      },
      "source": [
        "# Сортировка списка кортежей\n",
        "\n",
        "tuple_list = [(\"HTML\", 15, 'M01'), (\"JavaScript\", 10, 'M03'), (\"Bootstrap\", 5, 'M02')]\n",
        "# Sort the list based on the first item of the tuple\n",
        "sorted_list1 = sorted(tuple_list, key=lambda x: x[0])\n",
        "# Print the first sorted list\n",
        "print(\"The sorted list based on the first item:\\n\", sorted_list1)\n",
        "# Sort the list based on the second item of the tuple\n",
        "sorted_list2 = sorted(tuple_list, key=lambda x: x[1])\n",
        "# Print the second sorted list\n",
        "print(\"The sorted list based on the second item:\\n\", sorted_list2)\n",
        "# Sort the list based on the third item of the tuple\n",
        "sorted_list3 = sorted(tuple_list, key=lambda x: x[2])\n",
        "# Print the third sorted list\n",
        "print(\"The sorted list based on the third item:\\n\", sorted_list3)"
      ],
      "execution_count": 2,
      "outputs": [
        {
          "output_type": "stream",
          "text": [
            "The sorted list based on the first item:\n",
            " [('Bootstrap', 5, 'M02'), ('HTML', 15, 'M01'), ('JavaScript', 10, 'M03')]\n",
            "The sorted list based on the second item:\n",
            " [('Bootstrap', 5, 'M02'), ('JavaScript', 10, 'M03'), ('HTML', 15, 'M01')]\n",
            "The sorted list based on the third item:\n",
            " [('HTML', 15, 'M01'), ('Bootstrap', 5, 'M02'), ('JavaScript', 10, 'M03')]\n"
          ],
          "name": "stdout"
        }
      ]
    }
  ]
}