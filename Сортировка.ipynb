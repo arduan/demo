{
  "nbformat": 4,
  "nbformat_minor": 0,
  "metadata": {
    "colab": {
      "name": "Сортировка.ipynb",
      "provenance": [],
      "authorship_tag": "ABX9TyNKMP3Ejn/T3LL+RB5HoFOj",
      "include_colab_link": true
    },
    "kernelspec": {
      "name": "python3",
      "display_name": "Python 3"
    },
    "language_info": {
      "name": "python"
    }
  },
  "cells": [
    {
      "cell_type": "markdown",
      "metadata": {
        "id": "view-in-github",
        "colab_type": "text"
      },
      "source": [
        "<a href=\"https://colab.research.google.com/github/arduan/demo/blob/master/%D0%A1%D0%BE%D1%80%D1%82%D0%B8%D1%80%D0%BE%D0%B2%D0%BA%D0%B0.ipynb\" target=\"_parent\"><img src=\"https://colab.research.google.com/assets/colab-badge.svg\" alt=\"Open In Colab\"/></a>"
      ]
    },
    {
      "cell_type": "code",
      "metadata": {
        "colab": {
          "base_uri": "https://localhost:8080/"
        },
        "id": "gz5TWx2Xdmdn",
        "outputId": "68552333-57c3-4608-b43e-9beb94a302ce"
      },
      "source": [
        "# Сортировка выбором\n",
        "\n",
        "def indSmallest(arr):\n",
        "  smallest = arr[0]\n",
        "  smallest_index = 0\n",
        "  for i in range(1, len(arr)):\n",
        "    if arr[i] < smallest:\n",
        "      smallest = arr[i]\n",
        "      smallest_index = i\n",
        "  return smallest_index\n",
        "\n",
        "\n",
        "def selectionSort(arr):\n",
        "  newArr = []\n",
        "  for i in range(len(arr)):\n",
        "    smallest = indSmallest(arr)\n",
        "    newArr.append(arr.pop(smallest))\n",
        "  return newArr\n",
        "\n",
        "selectionSort([5, 6, 4, 2, 66, 87, 35, 755, 3, 1])\n",
        "    "
      ],
      "execution_count": null,
      "outputs": [
        {
          "output_type": "execute_result",
          "data": {
            "text/plain": [
              "[1, 2, 3, 4, 5, 6, 35, 66, 87, 755]"
            ]
          },
          "metadata": {
            "tags": []
          },
          "execution_count": 6
        }
      ]
    },
    {
      "cell_type": "code",
      "metadata": {
        "colab": {
          "base_uri": "https://localhost:8080/"
        },
        "id": "0F976s5UtuEd",
        "outputId": "da91ed8e-a039-4df0-db0b-c76e43b0b1dd"
      },
      "source": [
        "# Использование лямбда-функции для сортировки списков в Python\n",
        "# Сортировка списка чисел в формате строковых данных\n",
        "\n",
        "n_list = ['11', '50', '5', '1', '37', '19']\n",
        "# Sort the list using lambda and sorted function\n",
        "sorted_list = sorted(n_list, key=lambda x: int(x[0:]))\n",
        "# Print the sorted list\n",
        "print(\"The list of the sorted values are:\")\n",
        "for value in sorted_list:\n",
        "    print(value, end=' ')"
      ],
      "execution_count": null,
      "outputs": [
        {
          "output_type": "stream",
          "text": [
            "The list of the sorted values are:\n",
            "1 5 11 19 37 50 "
          ],
          "name": "stdout"
        }
      ]
    },
    {
      "cell_type": "code",
      "metadata": {
        "colab": {
          "base_uri": "https://localhost:8080/"
        },
        "id": "ulPr7aOQvLZl",
        "outputId": "6016b972-ee2c-4a03-9ac5-57ab2916d426"
      },
      "source": [
        "# Сортировка списка кортежей\n",
        "\n",
        "tuple_list = [(\"HTML\", 15, 'M01'), (\"JavaScript\", 10, 'M03'), (\"Bootstrap\", 5, 'M02')]\n",
        "# Sort the list based on the first item of the tuple\n",
        "sorted_list1 = sorted(tuple_list, key=lambda x: x[0])\n",
        "# Print the first sorted list\n",
        "print(\"The sorted list based on the first item:\\n\", sorted_list1)\n",
        "# Sort the list based on the second item of the tuple\n",
        "sorted_list2 = sorted(tuple_list, key=lambda x: x[1])\n",
        "# Print the second sorted list\n",
        "print(\"The sorted list based on the second item:\\n\", sorted_list2)\n",
        "# Sort the list based on the third item of the tuple\n",
        "sorted_list3 = sorted(tuple_list, key=lambda x: x[2])\n",
        "# Print the third sorted list\n",
        "print(\"The sorted list based on the third item:\\n\", sorted_list3)"
      ],
      "execution_count": null,
      "outputs": [
        {
          "output_type": "stream",
          "text": [
            "The sorted list based on the first item:\n",
            " [('Bootstrap', 5, 'M02'), ('HTML', 15, 'M01'), ('JavaScript', 10, 'M03')]\n",
            "The sorted list based on the second item:\n",
            " [('Bootstrap', 5, 'M02'), ('JavaScript', 10, 'M03'), ('HTML', 15, 'M01')]\n",
            "The sorted list based on the third item:\n",
            " [('HTML', 15, 'M01'), ('Bootstrap', 5, 'M02'), ('JavaScript', 10, 'M03')]\n"
          ],
          "name": "stdout"
        }
      ]
    },
    {
      "cell_type": "code",
      "metadata": {
        "colab": {
          "base_uri": "https://localhost:8080/"
        },
        "id": "Rv9eCkravl15",
        "outputId": "6c7b7b5b-64dc-4a0a-b2f9-38ff6bd1d3cd"
      },
      "source": [
        "# Сортировка списка, состоящего из других списков\n",
        "\n",
        "nested_list = [['Mango', 'Banana', 'Orange'], ['Rose', 'Lily'], ['Lion', 'Monkey', 'Tiger', 'Deer']]\n",
        "# Declare an empty list\n",
        "sorted_data = []\n",
        "\n",
        "# Loop to iterate the outer list\n",
        "for i in range(len(nested_list)):\n",
        "    # Loop to iterate the inner list\n",
        "    for j in range(len(nested_list[i])):\n",
        "        # Sort the inner list\n",
        "        sorted_list = sorted(nested_list[i], key=lambda x: x[0])\n",
        "    # Append the sorted list\n",
        "    sorted_data.append(sorted_list)\n",
        "\n",
        "# Print the sorted nested list\n",
        "print(\"The list after sorting:\\n {}\".format(sorted_data))"
      ],
      "execution_count": null,
      "outputs": [
        {
          "output_type": "stream",
          "text": [
            "The list after sorting:\n",
            " [['Banana', 'Mango', 'Orange'], ['Lily', 'Rose'], ['Deer', 'Lion', 'Monkey', 'Tiger']]\n"
          ],
          "name": "stdout"
        }
      ]
    },
    {
      "cell_type": "code",
      "metadata": {
        "colab": {
          "base_uri": "https://localhost:8080/"
        },
        "id": "kLiQYTDEwXMZ",
        "outputId": "bf1f700e-395d-4d01-e463-184a7b0ec36e"
      },
      "source": [
        "# Сортировка списка словарей\n",
        "\n",
        "dic_list = [{\"code\": \"CSE-401\", \"name\": \"Multimedia\", \"Credit\": 2.0},\n",
        "            {\"code\": \"CSE-101\", \"name\": \"Computer Fundamental\", \"Credit\": 1.5},\n",
        "            {\"code\": \"CSE-305\", \"name\": \"Unix Programming\", \"Credit\": 3.0}]\n",
        "\n",
        "# Print the sorted dictionary based on code\n",
        "print(\"Sorting based on the code:\\n\", sorted(dic_list, key=lambda i: i['code']))\n",
        "# Print the sorted dictionary based on name\n",
        "print(\"Sorting based on the name:\\n\", sorted(dic_list, key=lambda i: (i['name'])))\n",
        "# Print the sorted dictionary based on code and name\n",
        "print(\"Sorting based on the code and name:\\n\", sorted(dic_list, key=lambda i: (i['code'], i['name'])))\n",
        "# Print the sorted dictionary in descending based on name\n",
        "print(\"Sorting in descending order based on the name:\\n\", sorted(dic_list, key=lambda i: i['name'], reverse=True))"
      ],
      "execution_count": null,
      "outputs": [
        {
          "output_type": "stream",
          "text": [
            "Sorting based on the code:\n",
            " [{'code': 'CSE-101', 'name': 'Computer Fundamental', 'Credit': 1.5}, {'code': 'CSE-305', 'name': 'Unix Programming', 'Credit': 3.0}, {'code': 'CSE-401', 'name': 'Multimedia', 'Credit': 2.0}]\n",
            "Sorting based on the name:\n",
            " [{'code': 'CSE-101', 'name': 'Computer Fundamental', 'Credit': 1.5}, {'code': 'CSE-401', 'name': 'Multimedia', 'Credit': 2.0}, {'code': 'CSE-305', 'name': 'Unix Programming', 'Credit': 3.0}]\n",
            "Sorting based on the code and name:\n",
            " [{'code': 'CSE-101', 'name': 'Computer Fundamental', 'Credit': 1.5}, {'code': 'CSE-305', 'name': 'Unix Programming', 'Credit': 3.0}, {'code': 'CSE-401', 'name': 'Multimedia', 'Credit': 2.0}]\n",
            "Sorting in descending order based on the name:\n",
            " [{'code': 'CSE-305', 'name': 'Unix Programming', 'Credit': 3.0}, {'code': 'CSE-401', 'name': 'Multimedia', 'Credit': 2.0}, {'code': 'CSE-101', 'name': 'Computer Fundamental', 'Credit': 1.5}]\n"
          ],
          "name": "stdout"
        }
      ]
    },
    {
      "cell_type": "code",
      "metadata": {
        "id": "EzmiSrscXvbT",
        "outputId": "b6547689-b165-41f4-c7a5-40b017957ac3",
        "colab": {
          "base_uri": "https://localhost:8080/"
        }
      },
      "source": [
        "\n",
        "mass = [2,45,6,4,6,7]\n",
        "print(sorted(mass))\n",
        "print(sorted(mass, reverse=True))"
      ],
      "execution_count": 7,
      "outputs": [
        {
          "output_type": "stream",
          "text": [
            "[2, 4, 6, 6, 7, 45]\n",
            "[45, 7, 6, 6, 4, 2]\n"
          ],
          "name": "stdout"
        }
      ]
    }
  ]
}