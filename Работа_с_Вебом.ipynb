{
  "nbformat": 4,
  "nbformat_minor": 0,
  "metadata": {
    "colab": {
      "name": "Работа с Вебом.ipynb",
      "provenance": [],
      "authorship_tag": "ABX9TyMAk+UpAFx8tGJqlCNugegm",
      "include_colab_link": true
    },
    "kernelspec": {
      "name": "python3",
      "display_name": "Python 3"
    },
    "language_info": {
      "name": "python"
    }
  },
  "cells": [
    {
      "cell_type": "markdown",
      "metadata": {
        "id": "view-in-github",
        "colab_type": "text"
      },
      "source": [
        "<a href=\"https://colab.research.google.com/github/arduan/demo/blob/master/%D0%A0%D0%B0%D0%B1%D0%BE%D1%82%D0%B0_%D1%81_%D0%92%D0%B5%D0%B1%D0%BE%D0%BC.ipynb\" target=\"_parent\"><img src=\"https://colab.research.google.com/assets/colab-badge.svg\" alt=\"Open In Colab\"/></a>"
      ]
    },
    {
      "cell_type": "code",
      "metadata": {
        "id": "wCQwa0_oo5ur"
      },
      "source": [
        "!pip install requests\n",
        "!pip install html2text\n",
        "# Мо­дуль requests поз­воля­ет делать GET- и POST-зап­росы к веб‑стра­ницам.\n",
        "# Мо­дуль html2text слу­жит для пре­обра­зова­ния HTML-кода веб‑стра­ниц в обыч­ный текст, то есть чис­тит его от тегов HTML."
      ],
      "execution_count": null,
      "outputs": []
    },
    {
      "cell_type": "code",
      "metadata": {
        "id": "wmowWB6spaaz"
      },
      "source": [
        "import requests\n",
        "# Делаем GET-запрос\n",
        "s = requests.get('http://xakep.ru')\n",
        "# Печатаем код ответа сервера\n",
        "print(s.status_code)\n",
        "# Печатаем HTML-код\n",
        "print(s.text)"
      ],
      "execution_count": null,
      "outputs": []
    },
    {
      "cell_type": "code",
      "metadata": {
        "id": "e0g6xh8Jp4Yj"
      },
      "source": [
        "# Но что, если тебе нужен толь­ко текст сай­та, а не мешани­на из тегов? Здесь поможет html2text. Он выделит из кода текст, заголов­ки и кар­тинки и отдаст их уже без HTML-тегов.\n",
        "\n",
        "import requests\n",
        "import html2text\n",
        "# Делаем GET-запрос\n",
        "s = requests.get('http://xakep.ru')\n",
        "# Код ответа сервера\n",
        "print(s.status_code)\n",
        "# Создается экземпляр парсера\n",
        "d = html2text.HTML2Text()\n",
        "# Параметр, влияющий на то, как парсятся ссылки\n",
        "d.ignore_links = True\n",
        "# Текст без HTML-тегов\n",
        "c=d.handle(s.text)\n",
        "print(c)"
      ],
      "execution_count": null,
      "outputs": []
    },
    {
      "cell_type": "markdown",
      "metadata": {
        "id": "28R5eCMBtxkj"
      },
      "source": [
        "Биб­лиоте­ка requests тоже поз­воля­ет делать POST-зап­росы. Тебе это может при­годить­ся для ими­тации дей­ствий поль­зовате­ля — нап­ример, если нуж­но авто­мати­зиро­вать работу с сай­том. Можешь даже исполь­зовать это в качес­тве самопис­ного ана­лога Burp!\n",
        "\n",
        "Да­вай пос­мотрим, как пос­лать обыч­ный POST-зап­рос. Пред­положим, на сай­те site.ru сущес­тву­ет скрипт guest.php, который POST-зап­росом при­нима­ет от фор­мы имя поль­зовате­ля name и сооб­щение message, а затем пос­тит их в гос­тевую кни­гу."
      ]
    },
    {
      "cell_type": "code",
      "metadata": {
        "id": "x2xU9tNItzvh"
      },
      "source": [
        "import requests\n",
        "# Переменные, которые нужно отправить POST-запросом\n",
        "user = 'coolhacker'\n",
        "message = 'You have beeh pwned!!!'\n",
        "# Делаем POST-запрос и передаем словарь из полей\n",
        "r = requests.post(\"http://site.ru/guest.php\", data={'user': user, 'message': message})\n",
        "print(r.status_code)"
      ],
      "execution_count": null,
      "outputs": []
    }
  ]
}