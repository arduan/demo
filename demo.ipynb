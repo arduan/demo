{
  "nbformat": 4,
  "nbformat_minor": 0,
  "metadata": {
    "colab": {
      "name": "Untitled0.ipynb",
      "provenance": [],
      "authorship_tag": "ABX9TyOl8gmvkSxHqEQjWR87n8rn",
      "include_colab_link": true
    },
    "kernelspec": {
      "name": "python3",
      "display_name": "Python 3"
    },
    "language_info": {
      "name": "python"
    }
  },
  "cells": [
    {
      "cell_type": "markdown",
      "metadata": {
        "id": "view-in-github",
        "colab_type": "text"
      },
      "source": [
        "<a href=\"https://colab.research.google.com/github/arduan/demo/blob/master/demo.ipynb\" target=\"_parent\"><img src=\"https://colab.research.google.com/assets/colab-badge.svg\" alt=\"Open In Colab\"/></a>"
      ]
    },
    {
      "cell_type": "code",
      "metadata": {
        "colab": {
          "base_uri": "https://localhost:8080/"
        },
        "id": "ccpBQsYuhn0B",
        "outputId": "b7c06289-54f8-48ee-f376-d4bae1bffaa4"
      },
      "source": [
        "# Обмен чисел на месте\n",
        "a,b,c = 4,6,9\n",
        "print(a)\n",
        "a,b,c = c,b,a\n",
        "print(a)\n",
        "\n"
      ],
      "execution_count": null,
      "outputs": [
        {
          "output_type": "stream",
          "text": [
            "4\n",
            "9\n"
          ],
          "name": "stdout"
        }
      ]
    },
    {
      "cell_type": "code",
      "metadata": {
        "colab": {
          "base_uri": "https://localhost:8080/"
        },
        "id": "WbOgCD6OkxAo",
        "outputId": "00be2b7e-5af8-4e78-eaa5-361a53fc27ed"
      },
      "source": [
        "# Перевернуть строку.\n",
        "a = 'Иванов'\n",
        "print(a[::-1])"
      ],
      "execution_count": null,
      "outputs": [
        {
          "output_type": "stream",
          "text": [
            "вонавИ\n"
          ],
          "name": "stdout"
        }
      ]
    },
    {
      "cell_type": "code",
      "metadata": {
        "colab": {
          "base_uri": "https://localhost:8080/"
        },
        "id": "TvmMNSX-lpCS",
        "outputId": "eefdbb36-f3aa-4fd1-9c1c-ce81273b491a"
      },
      "source": [
        "#Создание одной строки из всех элементов в списке\n",
        "\n",
        "a = ['Петров','Иванов','Виталий', 'Иванович']\n",
        "\n",
        "print(' '.join(a))"
      ],
      "execution_count": null,
      "outputs": [
        {
          "output_type": "stream",
          "text": [
            "Петров Иванов Виталий Иванович\n"
          ],
          "name": "stdout"
        }
      ]
    },
    {
      "cell_type": "code",
      "metadata": {
        "colab": {
          "base_uri": "https://localhost:8080/"
        },
        "id": "j9UI7BiYnzYl",
        "outputId": "f9713cfb-e0b4-4019-a80d-cc3b9313d6ec"
      },
      "source": [
        "import os\n",
        "\n",
        "print(os)\n"
      ],
      "execution_count": null,
      "outputs": [
        {
          "output_type": "stream",
          "text": [
            "<module 'os' from '/usr/lib/python3.7/os.py'>\n"
          ],
          "name": "stdout"
        }
      ]
    },
    {
      "cell_type": "code",
      "metadata": {
        "colab": {
          "base_uri": "https://localhost:8080/"
        },
        "id": "uqmujUrLsXcM",
        "outputId": "48f2ba8c-d175-48a2-9601-bbb0c36e2b19"
      },
      "source": [
        "#Поиск наиболее часто встречающегося значение в списке.\n",
        "\n",
        "test = [1,2,44,3,3,5,6,7,7,7,8,6,4,3,4,7]\n",
        "print(max(set(test), key=test.count))\n"
      ],
      "execution_count": null,
      "outputs": [
        {
          "output_type": "stream",
          "text": [
            "7\n"
          ],
          "name": "stdout"
        }
      ]
    },
    {
      "cell_type": "code",
      "metadata": {
        "colab": {
          "base_uri": "https://localhost:8080/"
        },
        "id": "NZsFEJUttbP9",
        "outputId": "52f40335-9859-47d8-e184-fa1e626edd11"
      },
      "source": [
        "#Проверка использованной памяти объектом.\n",
        "import sys\n",
        "\n",
        "x = 'Ivanov'\n",
        "print(sys.getsizeof(x))"
      ],
      "execution_count": null,
      "outputs": [
        {
          "output_type": "stream",
          "text": [
            "55\n"
          ],
          "name": "stdout"
        }
      ]
    },
    {
      "cell_type": "code",
      "metadata": {
        "colab": {
          "base_uri": "https://localhost:8080/",
          "height": 35
        },
        "id": "Jf0rV67O7il5",
        "outputId": "31611906-d9b1-4d83-98c9-4869a89799e6"
      },
      "source": [
        "# Показать последние четыре элемента в строке.\n",
        "\n",
        "str = 'Иванов Виталий'\n",
        "str[-4:]\n"
      ],
      "execution_count": null,
      "outputs": [
        {
          "output_type": "execute_result",
          "data": {
            "application/vnd.google.colaboratory.intrinsic+json": {
              "type": "string"
            },
            "text/plain": [
              "'алий'"
            ]
          },
          "metadata": {
            "tags": []
          },
          "execution_count": 1
        }
      ]
    },
    {
      "cell_type": "code",
      "metadata": {
        "id": "r-tAsHe18SSd",
        "colab": {
          "base_uri": "https://localhost:8080/"
        },
        "outputId": "3152f7ec-4de1-492f-f26d-af70b2da4236"
      },
      "source": [
        "# Показать последние четыре элемента в списке\n",
        "lis = [1,2,3,4,5]\n",
        "lis[-4:]\n"
      ],
      "execution_count": null,
      "outputs": [
        {
          "output_type": "execute_result",
          "data": {
            "text/plain": [
              "[2, 3, 4, 5]"
            ]
          },
          "metadata": {
            "tags": []
          },
          "execution_count": 2
        }
      ]
    },
    {
      "cell_type": "code",
      "metadata": {
        "id": "gcjUWMXE5HZJ",
        "outputId": "b785485d-bb3b-4a3a-fe74-0d5f7c350bc4",
        "colab": {
          "base_uri": "https://localhost:8080/"
        }
      },
      "source": [
        "# Измерение размера объекта\n",
        "\n",
        "import sys\n",
        "sys.getsizeof(5)\n",
        "sys.getsizeof([1,3,4,'c'])"
      ],
      "execution_count": 2,
      "outputs": [
        {
          "output_type": "execute_result",
          "data": {
            "text/plain": [
              "104"
            ]
          },
          "metadata": {
            "tags": []
          },
          "execution_count": 2
        }
      ]
    }
  ]
}