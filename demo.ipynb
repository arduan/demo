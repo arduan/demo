{
  "nbformat": 4,
  "nbformat_minor": 0,
  "metadata": {
    "colab": {
      "name": "Untitled0.ipynb",
      "provenance": [],
      "authorship_tag": "ABX9TyOqpLcDFLGPESaIDAqVR+TT",
      "include_colab_link": true
    },
    "kernelspec": {
      "name": "python3",
      "display_name": "Python 3"
    },
    "language_info": {
      "name": "python"
    }
  },
  "cells": [
    {
      "cell_type": "markdown",
      "metadata": {
        "id": "view-in-github",
        "colab_type": "text"
      },
      "source": [
        "<a href=\"https://colab.research.google.com/github/arduan/demo/blob/master/demo.ipynb\" target=\"_parent\"><img src=\"https://colab.research.google.com/assets/colab-badge.svg\" alt=\"Open In Colab\"/></a>"
      ]
    },
    {
      "cell_type": "code",
      "metadata": {
        "colab": {
          "base_uri": "https://localhost:8080/"
        },
        "id": "ccpBQsYuhn0B",
        "outputId": "c8c2e85a-feab-4938-a33e-9c570ae3eb9f"
      },
      "source": [
        "# Обмен чисел на месте\n",
        "a,b,c = 4,6,9\n",
        "print(a)\n",
        "a,b,c = c,b,a\n",
        "print(a)\n",
        "\n"
      ],
      "execution_count": 32,
      "outputs": [
        {
          "output_type": "stream",
          "text": [
            "4\n",
            "9\n"
          ],
          "name": "stdout"
        }
      ]
    },
    {
      "cell_type": "code",
      "metadata": {
        "colab": {
          "base_uri": "https://localhost:8080/"
        },
        "id": "WbOgCD6OkxAo",
        "outputId": "f0a25a34-2205-4109-ed39-7ee48af9cf63"
      },
      "source": [
        "# Перевернуть строку.\n",
        "a = 'Иванов'\n",
        "print(a[::-1])"
      ],
      "execution_count": 33,
      "outputs": [
        {
          "output_type": "stream",
          "text": [
            "вонавИ\n"
          ],
          "name": "stdout"
        }
      ]
    },
    {
      "cell_type": "code",
      "metadata": {
        "colab": {
          "base_uri": "https://localhost:8080/"
        },
        "id": "TvmMNSX-lpCS",
        "outputId": "62a4f007-949b-4734-fb76-d07df2c0cfc7"
      },
      "source": [
        "#Создание одной строки из всех элементов в списке\n",
        "\n",
        "a = ['Петров','Иванов','Виталий', 'Иванович']\n",
        "\n",
        "print(' '.join(a))"
      ],
      "execution_count": 34,
      "outputs": [
        {
          "output_type": "stream",
          "text": [
            "Петров Иванов Виталий Иванович\n"
          ],
          "name": "stdout"
        }
      ]
    },
    {
      "cell_type": "code",
      "metadata": {
        "colab": {
          "base_uri": "https://localhost:8080/"
        },
        "id": "j9UI7BiYnzYl",
        "outputId": "ec2a9a71-fa19-4cba-853f-a0c718ba13bc"
      },
      "source": [
        "import os\n",
        "\n",
        "print(os)\n"
      ],
      "execution_count": 35,
      "outputs": [
        {
          "output_type": "stream",
          "text": [
            "<module 'os' from '/usr/lib/python3.7/os.py'>\n"
          ],
          "name": "stdout"
        }
      ]
    }
  ]
}