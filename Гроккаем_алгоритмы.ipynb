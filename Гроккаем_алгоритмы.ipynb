{
  "nbformat": 4,
  "nbformat_minor": 0,
  "metadata": {
    "colab": {
      "name": "Гроккаем алгоритмы.ipynb",
      "provenance": [],
      "authorship_tag": "ABX9TyNlOnOIv5rrYaZpD47H/n2x",
      "include_colab_link": true
    },
    "kernelspec": {
      "name": "python3",
      "display_name": "Python 3"
    },
    "language_info": {
      "name": "python"
    }
  },
  "cells": [
    {
      "cell_type": "markdown",
      "metadata": {
        "id": "view-in-github",
        "colab_type": "text"
      },
      "source": [
        "<a href=\"https://colab.research.google.com/github/arduan/demo/blob/master/%D0%93%D1%80%D0%BE%D0%BA%D0%BA%D0%B0%D0%B5%D0%BC_%D0%B0%D0%BB%D0%B3%D0%BE%D1%80%D0%B8%D1%82%D0%BC%D1%8B.ipynb\" target=\"_parent\"><img src=\"https://colab.research.google.com/assets/colab-badge.svg\" alt=\"Open In Colab\"/></a>"
      ]
    },
    {
      "cell_type": "code",
      "metadata": {
        "colab": {
          "base_uri": "https://localhost:8080/"
        },
        "id": "U3dCTcDQBMX8",
        "outputId": "6001230e-f4f0-4546-955d-e297ea0acaad"
      },
      "source": [
        "class BinarySearch():\n",
        "\n",
        "  def search_iterative(self, list, item):\n",
        "    # low and high keep track of which part of the list you'll search in.\n",
        "    low = 0\n",
        "    high = len(list) - 1\n",
        "\n",
        "    # While you haven't narrowed it down to one element ...\n",
        "    while low <= high:\n",
        "      # ... check the middle element\n",
        "      mid = (low + high) // 2\n",
        "      guess = list[mid]\n",
        "      # Found the item.\n",
        "      if guess == item:\n",
        "        return mid\n",
        "      # The guess was too high.\n",
        "      if guess > item:\n",
        "        high = mid - 1\n",
        "      # The guess was too low.\n",
        "      else:\n",
        "        low = mid + 1\n",
        "\n",
        "    # Item doesn't exist\n",
        "    return None\n",
        "\n",
        "  def search_recursive(self, list, low, high, item):\n",
        "    # Check base case \n",
        "    if high >= low: \n",
        "  \n",
        "        mid = (high + low) // 2\n",
        "        guess = list[mid]\n",
        "  \n",
        "        # If element is present at the middle itself \n",
        "        if guess == item:\n",
        "            return mid \n",
        "  \n",
        "        # If element is smaller than mid, then it can only \n",
        "        # be present in left subarray \n",
        "        elif guess > item: \n",
        "            return self.search_recursive(list, low, mid - 1, item) \n",
        "  \n",
        "        # Else the element can only be present in right subarray \n",
        "        else: \n",
        "            return self.search_recursive(list, mid + 1, high, item) \n",
        "  \n",
        "    else: \n",
        "        # Element is not present in the array \n",
        "        return None\n",
        "\n",
        "if __name__ == \"__main__\":\n",
        "  # We must initialize the class to use the methods of this class\n",
        "  bs = BinarySearch()\n",
        "  my_list = [1, 3, 5, 7, 9]\n",
        "  \n",
        "  print(bs.search_iterative(my_list, 3)) # => 1\n",
        "\n",
        "  # 'None' means nil in Python. We use to indicate that the item wasn't found.\n",
        "  print(bs.search_iterative(my_list, -1)) # => None"
      ],
      "execution_count": 2,
      "outputs": [
        {
          "output_type": "stream",
          "text": [
            "1\n",
            "None\n"
          ],
          "name": "stdout"
        }
      ]
    },
    {
      "cell_type": "code",
      "metadata": {
        "id": "PpnLtoIMBraM"
      },
      "source": [
        "{\n",
        "    \"simple_list\": [2, 3, 4, 13, 40],\n",
        "    \"list_with_10_items\": [3, 9, 10, 11, 12, 13, 14, 17, 18, 19],\n",
        "    \"list_with_100_items\": [146, 161, 193, 217, 266, 276, 460, 487, 585, 756, 842, 889, 954, 985, 1061, 1114, 1169, 1256, 1509, 1533, 1680, 1829, 1917, 1995, 2013, 2085, 2134, 2182, 2249, 2261, 2306, 2499, 2543, 2723, 2731, 3196, 3253, 3271, 3351, 3514, 3557, 3629, 3755, 3884, 3935, 4163, 4236, 4296, 4298, 4420, 4661, 4764, 4901, 4912, 4943, 5043, 5224, 5247, 5444, 5485, 5569, 5742, 5778, 5862, 6064, 6096, 6122, 6425, 6455, 6472, 6493, 6656, 6764, 6778, 6946, 7126, 7165, 7208, 7211, 7283, 7407, 7584, 7675, 7827, 7992, 8155, 8309, 8439, 8482, 9180, 9198, 9292, 9335, 9383, 9509, 9537, 9631, 9727, 9780, 9795],\n",
        "    \"list_with_1000_items\": [7, 15, 18, 21, 32, 34, 37, 39, 45, 48, 55, 60, 65, 70, 86, 101, 112, 119, 120, 151, 152, 161, 170, 172, 200, 206, 223, 232, 233, 236, 270, 292, 300, 324, 333, 347, 354, 355, 363, 411, 419, 430, 443, 448, 457, 465, 497, 505, 508, 514, 526, 528, 534, 552, 555, 589, 597, 612, 627, 645, 654, 657, 663, 668, 670, 689, 692, 702, 703, 706, 726, 727, 732, 740, 743, 747, 756, 773, 777, 786, 787, 789, 794, 799, 801, 803, 842, 852, 856, 866, 901, 902, 904, 909, 912, 928, 929, 932, 939, 965, 984, 1006, 1019, 1045, 1050, 1078, 1080, 1094, 1103, 1105, 1119, 1121, 1132, 1137, 1145, 1166, 1169, 1174, 1183, 1188, 1194, 1199, 1202, 1223, 1227, 1237, 1241, 1255, 1265, 1279, 1290, 1291, 1310, 1315, 1317, 1324, 1326, 1342, 1350, 1362, 1363, 1366, 1371, 1376, 1392, 1393, 1395, 1399, 1406, 1415, 1429, 1446, 1448, 1453, 1466, 1469, 1471, 1480, 1500, 1518, 1520, 1521, 1529, 1548, 1558, 1560, 1561, 1565, 1569, 1573, 1593, 1597, 1599, 1616, 1618, 1645, 1646, 1693, 1694, 1713, 1714, 1717, 1734, 1740, 1742, 1763, 1780, 1806, 1814, 1823, 1828, 1844, 1849, 1853, 1860, 1867, 1869, 1870, 1882, 1889, 1895, 1904, 1908, 1934, 1951, 1980, 1991, 1993, 1996, 2005, 2021, 2028, 2033, 2038, 2044, 2047, 2053, 2054, 2061, 2067, 2087, 2091, 2096, 2101, 2119, 2128, 2132, 2133, 2136, 2160, 2175, 2186, 2201, 2202, 2207, 2209, 2211, 2219, 2222, 2240, 2278, 2288, 2322, 2327, 2339, 2342, 2360, 2367, 2386, 2392, 2394, 2405, 2409, 2416, 2436, 2443, 2476, 2478, 2491, 2493, 2494, 2496, 2524, 2525, 2541, 2557, 2562, 2584, 2618, 2623, 2625, 2627, 2637, 2661, 2674, 2678, 2692, 2703, 2704, 2711, 2715, 2716, 2722, 2730, 2766, 2781, 2786, 2802, 2835, 2836, 2857, 2859, 2873, 2878, 2880, 2923, 2948, 2975, 2980, 2994, 3003, 3009, 3013, 3019, 3020, 3043, 3050, 3056, 3073, 3074, 3078, 3083, 3084, 3093, 3100, 3102, 3112, 3121, 3145, 3153, 3159, 3187, 3202, 3247, 3250, 3264, 3283, 3284, 3288, 3290, 3292, 3299, 3301, 3326, 3333, 3338, 3341, 3361, 3377, 3389, 3393, 3401, 3435, 3454, 3456, 3467, 3474, 3482, 3485, 3490, 3491, 3498, 3504, 3530, 3534, 3545, 3552, 3564, 3574, 3586, 3606, 3615, 3619, 3622, 3636, 3647, 3655, 3688, 3711, 3725, 3739, 3760, 3765, 3774, 3780, 3791, 3822, 3826, 3828, 3830, 3841, 3849, 3854, 3857, 3863, 3885, 3888, 3889, 3903, 3911, 3916, 3961, 3981, 4045, 4080, 4082, 4089, 4122, 4134, 4145, 4151, 4152, 4176, 4193, 4200, 4205, 4211, 4213, 4215, 4227, 4237, 4238, 4249, 4257, 4275, 4281, 4294, 4297, 4299, 4310, 4316, 4326, 4328, 4338, 4341, 4357, 4359, 4363, 4364, 4396, 4414, 4435, 4437, 4442, 4470, 4471, 4484, 4486, 4489, 4493, 4512, 4515, 4524, 4527, 4543, 4550, 4553, 4555, 4560, 4568, 4571, 4587, 4600, 4613, 4627, 4633, 4668, 4673, 4676, 4686, 4691, 4710, 4719, 4731, 4767, 4775, 4780, 4803, 4815, 4831, 4834, 4879, 4882, 4914, 4918, 4922, 4925, 4941, 4954, 4967, 4981, 4982, 4985, 4993, 4999, 5013, 5026, 5033, 5038, 5044, 5052, 5055, 5066, 5086, 5089, 5098, 5103, 5118, 5146, 5147, 5148, 5164, 5177, 5180, 5190, 5196, 5201, 5217, 5221, 5263, 5271, 5278, 5280, 5286, 5295, 5316, 5319, 5320, 5344, 5371, 5376, 5380, 5384, 5391, 5406, 5415, 5436, 5439, 5446, 5451, 5465, 5474, 5485, 5504, 5507, 5511, 5519, 5522, 5544, 5548, 5567, 5572, 5591, 5595, 5618, 5619, 5621, 5627, 5635, 5659, 5678, 5682, 5690, 5703, 5714, 5716, 5719, 5721, 5742, 5760, 5771, 5774, 5786, 5827, 5843, 5845, 5853, 5871, 5874, 5877, 5878, 5887, 5900, 5904, 5923, 5925, 5945, 5967, 6004, 6005, 6006, 6009, 6027, 6038, 6047, 6053, 6057, 6061, 6067, 6075, 6079, 6080, 6088, 6089, 6106, 6113, 6145, 6151, 6155, 6165, 6171, 6179, 6182, 6192, 6198, 6207, 6220, 6232, 6234, 6240, 6243, 6252, 6258, 6270, 6274, 6286, 6300, 6301, 6314, 6316, 6322, 6325, 6326, 6339, 6349, 6354, 6365, 6371, 6384, 6387, 6402, 6412, 6430, 6436, 6447, 6452, 6463, 6464, 6467, 6480, 6487, 6539, 6559, 6565, 6566, 6567, 6572, 6581, 6588, 6592, 6604, 6614, 6623, 6640, 6642, 6648, 6649, 6653, 6682, 6694, 6710, 6733, 6748, 6761, 6769, 6774, 6779, 6780, 6781, 6793, 6846, 6861, 6880, 6898, 6922, 6930, 6938, 6949, 6964, 6977, 6983, 6993, 7001, 7009, 7010, 7015, 7019, 7023, 7025, 7028, 7033, 7049, 7051, 7060, 7076, 7080, 7114, 7118, 7119, 7129, 7131, 7134, 7137, 7168, 7169, 7183, 7219, 7242, 7257, 7258, 7299, 7301, 7304, 7306, 7310, 7317, 7318, 7322, 7326, 7337, 7346, 7358, 7382, 7388, 7389, 7390, 7392, 7398, 7400, 7415, 7423, 7425, 7427, 7429, 7444, 7450, 7475, 7486, 7490, 7491, 7499, 7526, 7532, 7536, 7549, 7562, 7570, 7578, 7579, 7583, 7597, 7600, 7605, 7626, 7628, 7630, 7636, 7639, 7645, 7648, 7661, 7680, 7681, 7694, 7706, 7717, 7723, 7732, 7734, 7738, 7740, 7762, 7773, 7802, 7829, 7846, 7847, 7878, 7903, 7915, 7922, 7926, 7932, 7938, 7960, 7967, 7975, 7985, 8002, 8013, 8031, 8039, 8040, 8046, 8071, 8073, 8075, 8082, 8098, 8099, 8105, 8139, 8148, 8159, 8165, 8171, 8187, 8188, 8197, 8204, 8220, 8222, 8226, 8247, 8248, 8263, 8267, 8274, 8283, 8299, 8301, 8315, 8361, 8370, 8372, 8373, 8395, 8396, 8400, 8406, 8421, 8427, 8437, 8447, 8456, 8458, 8467, 8470, 8474, 8506, 8513, 8514, 8522, 8525, 8542, 8543, 8544, 8562, 8570, 8577, 8580, 8586, 8590, 8602, 8607, 8614, 8624, 8630, 8634, 8650, 8666, 8667, 8671, 8677, 8688, 8699, 8713, 8723, 8724, 8733, 8734, 8736, 8742, 8744, 8746, 8749, 8764, 8774, 8786, 8803, 8807, 8849, 8853, 8861, 8865, 8869, 8875, 8882, 8900, 8904, 8905, 8916, 8919, 8947, 8965, 8969, 8981, 8988, 8997, 9004, 9019, 9028, 9037, 9044, 9071, 9074, 9076, 9079, 9152, 9163, 9164, 9166, 9182, 9199, 9227, 9230, 9238, 9247, 9258, 9269, 9290, 9307, 9314, 9351, 9361, 9362, 9367, 9376, 9382, 9395, 9412, 9426, 9430, 9434, 9439, 9453, 9465, 9474, 9481, 9491, 9494, 9502, 9504, 9524, 9539, 9542, 9550, 9573, 9579, 9596, 9600, 9632, 9633, 9641, 9663, 9674, 9684, 9693, 9697, 9700, 9706, 9708, 9710, 9713, 9716, 9747, 9751, 9753, 9767, 9772, 9773, 9775, 9776, 9783, 9788, 9789, 9805, 9808, 9819, 9822, 9827, 9833, 9838, 9840, 9847, 9852, 9857, 9866, 9874, 9881, 9887, 9901, 9917, 9931, 9945, 9949, 9952, 9991, 9997, 9999]\n",
        "}\n",
        "\n",
        "from binary_search import BinarySearch\n",
        "import unittest\n",
        "import json\n",
        "import time\n",
        "\n",
        "bs = BinarySearch()\n",
        "\n",
        "# Unloading all lists from a file\n",
        "with open(\"items.json\", \"r\") as file:\n",
        "  data = json.load(file)\n",
        "\n",
        "# Setting values to created variables\n",
        "simple_list = data[\"simple_list\"]\n",
        "list_with_10_items = data[\"list_with_10_items\"]\n",
        "list_with_100_items = data[\"list_with_100_items\"]\n",
        "list_with_1000_items = data[\"list_with_1000_items\"]\n",
        "\n",
        "\n",
        "# Test cases to test Binary Search algorithm\n",
        "class TestBinarySearch(unittest.TestCase):\n",
        "\n",
        "  def setUp(self):\n",
        "    print (\".......... %s\" % self._testMethodName)\n",
        "\n",
        "  # Checking the implementation of iterative binary search\n",
        "  def test_iterative_binary_search_with_simple_list(self):\n",
        "    # ARRANGE\n",
        "    # You can check the index of each item in the items.json file\n",
        "    item, expected_index = 3, 1\n",
        "\n",
        "    # ACT\n",
        "    # Run the method we created and get the index of the item we were looking for\n",
        "    index = bs.search_iterative(simple_list, item) # => 1\n",
        "\n",
        "    # ASSERT\n",
        "    # Compare the resulting index with the expected index\n",
        "    self.assertEqual(expected_index, index) # => 1 == 1\n",
        "\n",
        "  def test_recoursive_binary_search_with_simple_list(self):\n",
        "    item, expected_index = 3, 1\n",
        "    # To run recursive search for an item, \n",
        "    # we need to determine the minimum and maximum indexes of the list\n",
        "    low, high = 0, len(simple_list) - 1\n",
        "\n",
        "    index = bs.search_recursive(simple_list, low, high, item)\n",
        "\n",
        "    self.assertEqual(expected_index, index)\n",
        "\n",
        "  def test_search_for_nonexistent_item(self):\n",
        "    # Specifically set a number that is not in the list\n",
        "    item, expected_result = 100, None\n",
        "\n",
        "    # Trying to find an item that doesn't exist\n",
        "    index = bs.search_iterative(simple_list, item) # => None\n",
        "\n",
        "    self.assertEqual(expected_result, index)\n",
        "\n",
        "  def test_binary_search_and_linear_search_execution_time(self):\n",
        "    item, expected_index = 9887, 990\n",
        "\n",
        "    # Time required to search\n",
        "    start_time = time.time()\n",
        "    binary_search_index = bs.search_iterative(list_with_1000_items, item) # => None\n",
        "    bs_time = time.time() - start_time\n",
        " \n",
        "    # list.index(x) return the index in the list of the first item whose value is x. \n",
        "    # It is an error if there is no such item.\n",
        "    # Complexity of list.index(x) is O(n)\n",
        "    start_time = time.time()\n",
        "    linear_search_index = list_with_1000_items.index(item)\n",
        "    ls_time = time.time() - start_time\n",
        "\n",
        "    self.assertEqual(expected_index, binary_search_index)\n",
        "    self.assertEqual(expected_index, linear_search_index)\n",
        "    self.assertTrue(bs_time < ls_time)\n",
        "\n",
        "    # print(\"--- Time required to search item at the ending ---\")\n",
        "    # print(\"--- Linear Search %f seconds ---\" % (ls_time))\n",
        "    # print(\"--- Binary Search %f seconds ---\" % (bs_time))\n",
        "\n",
        "  def test_execution_time_for_item_at_the_beginning(self):\n",
        "    item, expected_index = 55, 10\n",
        "\n",
        "    # Binary search - time required to search\n",
        "    start_time = time.time()\n",
        "    binary_search_index = bs.search_iterative(list_with_1000_items, item) # => None\n",
        "    bs_time = time.time() - start_time\n",
        " \n",
        "    # Linear search - time required to search\n",
        "    start_time = time.time()\n",
        "    linear_search_index = list_with_1000_items.index(item)\n",
        "    ls_time = time.time() - start_time\n",
        "\n",
        "    self.assertEqual(expected_index, binary_search_index)\n",
        "    self.assertEqual(expected_index, linear_search_index)\n",
        "\n",
        "    # linear search will be faster, since the item we are looking for \n",
        "    # is at the beginning of the list\n",
        "    self.assertTrue(bs_time > ls_time)\n",
        "\n",
        "    # print(\"--- Time required to search item at the beginning ---\")\n",
        "    # print(\"--- Linear Search %f seconds ---\" % (ls_time))\n",
        "    # print(\"--- Binary Search %f seconds ---\" % (bs_time))\n",
        "\n",
        "  \n",
        "if __name__ == '__main__':\n",
        "    unittest.main()"
      ],
      "execution_count": null,
      "outputs": []
    },
    {
      "cell_type": "code",
      "metadata": {
        "colab": {
          "base_uri": "https://localhost:8080/"
        },
        "id": "8iw3nBJOCn-p",
        "outputId": "6e119595-3333-43da-9a1c-81f6f8dd8614"
      },
      "source": [
        "# Finds the smallest value in an array\n",
        "def findSmallest(arr):\n",
        "  # Stores the smallest value\n",
        "  smallest = arr[0]\n",
        "  # Stores the index of the smallest value\n",
        "  smallest_index = 0\n",
        "  for i in range(1, len(arr)):\n",
        "    if arr[i] < smallest:\n",
        "      smallest_index = i\n",
        "      smallest = arr[i]      \n",
        "  return smallest_index\n",
        "\n",
        "# Sort array\n",
        "def selectionSort(arr):\n",
        "  newArr = []\n",
        "  for i in range(len(arr)):\n",
        "      # Finds the smallest element in the array and adds it to the new array\n",
        "      smallest = findSmallest(arr)\n",
        "      newArr.append(arr.pop(smallest))\n",
        "  return newArr\n",
        "\n",
        "print(selectionSort([5, 3, 6, 2, 10]))"
      ],
      "execution_count": 5,
      "outputs": [
        {
          "output_type": "stream",
          "text": [
            "[2, 3, 5, 6, 10]\n"
          ],
          "name": "stdout"
        }
      ]
    },
    {
      "cell_type": "code",
      "metadata": {
        "id": "P7FklH-JC19C"
      },
      "source": [
        "# Рекурсия\n",
        "def countdown(i):\n",
        "  # base case\n",
        "  if i <= 0:\n",
        "    return 0\n",
        "  # recursive case\n",
        "  else:\n",
        "    print(i)\n",
        "    return countdown(i-1)\n",
        "\n",
        "countdown(5)\n"
      ],
      "execution_count": null,
      "outputs": []
    },
    {
      "cell_type": "code",
      "metadata": {
        "id": "IktkO2XlDHRm"
      },
      "source": [
        "def greet2(name):\n",
        "    print(\"how are you, \", name, \"?\")\n",
        "\n",
        "def bye():\n",
        "    print(\"ok bye!\")\n",
        "\n",
        "def greet(name):\n",
        "    print(\"hello, \", name, \"!\")\n",
        "    greet2(name)\n",
        "    print(\"getting ready to say bye...\")\n",
        "    bye()\n",
        "\n",
        "greet(\"adit\")"
      ],
      "execution_count": null,
      "outputs": []
    },
    {
      "cell_type": "code",
      "metadata": {
        "colab": {
          "base_uri": "https://localhost:8080/"
        },
        "id": "VyVGYmlcDP-P",
        "outputId": "4717ed3f-8045-4908-8062-254d4e4f9918"
      },
      "source": [
        "# Факториал методом рекурсии\n",
        "\n",
        "def fact(x):\n",
        "  if x == 1:\n",
        "    return 1\n",
        "  else:\n",
        "    return x * fact(x-1)\n",
        "\n",
        "print(fact(5))"
      ],
      "execution_count": 8,
      "outputs": [
        {
          "output_type": "stream",
          "text": [
            "120\n"
          ],
          "name": "stdout"
        }
      ]
    },
    {
      "cell_type": "code",
      "metadata": {
        "id": "XhHnTK8ODxGg"
      },
      "source": [
        "def count(arr):\n",
        "    if not arr:\n",
        "        return 0\n",
        "    return 1 + count(arr[1:])"
      ],
      "execution_count": 10,
      "outputs": []
    },
    {
      "cell_type": "code",
      "metadata": {
        "id": "nurrXsbND79G"
      },
      "source": [
        "# Бинарный поиск рекурсивным методом\n",
        "def binary_search(arr, target):\n",
        "    if not arr:\n",
        "        return -1        \n",
        "    if len(arr) == 1 and arr[0] == target:\n",
        "        return arr[0]\n",
        "    if len(arr) == 1 and arr[0] != target:\n",
        "        return -1\n",
        "    low = 0         \n",
        "    high = len(arr) - 1    \n",
        "    mid = (low + high) // 2\n",
        "\n",
        "    if arr[mid] > target:\n",
        "        return binary_search(arr[:mid], target)\n",
        "    else:\n",
        "        return binary_search(arr[mid+1:], target)"
      ],
      "execution_count": 12,
      "outputs": []
    },
    {
      "cell_type": "code",
      "metadata": {
        "id": "R8HwsAaJEY0r"
      },
      "source": [
        "def find_max(arr):\n",
        "    if len(arr) == 2:\n",
        "        return arr[0] if arr[0] > arr[1] else arr[1]\n",
        "    sub_max = find_max(arr[1:])\n",
        "    return arr[0] if arr[0] > sub_max else sub_max"
      ],
      "execution_count": 13,
      "outputs": []
    },
    {
      "cell_type": "code",
      "metadata": {
        "colab": {
          "base_uri": "https://localhost:8080/"
        },
        "id": "wCAPzT2cEggk",
        "outputId": "0f3840d4-a2de-429e-a928-f96c61c4e113"
      },
      "source": [
        "# Сумма рекурсивным методом\n",
        "arr =[1,2,3,4,5,6]\n",
        "def sum_array(arr):\n",
        "    if not arr:\n",
        "        return 0\n",
        "    return arr[0] + sum_array(arr[1:])\n",
        "sum_array(arr)"
      ],
      "execution_count": 16,
      "outputs": [
        {
          "output_type": "execute_result",
          "data": {
            "text/plain": [
              "21"
            ]
          },
          "metadata": {
            "tags": []
          },
          "execution_count": 16
        }
      ]
    },
    {
      "cell_type": "code",
      "metadata": {
        "id": "0Jpo8KbmFZoj"
      },
      "source": [
        "def sum(arr):\n",
        "  total = 0\n",
        "  for x in arr:\n",
        "    total += x\n",
        "  return total\n",
        "\n",
        "print(sum([1, 2, 3, 4]))"
      ],
      "execution_count": null,
      "outputs": []
    },
    {
      "cell_type": "code",
      "metadata": {
        "colab": {
          "base_uri": "https://localhost:8080/"
        },
        "id": "dGpmD2tnFs2F",
        "outputId": "cfec4b83-3f3a-4825-a26e-c6c540948d22"
      },
      "source": [
        "# Еще рекурсивная сумма\n",
        "def sum(list):\n",
        "  if list == []:\n",
        "    return 0\n",
        "  return list[0] + sum(list[1:])\n",
        "\n",
        "sum_array([2,3,5,6])\n"
      ],
      "execution_count": 20,
      "outputs": [
        {
          "output_type": "execute_result",
          "data": {
            "text/plain": [
              "16"
            ]
          },
          "metadata": {
            "tags": []
          },
          "execution_count": 20
        }
      ]
    },
    {
      "cell_type": "code",
      "metadata": {
        "colab": {
          "base_uri": "https://localhost:8080/"
        },
        "id": "V2o9wXqXAckz",
        "outputId": "80f7cda9-c4f8-4c31-d89c-782859f356bb"
      },
      "source": [
        "from collections import deque\n",
        "\n",
        "def person_is_seller(name):\n",
        "      return name[-1] == 'm'\n",
        "\n",
        "graph = {}\n",
        "graph[\"you\"] = [\"alice\", \"bob\", \"claire\"]\n",
        "graph[\"bob\"] = [\"anuj\", \"peggy\"]\n",
        "graph[\"alice\"] = [\"peggy\"]\n",
        "graph[\"claire\"] = [\"thom\", \"jonny\"]\n",
        "graph[\"anuj\"] = []\n",
        "graph[\"peggy\"] = []\n",
        "graph[\"thom\"] = []\n",
        "graph[\"jonny\"] = []\n",
        "\n",
        "def search(name):\n",
        "    search_queue = deque()\n",
        "    search_queue += graph[name]\n",
        "    # This is how you keep track of which people you've searched before.\n",
        "    searched = set()\n",
        "    while search_queue:\n",
        "        person = search_queue.popleft()\n",
        "        # Only search this person if you haven't already searched them.\n",
        "        if person not in searched:\n",
        "            if person_is_seller(person):\n",
        "                print(person + \" is a mango seller!\")\n",
        "                return True\n",
        "            else:\n",
        "                search_queue += graph[person]\n",
        "                # Marks this person as searched\n",
        "                searched.add(person)\n",
        "    return False\n",
        "\n",
        "search(\"you\")"
      ],
      "execution_count": 1,
      "outputs": [
        {
          "output_type": "stream",
          "text": [
            "thom is a mango seller!\n"
          ],
          "name": "stdout"
        },
        {
          "output_type": "execute_result",
          "data": {
            "text/plain": [
              "True"
            ]
          },
          "metadata": {
            "tags": []
          },
          "execution_count": 1
        }
      ]
    }
  ]
}