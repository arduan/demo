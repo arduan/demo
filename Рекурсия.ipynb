{
  "nbformat": 4,
  "nbformat_minor": 0,
  "metadata": {
    "colab": {
      "name": "Рекурсия.ipynb",
      "provenance": [],
      "authorship_tag": "ABX9TyNjXN1/FnrZYXRs6DzF4qtp",
      "include_colab_link": true
    },
    "kernelspec": {
      "name": "python3",
      "display_name": "Python 3"
    },
    "language_info": {
      "name": "python"
    }
  },
  "cells": [
    {
      "cell_type": "markdown",
      "metadata": {
        "id": "view-in-github",
        "colab_type": "text"
      },
      "source": [
        "<a href=\"https://colab.research.google.com/github/arduan/demo/blob/master/%D0%A0%D0%B5%D0%BA%D1%83%D1%80%D1%81%D0%B8%D1%8F.ipynb\" target=\"_parent\"><img src=\"https://colab.research.google.com/assets/colab-badge.svg\" alt=\"Open In Colab\"/></a>"
      ]
    },
    {
      "cell_type": "code",
      "metadata": {
        "colab": {
          "base_uri": "https://localhost:8080/"
        },
        "id": "qFgZzAqDr9xZ",
        "outputId": "8bdca6d1-2475-4f3d-9ee9-1c59581c4999"
      },
      "source": [
        "# Суммирование первых n натуральных чисел\n",
        "\n",
        "def sum_first_naturals(n):\n",
        "  if n == 1:\n",
        "    return 1 # Base case\n",
        "  else:\n",
        "    return sum_first_naturals(n-1) + n # Recursive case\n",
        "\n",
        "sum_first_naturals(100)"
      ],
      "execution_count": 5,
      "outputs": [
        {
          "output_type": "execute_result",
          "data": {
            "text/plain": [
              "5050"
            ]
          },
          "metadata": {
            "tags": []
          },
          "execution_count": 5
        }
      ]
    }
  ]
}