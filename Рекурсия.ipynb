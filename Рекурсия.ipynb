{
  "nbformat": 4,
  "nbformat_minor": 0,
  "metadata": {
    "colab": {
      "name": "Рекурсия.ipynb",
      "provenance": [],
      "authorship_tag": "ABX9TyMqSvUZH5PwNvqHrppxTpgK",
      "include_colab_link": true
    },
    "kernelspec": {
      "name": "python3",
      "display_name": "Python 3"
    },
    "language_info": {
      "name": "python"
    }
  },
  "cells": [
    {
      "cell_type": "markdown",
      "metadata": {
        "id": "view-in-github",
        "colab_type": "text"
      },
      "source": [
        "<a href=\"https://colab.research.google.com/github/arduan/demo/blob/master/%D0%A0%D0%B5%D0%BA%D1%83%D1%80%D1%81%D0%B8%D1%8F.ipynb\" target=\"_parent\"><img src=\"https://colab.research.google.com/assets/colab-badge.svg\" alt=\"Open In Colab\"/></a>"
      ]
    },
    {
      "cell_type": "code",
      "metadata": {
        "colab": {
          "base_uri": "https://localhost:8080/"
        },
        "id": "qFgZzAqDr9xZ",
        "outputId": "8bdca6d1-2475-4f3d-9ee9-1c59581c4999"
      },
      "source": [
        "# Суммирование первых n натуральных чисел\n",
        "\n",
        "def sum_first_naturals(n):\n",
        "  if n == 1:\n",
        "    return 1 # Base case\n",
        "  else:\n",
        "    return sum_first_naturals(n-1) + n # Recursive case\n",
        "\n",
        "sum_first_naturals(100)"
      ],
      "execution_count": null,
      "outputs": [
        {
          "output_type": "execute_result",
          "data": {
            "text/plain": [
              "5050"
            ]
          },
          "metadata": {
            "tags": []
          },
          "execution_count": 5
        }
      ]
    },
    {
      "cell_type": "code",
      "metadata": {
        "colab": {
          "base_uri": "https://localhost:8080/"
        },
        "id": "fhlT0jIHtAXI",
        "outputId": "deb22bf0-60e8-4148-af1b-f0c1577a8a6a"
      },
      "source": [
        "# Вычисление n-го числа Фибоначчи\n",
        "\n",
        "def fibonacci(n):\n",
        "  if n == 1 or n == 2:\n",
        "    return 1\n",
        "  else:\n",
        "    return fibonacci(n-1) + fibonacci(n-2)\n",
        "\n",
        "fibonacci(10)"
      ],
      "execution_count": 5,
      "outputs": [
        {
          "output_type": "execute_result",
          "data": {
            "text/plain": [
              "55"
            ]
          },
          "metadata": {
            "tags": []
          },
          "execution_count": 5
        }
      ]
    },
    {
      "cell_type": "code",
      "metadata": {
        "id": "jULlbzdOv1gv",
        "outputId": "b7b78523-d113-42c1-cb74-3039a9cfab70",
        "colab": {
          "base_uri": "https://localhost:8080/"
        }
      },
      "source": [
        "# Другой вариант вычисления n-го числа Фибоначчи\n",
        "\n",
        "def fibonacci_alt(n):\n",
        "  if n == 1 or n == 2:\n",
        "    return 1\n",
        "  else:\n",
        "    aux = 1\n",
        "    for i in range(1, n-1):\n",
        "      aux += fibonacci_alt(i)\n",
        "    return aux\n",
        "\n",
        "fibonacci_alt(10)"
      ],
      "execution_count": 11,
      "outputs": [
        {
          "output_type": "execute_result",
          "data": {
            "text/plain": [
              "55"
            ]
          },
          "metadata": {
            "tags": []
          },
          "execution_count": 11
        }
      ]
    }
  ]
}