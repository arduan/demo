{
  "nbformat": 4,
  "nbformat_minor": 0,
  "metadata": {
    "colab": {
      "name": "Игра Виселица.ipynb",
      "provenance": [],
      "authorship_tag": "ABX9TyOn8ePa+RU2brjI0LoJgOF+",
      "include_colab_link": true
    },
    "kernelspec": {
      "name": "python3",
      "display_name": "Python 3"
    },
    "language_info": {
      "name": "python"
    }
  },
  "cells": [
    {
      "cell_type": "markdown",
      "metadata": {
        "id": "view-in-github",
        "colab_type": "text"
      },
      "source": [
        "<a href=\"https://colab.research.google.com/github/arduan/demo/blob/master/%D0%98%D0%B3%D1%80%D0%B0_%D0%92%D0%B8%D1%81%D0%B5%D0%BB%D0%B8%D1%86%D0%B0.ipynb\" target=\"_parent\"><img src=\"https://colab.research.google.com/assets/colab-badge.svg\" alt=\"Open In Colab\"/></a>"
      ]
    },
    {
      "cell_type": "code",
      "metadata": {
        "colab": {
          "base_uri": "https://localhost:8080/",
          "height": 370
        },
        "id": "S_SIsKg9xwRl",
        "outputId": "a5c8b61c-06ad-4759-d649-537cc9c26854"
      },
      "source": [
        "import random\n",
        "import os\n",
        "\n",
        "import hangman\n",
        "import UI\n",
        "import background\n",
        "\n",
        "import words\n",
        "\n",
        "print(\"Welcome to Hangman!!! and save your frined from being hanged.\")\n",
        "\n",
        "random_word1 = random.choice(words.words_list1)\n",
        "random_word2 = random.choice(words.words_list2)\n",
        "random_word3 = random.choice(words.words_list3)\n",
        "random_word4 = random.choice(words.words_list4)\n",
        "\n",
        "chosen_word = random.choice([random_word1, random_word2, random_word3, random_word4])\n",
        "split_word = list(chosen_word)\n",
        "\n",
        "letters = ['a', 'b', 'c', 'd', 'e', 'f', 'g', 'h', 'i', 'j', 'k', 'l', 'm', 'n', 'o', 'p', 'q', 'r', 's', 't', 'u', 'v', 'w', 'x', 'y', 'z', '-', ' ']\n",
        "\n",
        "empty_list = []\n",
        "\n",
        "for l in split_word:\n",
        "  empty_list.append('_')\n",
        "\n",
        "user = (input(\"Do you want to play the game. 'Y' or 'N': \")).lower()\n",
        "wrong_attempts = 0\n",
        "if user == 'y':\n",
        "  empty_word = UI.display_empty_word(empty_list)\n",
        "  chosen_word_spaces = UI.display_empty_word(split_word)\n",
        "  while wrong_attempts < 6 and not (empty_word == chosen_word_spaces):\n",
        "    hangman.hangman(wrong_attempts)\n",
        "    \n",
        "    print(\"***********************************************\")\n",
        "    print(\"Your progress\")\n",
        "    print(empty_word)\n",
        "    print(\"***********************************************\")\n",
        "    print(\"\\n\")\n",
        "    print(\"Letters available to select\")\n",
        "    print(letters)\n",
        "    print('\\n' + '\\n')\n",
        "\n",
        "    guess_letter = (input(\"Give your guess. (Case insensitive): \")).lower()\n",
        "    print(\"\\n\")\n",
        "\n",
        "    validation = background.validate_guess(guess_letter, letters, 0)\n",
        "\n",
        "    if not validation:\n",
        "      os.system('clear')\n",
        "      print(\"Welcome to Hangman!!! and save your frined from being hanged.\" + \"\\n\")\n",
        "      print(\"You have either selected an already selected letter or invalid character. Choose again!\")\n",
        "    elif validation:\n",
        "      empty_list, wrong_attempts = background.update_empty_word(guess_letter, empty_list, split_word, wrong_attempts)\n",
        "      os.system('clear')\n",
        "      empty_word = UI.display_empty_word(empty_list)\n",
        "      UI.remove_used_letters(guess_letter, letters)\n",
        "      print(\"Welcome to Hangman!!! and save your frined from being hanged.\" + \"\\n\")\n",
        "\n",
        "  if wrong_attempts > 5:\n",
        "    os.system('clear')\n",
        "    print(\"Welcome to Hangman!!! and save your frined from being hanged.\" + \"\\n\")\n",
        "    print(\"You have lost the game\")\n",
        "    hangman.hangman(wrong_attempts)\n",
        "    print(f\"Correct word was: {chosen_word_spaces}\")\n",
        "\n",
        "  elif empty_word == chosen_word_spaces:\n",
        "    os.system('clear')\n",
        "    print(\"Welcome to Hangman!!! and save your frined from being hanged.\" + \"\\n\")\n",
        "    print(\"Hurrah! You have won the game and saved your friend.\")\n",
        "    wa = 7\n",
        "    hangman.hangman(wa)\n",
        "    print(f\"You guessed the word correctly: {chosen_word_spaces}\")\n",
        "\n",
        "  else:\n",
        "    print(\"You've chosen not to play the game.\")"
      ],
      "execution_count": 1,
      "outputs": [
        {
          "output_type": "error",
          "ename": "ModuleNotFoundError",
          "evalue": "ignored",
          "traceback": [
            "\u001b[0;31m---------------------------------------------------------------------------\u001b[0m",
            "\u001b[0;31mModuleNotFoundError\u001b[0m                       Traceback (most recent call last)",
            "\u001b[0;32m<ipython-input-1-0b0c89197a45>\u001b[0m in \u001b[0;36m<module>\u001b[0;34m()\u001b[0m\n\u001b[1;32m      2\u001b[0m \u001b[0;32mimport\u001b[0m \u001b[0mos\u001b[0m\u001b[0;34m\u001b[0m\u001b[0;34m\u001b[0m\u001b[0m\n\u001b[1;32m      3\u001b[0m \u001b[0;34m\u001b[0m\u001b[0m\n\u001b[0;32m----> 4\u001b[0;31m \u001b[0;32mimport\u001b[0m \u001b[0mhangman\u001b[0m\u001b[0;34m\u001b[0m\u001b[0;34m\u001b[0m\u001b[0m\n\u001b[0m\u001b[1;32m      5\u001b[0m \u001b[0;32mimport\u001b[0m \u001b[0mUI\u001b[0m\u001b[0;34m\u001b[0m\u001b[0;34m\u001b[0m\u001b[0m\n\u001b[1;32m      6\u001b[0m \u001b[0;32mimport\u001b[0m \u001b[0mbackground\u001b[0m\u001b[0;34m\u001b[0m\u001b[0;34m\u001b[0m\u001b[0m\n",
            "\u001b[0;31mModuleNotFoundError\u001b[0m: No module named 'hangman'",
            "",
            "\u001b[0;31m---------------------------------------------------------------------------\u001b[0;32m\nNOTE: If your import is failing due to a missing package, you can\nmanually install dependencies using either !pip or !apt.\n\nTo view examples of installing some common dependencies, click the\n\"Open Examples\" button below.\n\u001b[0;31m---------------------------------------------------------------------------\u001b[0m\n"
          ]
        }
      ]
    }
  ]
}