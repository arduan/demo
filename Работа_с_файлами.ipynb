{
  "nbformat": 4,
  "nbformat_minor": 0,
  "metadata": {
    "colab": {
      "name": "Работа с файлами.ipynb",
      "provenance": [],
      "authorship_tag": "ABX9TyMfUZccAAnNZqQyFbCohJR7",
      "include_colab_link": true
    },
    "kernelspec": {
      "name": "python3",
      "display_name": "Python 3"
    },
    "language_info": {
      "name": "python"
    }
  },
  "cells": [
    {
      "cell_type": "markdown",
      "metadata": {
        "id": "view-in-github",
        "colab_type": "text"
      },
      "source": [
        "<a href=\"https://colab.research.google.com/github/arduan/demo/blob/master/%D0%A0%D0%B0%D0%B1%D0%BE%D1%82%D0%B0_%D1%81_%D1%84%D0%B0%D0%B9%D0%BB%D0%B0%D0%BC%D0%B8.ipynb\" target=\"_parent\"><img src=\"https://colab.research.google.com/assets/colab-badge.svg\" alt=\"Open In Colab\"/></a>"
      ]
    },
    {
      "cell_type": "code",
      "metadata": {
        "id": "JKvVNIH4mGu0"
      },
      "source": [
        "# Что­бы избе­жать проб­лем с путями в Windows, исполь­зуй в них двой­ной слеш '\\', \n",
        "# а так­же перед откры­вающей кавыч­кой пути фай­ла ставь бук­ву u, ука­зыва­ющую на то, что стро­ка в кодиров­ке Unicode:\n",
        "\n",
        "f = open(u'D:\\\\test.txt', 'r', encoding='UTF-8')"
      ],
      "execution_count": null,
      "outputs": []
    },
    {
      "cell_type": "code",
      "metadata": {
        "id": "eeTWaHDtmYnN"
      },
      "source": [
        "# Чи­тать стро­ки из фай­ла мож­но методом .read():\n",
        "\n",
        "f = open('test.txt', 'r', encoding='UTF-8')\n",
        "s = f.read()\n",
        "print(s)\n",
        "# Как вари­ант — мож­но пос­ледова­тель­но читать из фай­ла отдель­ные стро­ки с помощью цик­ла for:\n",
        "\n",
        "f = open('test.txt', 'r', encoding='UTF-8')\n",
        "for x in f:\n",
        "    print(x)\n",
        "# Пос­ле того как работа с фай­лом закон­чена, нуж­но зак­рыть его.\n",
        "\n",
        "f.close()"
      ],
      "execution_count": null,
      "outputs": []
    },
    {
      "cell_type": "code",
      "metadata": {
        "colab": {
          "base_uri": "https://localhost:8080/"
        },
        "id": "Z6egp0lwnEmo",
        "outputId": "c02b1f7b-b8d6-4491-e279-f4b0edd916e0"
      },
      "source": [
        "# Да­вай теперь поп­робу­ем соз­дать новый тек­сто­вый файл в одном катало­ге с нашим скрип­том и записать в него зна­чения каких‑то перемен­ных.\n",
        "\n",
        "s1 = 'Раз, два, три, четыре, пять\\n'\n",
        "s2 = 'Я иду сервак ломать...\\n'\n",
        "f = open('poems.txt', 'w', encoding='UTF-8')\n",
        "f.write(s1)\n",
        "f.write(s2)\n",
        "f.close()\n",
        "# Об­рати вни­мание, что в кон­це каж­дой стро­ки сто­ит сим­вол \\n — переход на новую стро­ку.\n",
        "\n",
        "# До­пус­тим, ты хочешь дописать третью строч­ку в конец это­го фай­ла. Тут‑то и при­годит­ся режим дозапи­си!\n",
        "\n",
        "s3 = 'Ох, устанут поднимать!\\n'\n",
        "f = open('poems.txt', 'a', encoding='UTF-8')\n",
        "f.write(s3)\n",
        "f.close()\n",
        "\n",
        "f = open('poems.txt', 'r', encoding='UTF-8')\n",
        "s = f.read()\n",
        "print(s)"
      ],
      "execution_count": 8,
      "outputs": [
        {
          "output_type": "stream",
          "text": [
            "Раз, два, три, четыре, пять\n",
            "Я иду сервак ломать...\n",
            "Ох, устанут поднимать!\n",
            "\n"
          ],
          "name": "stdout"
        }
      ]
    },
    {
      "cell_type": "code",
      "metadata": {
        "colab": {
          "base_uri": "https://localhost:8080/"
        },
        "id": "dDVIXcuhni5P",
        "outputId": "6dfd8ca9-31c6-4f74-d72e-5b1d8ed82514"
      },
      "source": [
        "# Для откры­тия фай­лов так­же очень удоб­но исполь­зовать конс­трук­цию with open('имя файла с путем и расширением', \n",
        "# 'режим работы с файлом') as f, потому что бла­года­ря сло­ву with файл зак­роет­ся авто­мати­чес­ки и тебе не при­дет­ся думать об этом.\n",
        "\n",
        "s = 'Если вы закроете этот файл, ваш диск будет отформатирован!\\nШутка\\n'\n",
        "with open('test.txt', 'w', encoding='UTF-8') as f:\n",
        "    f.write(s)\n",
        "\n",
        "f = open('test.txt', 'r', encoding='UTF-8')\n",
        "s = f.read()\n",
        "print(s)"
      ],
      "execution_count": 6,
      "outputs": [
        {
          "output_type": "stream",
          "text": [
            "Если вы закроете этот файл, ваш диск будет отформатирован!\n",
            "Шутка\n",
            "\n"
          ],
          "name": "stdout"
        }
      ]
    }
  ]
}