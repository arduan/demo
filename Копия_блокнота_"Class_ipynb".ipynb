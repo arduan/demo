{
  "nbformat": 4,
  "nbformat_minor": 0,
  "metadata": {
    "colab": {
      "name": "Копия блокнота \"Class.ipynb\"",
      "provenance": [],
      "toc_visible": true,
      "authorship_tag": "ABX9TyMmsYHbdqdVMuFXhyGJv+tA",
      "include_colab_link": true
    },
    "kernelspec": {
      "name": "python3",
      "display_name": "Python 3"
    },
    "language_info": {
      "name": "python"
    }
  },
  "cells": [
    {
      "cell_type": "markdown",
      "metadata": {
        "id": "view-in-github",
        "colab_type": "text"
      },
      "source": [
        "<a href=\"https://colab.research.google.com/github/arduan/demo/blob/master/%D0%9A%D0%BE%D0%BF%D0%B8%D1%8F_%D0%B1%D0%BB%D0%BE%D0%BA%D0%BD%D0%BE%D1%82%D0%B0_%22Class_ipynb%22.ipynb\" target=\"_parent\"><img src=\"https://colab.research.google.com/assets/colab-badge.svg\" alt=\"Open In Colab\"/></a>"
      ]
    },
    {
      "cell_type": "markdown",
      "metadata": {
        "id": "_QVvma2mOGZd"
      },
      "source": [
        ""
      ]
    },
    {
      "cell_type": "code",
      "metadata": {
        "colab": {
          "base_uri": "https://localhost:8080/",
          "height": 121
        },
        "id": "d01P0HWFBgNl",
        "outputId": "23750975-1933-410d-e55d-325318c8fb4c"
      },
      "source": [
        "# Понимание ООП\n",
        "\n",
        "class A:\n",
        "  print('Vitalik')\n",
        "\n",
        "class B:\n",
        "  print('Sveta')\n",
        "\n",
        "class C(A, B):\n",
        "  print('Маша')\n",
        "  name = 'Masha'\n",
        "\n",
        "class D(C):\n",
        "  print('Nasty')\n",
        "  print('Мать ', C.name)\n",
        "\n",
        "d = D()\n",
        "d\n",
        "masha = C()\n",
        "masha.name\n",
        "\n",
        "\n",
        "\n",
        "\n",
        "\n",
        "\n",
        "\n",
        "\n"
      ],
      "execution_count": null,
      "outputs": [
        {
          "output_type": "stream",
          "text": [
            "Vitalik\n",
            "Sveta\n",
            "Маша\n",
            "Nasty\n",
            "Мать  Masha\n"
          ],
          "name": "stdout"
        },
        {
          "output_type": "execute_result",
          "data": {
            "application/vnd.google.colaboratory.intrinsic+json": {
              "type": "string"
            },
            "text/plain": [
              "'Masha'"
            ]
          },
          "metadata": {
            "tags": []
          },
          "execution_count": 30
        }
      ]
    },
    {
      "cell_type": "code",
      "metadata": {
        "id": "7do3yGikSa28"
      },
      "source": [
        "class Cat:\n",
        "    def __init__(self, name, age):\n",
        "        self.name = name\n",
        "        self.age = age\n",
        "\n",
        "    def info(self):\n",
        "        print(f\"I am a cat. My name is {self.name}. I am {self.age} years old.\")\n",
        "\n",
        "    def make_sound(self):\n",
        "        print(\"Meow\")\n",
        "\n",
        "\n",
        "class Dog:\n",
        "    def __init__(self, name, age):\n",
        "        self.name = name\n",
        "        self.age = age\n",
        "\n",
        "    def info(self):\n",
        "        print(f\"I am a dog. My name is {self.name}. I am {self.age} years old.\")\n",
        "\n",
        "    def make_sound(self):\n",
        "        print(\"Bark\")\n",
        "\n"
      ],
      "execution_count": null,
      "outputs": []
    }
  ]
}