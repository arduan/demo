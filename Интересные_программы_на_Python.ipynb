{
  "nbformat": 4,
  "nbformat_minor": 0,
  "metadata": {
    "colab": {
      "name": "Интересные программы на Python.ipynb",
      "provenance": [],
      "authorship_tag": "ABX9TyOS+jF09iZZRjBQmpj0M5u1",
      "include_colab_link": true
    },
    "kernelspec": {
      "name": "python3",
      "display_name": "Python 3"
    },
    "language_info": {
      "name": "python"
    }
  },
  "cells": [
    {
      "cell_type": "markdown",
      "metadata": {
        "id": "view-in-github",
        "colab_type": "text"
      },
      "source": [
        "<a href=\"https://colab.research.google.com/github/arduan/demo/blob/master/%D0%98%D0%BD%D1%82%D0%B5%D1%80%D0%B5%D1%81%D0%BD%D1%8B%D0%B5_%D0%BF%D1%80%D0%BE%D0%B3%D1%80%D0%B0%D0%BC%D0%BC%D1%8B_%D0%BD%D0%B0_Python.ipynb\" target=\"_parent\"><img src=\"https://colab.research.google.com/assets/colab-badge.svg\" alt=\"Open In Colab\"/></a>"
      ]
    },
    {
      "cell_type": "code",
      "metadata": {
        "colab": {
          "base_uri": "https://localhost:8080/",
          "height": 130
        },
        "id": "4iVfXOL8BnL6",
        "outputId": "95165a38-2dec-409b-98b7-901699c6b53f"
      },
      "source": [
        "pip install pywhatkit\n",
        "\n",
        "import pywhatkit\n",
        "\n",
        "pywhatkit."
      ],
      "execution_count": 7,
      "outputs": [
        {
          "output_type": "error",
          "ename": "SyntaxError",
          "evalue": "ignored",
          "traceback": [
            "\u001b[0;36m  File \u001b[0;32m\"<ipython-input-7-df99478ac0cb>\"\u001b[0;36m, line \u001b[0;32m1\u001b[0m\n\u001b[0;31m    ipython3 pip install pywhatkit\u001b[0m\n\u001b[0m               ^\u001b[0m\n\u001b[0;31mSyntaxError\u001b[0m\u001b[0;31m:\u001b[0m invalid syntax\n"
          ]
        }
      ]
    },
    {
      "cell_type": "code",
      "metadata": {
        "colab": {
          "base_uri": "https://localhost:8080/"
        },
        "id": "Fuzc5tetNcKG",
        "outputId": "d32ca29c-9fdd-4bae-95cd-dc6b1653fb48"
      },
      "source": [
        "import calendar\n",
        "year =int( input(\"Enter the year of the required calendar \"))\n",
        "month = int( input(\"Enter the month of the required calendar \"))\n",
        "print(calendar.month(year,month))                                                         "
      ],
      "execution_count": 8,
      "outputs": [
        {
          "output_type": "stream",
          "text": [
            "Enter the year of the required calendar 2021\n",
            "Enter the month of the required calendar 6\n",
            "     June 2021\n",
            "Mo Tu We Th Fr Sa Su\n",
            "    1  2  3  4  5  6\n",
            " 7  8  9 10 11 12 13\n",
            "14 15 16 17 18 19 20\n",
            "21 22 23 24 25 26 27\n",
            "28 29 30\n",
            "\n"
          ],
          "name": "stdout"
        }
      ]
    }
  ]
}