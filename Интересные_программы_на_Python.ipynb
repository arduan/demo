{
  "nbformat": 4,
  "nbformat_minor": 0,
  "metadata": {
    "colab": {
      "name": "Интересные программы на Python.ipynb",
      "provenance": [],
      "authorship_tag": "ABX9TyPICpbfImk9qjCs0+K3SLf+",
      "include_colab_link": true
    },
    "kernelspec": {
      "name": "python3",
      "display_name": "Python 3"
    },
    "language_info": {
      "name": "python"
    }
  },
  "cells": [
    {
      "cell_type": "markdown",
      "metadata": {
        "id": "view-in-github",
        "colab_type": "text"
      },
      "source": [
        "<a href=\"https://colab.research.google.com/github/arduan/demo/blob/master/%D0%98%D0%BD%D1%82%D0%B5%D1%80%D0%B5%D1%81%D0%BD%D1%8B%D0%B5_%D0%BF%D1%80%D0%BE%D0%B3%D1%80%D0%B0%D0%BC%D0%BC%D1%8B_%D0%BD%D0%B0_Python.ipynb\" target=\"_parent\"><img src=\"https://colab.research.google.com/assets/colab-badge.svg\" alt=\"Open In Colab\"/></a>"
      ]
    },
    {
      "cell_type": "code",
      "metadata": {
        "colab": {
          "base_uri": "https://localhost:8080/"
        },
        "id": "Fuzc5tetNcKG",
        "outputId": "d32ca29c-9fdd-4bae-95cd-dc6b1653fb48"
      },
      "source": [
        "import calendar\n",
        "year =int( input(\"Enter the year of the required calendar \"))\n",
        "month = int( input(\"Enter the month of the required calendar \"))\n",
        "print(calendar.month(year,month))                                                         "
      ],
      "execution_count": 8,
      "outputs": [
        {
          "output_type": "stream",
          "text": [
            "Enter the year of the required calendar 2021\n",
            "Enter the month of the required calendar 6\n",
            "     June 2021\n",
            "Mo Tu We Th Fr Sa Su\n",
            "    1  2  3  4  5  6\n",
            " 7  8  9 10 11 12 13\n",
            "14 15 16 17 18 19 20\n",
            "21 22 23 24 25 26 27\n",
            "28 29 30\n",
            "\n"
          ],
          "name": "stdout"
        }
      ]
    },
    {
      "cell_type": "code",
      "metadata": {
        "colab": {
          "base_uri": "https://localhost:8080/",
          "height": 248
        },
        "id": "rcMJtHtfOC4G",
        "outputId": "8e45a321-1141-43ff-ca5d-b22fe4948ea1"
      },
      "source": [
        "import matplotlib.pyplot as plt\n",
        "Partition = 'Holidays', 'Eating_Out', 'Shopping', 'Groceries'\n",
        "sizes = [250, 100, 300, 200]\n",
        "fig1, ax1 = plt.subplots()\n",
        "ax1.pie(sizes, labels=Partition, autopct='%1.1f%%', shadow=True, startangle=90)         \n",
        "ax1.axis('equal')\n",
        "plt.show()"
      ],
      "execution_count": 9,
      "outputs": [
        {
          "output_type": "display_data",
          "data": {
            "image/png": "[encoded data removed]",
            "text/plain": [
              "<Figure size 432x288 with 1 Axes>"
            ]
          },
          "metadata": {
            "tags": []
          }
        }
      ]
    },
    {
      "cell_type": "code",
      "metadata": {
        "colab": {
          "base_uri": "https://localhost:8080/",
          "height": 130
        },
        "id": "3X0eXdlKOf57",
        "outputId": "d0ec7457-621c-40b3-febe-cf147b55a41e"
      },
      "source": [
        "# Проверка скорости интернета\n",
        "import speedtest\n",
        "speed = speedtest.Speedtest()\n",
        "download_speed = speed.download()\n",
        "upload_speed = speed.upload()\n",
        "print(f'The download speed is {download_speed}')\n",
        "print(f'The uplaod speed is {upload_speed}')                                          "
      ],
      "execution_count": 13,
      "outputs": [
        {
          "output_type": "error",
          "ename": "SyntaxError",
          "evalue": "ignored",
          "traceback": [
            "\u001b[0;36m  File \u001b[0;32m\"<ipython-input-13-1d2bfc59fbfd>\"\u001b[0;36m, line \u001b[0;32m1\u001b[0m\n\u001b[0;31m    python3 pip install speedtest\u001b[0m\n\u001b[0m              ^\u001b[0m\n\u001b[0;31mSyntaxError\u001b[0m\u001b[0;31m:\u001b[0m invalid syntax\n"
          ]
        }
      ]
    }
  ]
}