{
  "nbformat": 4,
  "nbformat_minor": 0,
  "metadata": {
    "colab": {
      "name": "Нейронка.ipynb",
      "provenance": [],
      "authorship_tag": "ABX9TyOiWP2cRb34sh2MT/B29j3E",
      "include_colab_link": true
    },
    "kernelspec": {
      "name": "python3",
      "display_name": "Python 3"
    },
    "language_info": {
      "name": "python"
    }
  },
  "cells": [
    {
      "cell_type": "markdown",
      "metadata": {
        "id": "view-in-github",
        "colab_type": "text"
      },
      "source": [
        "<a href=\"https://colab.research.google.com/github/arduan/demo/blob/master/%D0%9D%D0%B5%D0%B9%D1%80%D0%BE%D0%BD%D0%BA%D0%B0.ipynb\" target=\"_parent\"><img src=\"https://colab.research.google.com/assets/colab-badge.svg\" alt=\"Open In Colab\"/></a>"
      ]
    },
    {
      "cell_type": "code",
      "metadata": {
        "colab": {
          "base_uri": "https://localhost:8080/"
        },
        "id": "8RxS-b0m-eYG",
        "outputId": "4c440edc-edea-44bc-e7a6-cca3ab1c3625"
      },
      "source": [
        "import numpy as np\n",
        "\n",
        "\n",
        "def sigmoid(x):\n",
        "\n",
        "  # Функция активации: f(x) = 1 / (1 + e^(-x))\n",
        "\n",
        "  return 1 / (1 + np.exp(-x))\n",
        "\n",
        "\n",
        "class Neuron:\n",
        "\n",
        "  def __init__(self, weights, bias):\n",
        "\n",
        "    self.weights = weights\n",
        "\n",
        "    self.bias = bias\n",
        "\n",
        "\n",
        "  def feedforward(self, inputs):\n",
        "\n",
        "\n",
        "    total = np.dot(self.weights, inputs) + self.bias\n",
        "\n",
        "    return sigmoid(total)\n",
        "\n",
        "\n",
        "weights = np.array([0, 1]) # w1 = 0, w2 = 1\n",
        "\n",
        "bias = 4                   # c = 4\n",
        "\n",
        "n = Neuron(weights, bias)\n",
        "\n",
        "\n",
        "x = np.array([2, 3])       # x = 2, y = 3\n",
        "\n",
        "print(n.feedforward(x))    # 0.9990889488055994"
      ],
      "execution_count": 1,
      "outputs": [
        {
          "output_type": "stream",
          "text": [
            "0.9990889488055994\n"
          ],
          "name": "stdout"
        }
      ]
    }
  ]
}