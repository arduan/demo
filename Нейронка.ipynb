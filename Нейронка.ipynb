{
  "nbformat": 4,
  "nbformat_minor": 0,
  "metadata": {
    "colab": {
      "name": "Нейронка.ipynb",
      "provenance": [],
      "authorship_tag": "ABX9TyMS54qRXZHwAyzOCrwbD+QA",
      "include_colab_link": true
    },
    "kernelspec": {
      "name": "python3",
      "display_name": "Python 3"
    },
    "language_info": {
      "name": "python"
    }
  },
  "cells": [
    {
      "cell_type": "markdown",
      "metadata": {
        "id": "view-in-github",
        "colab_type": "text"
      },
      "source": [
        "<a href=\"https://colab.research.google.com/github/arduan/demo/blob/master/%D0%9D%D0%B5%D0%B9%D1%80%D0%BE%D0%BD%D0%BA%D0%B0.ipynb\" target=\"_parent\"><img src=\"https://colab.research.google.com/assets/colab-badge.svg\" alt=\"Open In Colab\"/></a>"
      ]
    },
    {
      "cell_type": "code",
      "metadata": {
        "colab": {
          "base_uri": "https://localhost:8080/"
        },
        "id": "8RxS-b0m-eYG",
        "outputId": "4c440edc-edea-44bc-e7a6-cca3ab1c3625"
      },
      "source": [
        "import numpy as np\n",
        "\n",
        "\n",
        "def sigmoid(x):\n",
        "\n",
        "  # Функция активации: f(x) = 1 / (1 + e^(-x))\n",
        "\n",
        "  return 1 / (1 + np.exp(-x))\n",
        "\n",
        "\n",
        "class Neuron:\n",
        "\n",
        "  def __init__(self, weights, bias):\n",
        "\n",
        "    self.weights = weights\n",
        "\n",
        "    self.bias = bias\n",
        "\n",
        "\n",
        "  def feedforward(self, inputs):\n",
        "\n",
        "\n",
        "    total = np.dot(self.weights, inputs) + self.bias\n",
        "\n",
        "    return sigmoid(total)\n",
        "\n",
        "\n",
        "weights = np.array([0, 1]) # w1 = 0, w2 = 1\n",
        "\n",
        "bias = 4                   # c = 4\n",
        "\n",
        "n = Neuron(weights, bias)\n",
        "\n",
        "\n",
        "x = np.array([2, 3])       # x = 2, y = 3\n",
        "\n",
        "print(n.feedforward(x))    # 0.9990889488055994"
      ],
      "execution_count": 1,
      "outputs": [
        {
          "output_type": "stream",
          "text": [
            "0.9990889488055994\n"
          ],
          "name": "stdout"
        }
      ]
    },
    {
      "cell_type": "code",
      "metadata": {
        "colab": {
          "base_uri": "https://localhost:8080/"
        },
        "id": "13yzyQUu--Ze",
        "outputId": "11b1b10d-f811-47fc-8f04-c89516290612"
      },
      "source": [
        "import numpy as np\n",
        "\n",
        "\n",
        "class OurNeuralNetwork:\n",
        "\n",
        "  '''\n",
        "\n",
        "  Данные нейросети:\n",
        "\n",
        "    - два входа\n",
        "\n",
        "    - два нейрона в скрытых слоях (h1, h2)\n",
        "\n",
        "    - выход (o1)\n",
        "\n",
        "  Нейроны имеют идентичные веса и пороги:\n",
        "\n",
        "    - w = [0, 1]\n",
        "\n",
        "    - b = 0\n",
        "\n",
        "  '''\n",
        "\n",
        "  def __init__(self):\n",
        "\n",
        "    weights = np.array([0, 1])\n",
        "\n",
        "    bias = 0\n",
        "\n",
        "\n",
        "\n",
        "    # Класс Neuron из предыдущего раздела\n",
        "\n",
        "    self.h1 = Neuron(weights, bias)\n",
        "\n",
        "    self.h2 = Neuron(weights, bias)\n",
        "\n",
        "    self.o1 = Neuron(weights, bias)\n",
        "\n",
        "\n",
        "\n",
        "  def feedforward(self, x):\n",
        "\n",
        "    out_h1 = self.h1.feedforward(x)\n",
        "\n",
        "    out_h2 = self.h2.feedforward(x)\n",
        "\n",
        "\n",
        "\n",
        "    # Входы для o1 — это выходы h1 и h2\n",
        "\n",
        "    out_o1 = self.o1.feedforward(np.array([out_h1, out_h2]))\n",
        "\n",
        "\n",
        "\n",
        "    return out_o1\n",
        "\n",
        "\n",
        "\n",
        "network = OurNeuralNetwork()\n",
        "\n",
        "x = np.array([2, 3])\n",
        "\n",
        "print(network.feedforward(x)) # 0.7216325609518421"
      ],
      "execution_count": 2,
      "outputs": [
        {
          "output_type": "stream",
          "text": [
            "0.7216325609518421\n"
          ],
          "name": "stdout"
        }
      ]
    },
    {
      "cell_type": "code",
      "metadata": {
        "id": "Kg5JBydw_nV0"
      },
      "source": [
        "class NeuralNetwork:\n",
        "\n",
        "    def __init__(self, x, y):\n",
        "\n",
        "        self.input      = x\n",
        "\n",
        "        self.weights1   = np.random.rand(self.input.shape[1],4) \n",
        "\n",
        "        self.weights2   = np.random.rand(4,1)                 \n",
        "\n",
        "        self.y          = y\n",
        "\n",
        "        self.output     = np.zeros(self.y.shape)\n",
        "\n",
        "\n",
        "    def feedforward(self):\n",
        "\n",
        "        self.layer1 = sigmoid(np.dot(self.input, self.weights1))\n",
        "\n",
        "        self.output = sigmoid(np.dot(self.layer1, self.weights2))"
      ],
      "execution_count": 4,
      "outputs": []
    },
    {
      "cell_type": "code",
      "metadata": {
        "id": "TUeikjOk_veD"
      },
      "source": [
        "class NeuralNetwork:\n",
        "\n",
        "    def __init__(self, x, y):\n",
        "\n",
        "        self.input      = x\n",
        "\n",
        "        self.weights1   = np.random.rand(self.input.shape[1],4) \n",
        "\n",
        "        self.weights2   = np.random.rand(4,1)                 \n",
        "\n",
        "        self.y          = y\n",
        "\n",
        "        self.output     = np.zeros(self.y.shape)\n",
        "\n",
        "\n",
        "\n",
        "    def feedforward(self):\n",
        "\n",
        "        self.layer1 = sigmoid(np.dot(self.input, self.weights1))\n",
        "\n",
        "        self.output = sigmoid(np.dot(self.layer1, self.weights2))\n",
        "\n",
        "\n",
        "\n",
        "    def backprop(self):\n",
        "\n",
        "        # application of the chain rule to find derivative of the loss function with respect to weights2 and weights1\n",
        "\n",
        "        d_weights2 = np.dot(self.layer1.T, (2*(self.y - self.output) * sigmoid_derivative(self.output)))\n",
        "\n",
        "        d_weights1 = np.dot(self.input.T,  (np.dot(2*(self.y - self.output) * sigmoid_derivative(self.output), self.weights2.T) * sigmoid_derivative(self.layer1)))\n",
        "\n",
        "\n",
        "\n",
        "        # update the weights with the derivative (slope) of the loss function\n",
        "\n",
        "        self.weights1 += d_weights1\n",
        "\n",
        "        self.weights2 += d_weights2"
      ],
      "execution_count": 5,
      "outputs": []
    }
  ]
}