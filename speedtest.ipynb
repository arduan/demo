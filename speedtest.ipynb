{
  "nbformat": 4,
  "nbformat_minor": 0,
  "metadata": {
    "colab": {
      "name": "speedtest.ipynb",
      "provenance": [],
      "authorship_tag": "ABX9TyNCFQUNfkGhLB7vnjxYn2ds",
      "include_colab_link": true
    },
    "kernelspec": {
      "name": "python3",
      "display_name": "Python 3"
    },
    "language_info": {
      "name": "python"
    }
  },
  "cells": [
    {
      "cell_type": "markdown",
      "metadata": {
        "id": "view-in-github",
        "colab_type": "text"
      },
      "source": [
        "<a href=\"https://colab.research.google.com/github/arduan/demo/blob/master/speedtest.ipynb\" target=\"_parent\"><img src=\"https://colab.research.google.com/assets/colab-badge.svg\" alt=\"Open In Colab\"/></a>"
      ]
    },
    {
      "cell_type": "code",
      "metadata": {
        "colab": {
          "base_uri": "https://localhost:8080/"
        },
        "id": "tZpHakOFc19J",
        "outputId": "9b8e1c20-8e73-4a7c-ffd9-e766946d00ff"
      },
      "source": [
        "# Проверка скорости интернета\n",
        " \n",
        "#  Методы отдают результат в байтах, \n",
        "# поэтому для наглядности в примере я перевел все данные в мегабайты при выводе.\n",
        "!pip install speedtest-cli\n",
        "import speedtest\n",
        "st = speedtest.Speedtest()\n",
        "download_speed = st.download()\n",
        "print(download_speed / (2 ** 20))\n"
      ],
      "execution_count": 7,
      "outputs": [
        {
          "output_type": "stream",
          "name": "stdout",
          "text": [
            "Requirement already satisfied: speedtest-cli in /usr/local/lib/python3.7/dist-packages (2.1.3)\n",
            "1254.0686975128674\n"
          ]
        }
      ]
    }
  ]
}